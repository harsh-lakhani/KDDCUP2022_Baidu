{
  "cells": [
    {
      "cell_type": "markdown",
      "metadata": {
        "id": "ngz1-kobG8Gv"
      },
      "source": [
        "1. Loading Data\n",
        "2. Preprocessing\n",
        " - Deal with Zero Vales\n",
        " - Deal with Missing Values\n",
        " - Deal with Unknown/Abnormal Values\n",
        " - EDA + Dimension Reduction\n",
        " - Deal with Time Stamp column\n",
        " - Deal with Turbine ID column\n",
        " - PCA\n",
        "3. Model\n",
        "4. Evaluation"
      ],
      "id": "ngz1-kobG8Gv"
    },
    {
      "cell_type": "markdown",
      "metadata": {
        "id": "KrlXWXX_82rr"
      },
      "source": [
        "# Loading Data"
      ],
      "id": "KrlXWXX_82rr"
    },
    {
      "cell_type": "code",
      "execution_count": null,
      "metadata": {
        "colab": {
          "base_uri": "https://localhost:8080/"
        },
        "id": "Sn84KwDg7lS8",
        "outputId": "73ed09d4-948b-4816-c8ab-586ae5db7b8c"
      },
      "outputs": [
        {
          "output_type": "stream",
          "name": "stdout",
          "text": [
            "Mounted at /content/drive\n"
          ]
        }
      ],
      "source": [
        "from google.colab import drive\n",
        "drive.mount('/content/drive')"
      ],
      "id": "Sn84KwDg7lS8"
    },
    {
      "cell_type": "code",
      "execution_count": null,
      "metadata": {
        "id": "eda4855e"
      },
      "outputs": [],
      "source": [
        "import pandas as pd\n",
        "import numpy as np\n",
        "\n",
        "# Load the data\n",
        "df = pd.read_csv('/content/drive/MyDrive/5002 Project/data/wtbdata_245days.csv')"
      ],
      "id": "eda4855e"
    },
    {
      "cell_type": "code",
      "execution_count": null,
      "metadata": {
        "id": "0138ca7d-fcf8-47de-a99d-73de8faf57cf"
      },
      "outputs": [],
      "source": [
        "# Load spatial information dataset\n",
        "df2 = pd.read_csv('/content/drive/MyDrive/5002 Project/data/sdwpf_baidukddcup2022_turb_location.CSV', index_col = 0)"
      ],
      "id": "0138ca7d-fcf8-47de-a99d-73de8faf57cf"
    },
    {
      "cell_type": "code",
      "execution_count": null,
      "metadata": {
        "id": "ee822350-0829-4d16-8ba5-1e8cd79e321f"
      },
      "outputs": [],
      "source": [
        "# Merge dfs\n",
        "df = pd.merge(df, df2, on=\"TurbID\")"
      ],
      "id": "ee822350-0829-4d16-8ba5-1e8cd79e321f"
    },
    {
      "cell_type": "markdown",
      "metadata": {
        "id": "i5eqUJS_8-JU"
      },
      "source": [
        "# Preprocessing"
      ],
      "id": "i5eqUJS_8-JU"
    },
    {
      "cell_type": "markdown",
      "metadata": {
        "id": "_4sjTCvj4Kao"
      },
      "source": [
        "## Zero Values"
      ],
      "id": "_4sjTCvj4Kao"
    },
    {
      "cell_type": "markdown",
      "metadata": {
        "id": "Boi3xsDBI2wg"
      },
      "source": [
        "Some preprocessing based on the guidelines in the original paper"
      ],
      "id": "Boi3xsDBI2wg"
    },
    {
      "cell_type": "code",
      "execution_count": null,
      "metadata": {
        "id": "1OI1IUkyJO9g"
      },
      "outputs": [],
      "source": [
        "# Zero values\n",
        "# Simply treat all the values which are smaller than 0 as 0, i.e. if 𝑃𝑎𝑡𝑣 < 0, then 𝑃𝑎𝑡𝑣 = 0\n",
        "df['Prtv'] = df['Prtv'].apply(lambda x: 0 if x < 0 else x)\n",
        "df['Patv'] = df['Patv'].apply(lambda x: 0 if x < 0 else x)"
      ],
      "id": "1OI1IUkyJO9g"
    },
    {
      "cell_type": "markdown",
      "metadata": {
        "id": "kjcBhjIf4MzK"
      },
      "source": [
        "## Dealing with Missing / Unknown / Abnormal Values"
      ],
      "id": "kjcBhjIf4MzK"
    },
    {
      "cell_type": "markdown",
      "metadata": {
        "id": "VDoTrIVS3fpD"
      },
      "source": [
        "### Missing Values"
      ],
      "id": "VDoTrIVS3fpD"
    },
    {
      "cell_type": "markdown",
      "metadata": {
        "id": "E_HN-aN_CjAj"
      },
      "source": [
        "We have two options to deal with Missing Values:\n",
        "1. Fill these values with the neighboring turbine.\n",
        "2. Fill these values with linear interpolation."
      ],
      "id": "E_HN-aN_CjAj"
    },
    {
      "cell_type": "markdown",
      "metadata": {
        "id": "aHAKhHVuHFas"
      },
      "source": [
        "We create a column to indicate when a particular row contains missing values."
      ],
      "id": "aHAKhHVuHFas"
    },
    {
      "cell_type": "code",
      "execution_count": null,
      "metadata": {
        "id": "W6W1LwRfHBWq"
      },
      "outputs": [],
      "source": [
        "# Create columns to indicate - Missing values\n",
        "df['Missing'] = 0\n",
        "df.loc[(df.isnull().any(axis=1)), ['Missing']] = (1)"
      ],
      "id": "W6W1LwRfHBWq"
    },
    {
      "cell_type": "code",
      "execution_count": null,
      "metadata": {
        "colab": {
          "base_uri": "https://localhost:8080/"
        },
        "id": "4s1_u7Ru-acI",
        "outputId": "3c40feed-5b22-42c7-f7bd-31f721d8d89f"
      },
      "outputs": [
        {
          "output_type": "execute_result",
          "data": {
            "text/plain": [
              "TurbID         0\n",
              "Day            0\n",
              "Tmstamp        0\n",
              "Wspd       49518\n",
              "Wdir       49518\n",
              "Etmp       49518\n",
              "Itmp       49518\n",
              "Ndir       49518\n",
              "Pab1       49518\n",
              "Pab2       49518\n",
              "Pab3       49518\n",
              "Prtv       49518\n",
              "Patv       49518\n",
              "x              0\n",
              "y              0\n",
              "Missing        0\n",
              "dtype: int64"
            ]
          },
          "metadata": {},
          "execution_count": 25
        }
      ],
      "source": [
        "# Number of null values\n",
        "df.isna().sum()"
      ],
      "id": "4s1_u7Ru-acI"
    },
    {
      "cell_type": "code",
      "execution_count": null,
      "metadata": {
        "colab": {
          "base_uri": "https://localhost:8080/"
        },
        "id": "iL6rnEvR0Vvj",
        "outputId": "009a567a-126d-47ef-eba9-07e0778a4484"
      },
      "outputs": [
        {
          "output_type": "execute_result",
          "data": {
            "text/plain": [
              "array(['00:00', '15:40', '15:00', '20:10', '21:00', '23:20', '23:30',\n",
              "       '23:40', '23:50', '00:10', '00:20', '00:30', '00:40', '00:50',\n",
              "       '01:00', '01:10', '01:20', '01:30', '01:40', '01:50', '02:00',\n",
              "       '02:10', '02:20', '02:30', '02:40', '02:50', '03:00', '03:10',\n",
              "       '03:20', '03:30', '03:40', '03:50', '04:00', '04:10', '04:20',\n",
              "       '04:30', '04:40', '04:50', '05:00', '05:10', '05:20', '05:30',\n",
              "       '05:40', '05:50', '06:00', '06:10', '06:20', '06:30', '06:40',\n",
              "       '06:50', '07:00', '07:10', '07:20', '07:30', '07:40', '07:50',\n",
              "       '08:00', '08:10', '08:20', '08:30', '08:40', '08:50', '09:00',\n",
              "       '09:10', '09:20', '09:30', '09:40', '09:50', '10:00', '10:10',\n",
              "       '10:20', '10:30', '10:40', '10:50', '11:00', '11:10', '11:20',\n",
              "       '11:30', '11:40', '11:50', '12:00', '12:10', '12:20', '12:30',\n",
              "       '12:40', '12:50', '13:00', '13:10', '13:20', '13:30', '13:40',\n",
              "       '13:50', '14:00', '14:10', '14:20', '14:30', '14:40', '14:50',\n",
              "       '15:10', '15:20', '15:30', '15:50', '16:00', '16:10', '16:20',\n",
              "       '16:30', '16:40', '16:50', '17:00', '17:10', '17:20', '17:30',\n",
              "       '17:40', '17:50', '18:00', '18:10', '18:20', '18:30', '18:40',\n",
              "       '18:50', '19:00', '19:10', '19:20', '19:30', '19:40', '19:50',\n",
              "       '20:00', '20:20', '20:30', '20:40', '20:50', '21:10', '21:20',\n",
              "       '21:30', '21:40', '21:50', '22:00', '22:10', '22:20', '22:30',\n",
              "       '22:40', '22:50', '23:00', '23:10'], dtype=object)"
            ]
          },
          "metadata": {},
          "execution_count": 26
        }
      ],
      "source": [
        "# Select only the rows containing missing values to investigate further\n",
        "missing_rows = df[df['Missing'] == 1]\n",
        "\n",
        "missing_rows[\"Tmstamp\"].unique()"
      ],
      "id": "iL6rnEvR0Vvj"
    },
    {
      "cell_type": "markdown",
      "metadata": {
        "id": "hqshknlF3T9M"
      },
      "source": [
        "Looks like there are missing values for almost every time stamp, lets see whether it could be only one turbine that is faulty and thats why has these missing values."
      ],
      "id": "hqshknlF3T9M"
    },
    {
      "cell_type": "code",
      "execution_count": null,
      "metadata": {
        "colab": {
          "base_uri": "https://localhost:8080/",
          "height": 411
        },
        "id": "WKed0xDi3lka",
        "outputId": "83e86711-68ee-4990-94bf-54286b06993b"
      },
      "outputs": [
        {
          "output_type": "execute_result",
          "data": {
            "text/plain": [
              "         TurbID  Day Tmstamp  Wspd  Wdir  Etmp  Itmp  Ndir  Pab1  Pab2  Pab3  \\\n",
              "9451          1   66   15:10   NaN   NaN   NaN   NaN   NaN   NaN   NaN   NaN   \n",
              "18091         1  126   15:10   NaN   NaN   NaN   NaN   NaN   NaN   NaN   NaN   \n",
              "28891         1  201   15:10   NaN   NaN   NaN   NaN   NaN   NaN   NaN   NaN   \n",
              "44731         2   66   15:10   NaN   NaN   NaN   NaN   NaN   NaN   NaN   NaN   \n",
              "44875         2   67   15:10   NaN   NaN   NaN   NaN   NaN   NaN   NaN   NaN   \n",
              "...         ...  ...     ...   ...   ...   ...   ...   ...   ...   ...   ...   \n",
              "4595995     131   67   15:10   NaN   NaN   NaN   NaN   NaN   NaN   NaN   NaN   \n",
              "4631131     132   66   15:10   NaN   NaN   NaN   NaN   NaN   NaN   NaN   NaN   \n",
              "4666411     133   66   15:10   NaN   NaN   NaN   NaN   NaN   NaN   NaN   NaN   \n",
              "4701691     134   66   15:10   NaN   NaN   NaN   NaN   NaN   NaN   NaN   NaN   \n",
              "4701835     134   67   15:10   NaN   NaN   NaN   NaN   NaN   NaN   NaN   NaN   \n",
              "\n",
              "         Prtv  Patv          x           y  Missing  \n",
              "9451      NaN   NaN  3349.8515  5939.23193        1  \n",
              "18091     NaN   NaN  3349.8515  5939.23193        1  \n",
              "28891     NaN   NaN  3349.8515  5939.23193        1  \n",
              "44731     NaN   NaN  3351.0017  6416.64673        1  \n",
              "44875     NaN   NaN  3351.0017  6416.64673        1  \n",
              "...       ...   ...        ...         ...      ...  \n",
              "4595995   NaN   NaN    23.3458  5284.65439        1  \n",
              "4631131   NaN   NaN    62.6774  5749.90633        1  \n",
              "4666411   NaN   NaN    78.4309  6231.32903        1  \n",
              "4701691   NaN   NaN    11.3385  6713.46517        1  \n",
              "4701835   NaN   NaN    11.3385  6713.46517        1  \n",
              "\n",
              "[342 rows x 16 columns]"
            ],
            "text/html": [
              "\n",
              "  <div id=\"df-1c84b823-1375-4523-ba77-7a220ce86944\">\n",
              "    <div class=\"colab-df-container\">\n",
              "      <div>\n",
              "<style scoped>\n",
              "    .dataframe tbody tr th:only-of-type {\n",
              "        vertical-align: middle;\n",
              "    }\n",
              "\n",
              "    .dataframe tbody tr th {\n",
              "        vertical-align: top;\n",
              "    }\n",
              "\n",
              "    .dataframe thead th {\n",
              "        text-align: right;\n",
              "    }\n",
              "</style>\n",
              "<table border=\"1\" class=\"dataframe\">\n",
              "  <thead>\n",
              "    <tr style=\"text-align: right;\">\n",
              "      <th></th>\n",
              "      <th>TurbID</th>\n",
              "      <th>Day</th>\n",
              "      <th>Tmstamp</th>\n",
              "      <th>Wspd</th>\n",
              "      <th>Wdir</th>\n",
              "      <th>Etmp</th>\n",
              "      <th>Itmp</th>\n",
              "      <th>Ndir</th>\n",
              "      <th>Pab1</th>\n",
              "      <th>Pab2</th>\n",
              "      <th>Pab3</th>\n",
              "      <th>Prtv</th>\n",
              "      <th>Patv</th>\n",
              "      <th>x</th>\n",
              "      <th>y</th>\n",
              "      <th>Missing</th>\n",
              "    </tr>\n",
              "  </thead>\n",
              "  <tbody>\n",
              "    <tr>\n",
              "      <th>9451</th>\n",
              "      <td>1</td>\n",
              "      <td>66</td>\n",
              "      <td>15:10</td>\n",
              "      <td>NaN</td>\n",
              "      <td>NaN</td>\n",
              "      <td>NaN</td>\n",
              "      <td>NaN</td>\n",
              "      <td>NaN</td>\n",
              "      <td>NaN</td>\n",
              "      <td>NaN</td>\n",
              "      <td>NaN</td>\n",
              "      <td>NaN</td>\n",
              "      <td>NaN</td>\n",
              "      <td>3349.8515</td>\n",
              "      <td>5939.23193</td>\n",
              "      <td>1</td>\n",
              "    </tr>\n",
              "    <tr>\n",
              "      <th>18091</th>\n",
              "      <td>1</td>\n",
              "      <td>126</td>\n",
              "      <td>15:10</td>\n",
              "      <td>NaN</td>\n",
              "      <td>NaN</td>\n",
              "      <td>NaN</td>\n",
              "      <td>NaN</td>\n",
              "      <td>NaN</td>\n",
              "      <td>NaN</td>\n",
              "      <td>NaN</td>\n",
              "      <td>NaN</td>\n",
              "      <td>NaN</td>\n",
              "      <td>NaN</td>\n",
              "      <td>3349.8515</td>\n",
              "      <td>5939.23193</td>\n",
              "      <td>1</td>\n",
              "    </tr>\n",
              "    <tr>\n",
              "      <th>28891</th>\n",
              "      <td>1</td>\n",
              "      <td>201</td>\n",
              "      <td>15:10</td>\n",
              "      <td>NaN</td>\n",
              "      <td>NaN</td>\n",
              "      <td>NaN</td>\n",
              "      <td>NaN</td>\n",
              "      <td>NaN</td>\n",
              "      <td>NaN</td>\n",
              "      <td>NaN</td>\n",
              "      <td>NaN</td>\n",
              "      <td>NaN</td>\n",
              "      <td>NaN</td>\n",
              "      <td>3349.8515</td>\n",
              "      <td>5939.23193</td>\n",
              "      <td>1</td>\n",
              "    </tr>\n",
              "    <tr>\n",
              "      <th>44731</th>\n",
              "      <td>2</td>\n",
              "      <td>66</td>\n",
              "      <td>15:10</td>\n",
              "      <td>NaN</td>\n",
              "      <td>NaN</td>\n",
              "      <td>NaN</td>\n",
              "      <td>NaN</td>\n",
              "      <td>NaN</td>\n",
              "      <td>NaN</td>\n",
              "      <td>NaN</td>\n",
              "      <td>NaN</td>\n",
              "      <td>NaN</td>\n",
              "      <td>NaN</td>\n",
              "      <td>3351.0017</td>\n",
              "      <td>6416.64673</td>\n",
              "      <td>1</td>\n",
              "    </tr>\n",
              "    <tr>\n",
              "      <th>44875</th>\n",
              "      <td>2</td>\n",
              "      <td>67</td>\n",
              "      <td>15:10</td>\n",
              "      <td>NaN</td>\n",
              "      <td>NaN</td>\n",
              "      <td>NaN</td>\n",
              "      <td>NaN</td>\n",
              "      <td>NaN</td>\n",
              "      <td>NaN</td>\n",
              "      <td>NaN</td>\n",
              "      <td>NaN</td>\n",
              "      <td>NaN</td>\n",
              "      <td>NaN</td>\n",
              "      <td>3351.0017</td>\n",
              "      <td>6416.64673</td>\n",
              "      <td>1</td>\n",
              "    </tr>\n",
              "    <tr>\n",
              "      <th>...</th>\n",
              "      <td>...</td>\n",
              "      <td>...</td>\n",
              "      <td>...</td>\n",
              "      <td>...</td>\n",
              "      <td>...</td>\n",
              "      <td>...</td>\n",
              "      <td>...</td>\n",
              "      <td>...</td>\n",
              "      <td>...</td>\n",
              "      <td>...</td>\n",
              "      <td>...</td>\n",
              "      <td>...</td>\n",
              "      <td>...</td>\n",
              "      <td>...</td>\n",
              "      <td>...</td>\n",
              "      <td>...</td>\n",
              "    </tr>\n",
              "    <tr>\n",
              "      <th>4595995</th>\n",
              "      <td>131</td>\n",
              "      <td>67</td>\n",
              "      <td>15:10</td>\n",
              "      <td>NaN</td>\n",
              "      <td>NaN</td>\n",
              "      <td>NaN</td>\n",
              "      <td>NaN</td>\n",
              "      <td>NaN</td>\n",
              "      <td>NaN</td>\n",
              "      <td>NaN</td>\n",
              "      <td>NaN</td>\n",
              "      <td>NaN</td>\n",
              "      <td>NaN</td>\n",
              "      <td>23.3458</td>\n",
              "      <td>5284.65439</td>\n",
              "      <td>1</td>\n",
              "    </tr>\n",
              "    <tr>\n",
              "      <th>4631131</th>\n",
              "      <td>132</td>\n",
              "      <td>66</td>\n",
              "      <td>15:10</td>\n",
              "      <td>NaN</td>\n",
              "      <td>NaN</td>\n",
              "      <td>NaN</td>\n",
              "      <td>NaN</td>\n",
              "      <td>NaN</td>\n",
              "      <td>NaN</td>\n",
              "      <td>NaN</td>\n",
              "      <td>NaN</td>\n",
              "      <td>NaN</td>\n",
              "      <td>NaN</td>\n",
              "      <td>62.6774</td>\n",
              "      <td>5749.90633</td>\n",
              "      <td>1</td>\n",
              "    </tr>\n",
              "    <tr>\n",
              "      <th>4666411</th>\n",
              "      <td>133</td>\n",
              "      <td>66</td>\n",
              "      <td>15:10</td>\n",
              "      <td>NaN</td>\n",
              "      <td>NaN</td>\n",
              "      <td>NaN</td>\n",
              "      <td>NaN</td>\n",
              "      <td>NaN</td>\n",
              "      <td>NaN</td>\n",
              "      <td>NaN</td>\n",
              "      <td>NaN</td>\n",
              "      <td>NaN</td>\n",
              "      <td>NaN</td>\n",
              "      <td>78.4309</td>\n",
              "      <td>6231.32903</td>\n",
              "      <td>1</td>\n",
              "    </tr>\n",
              "    <tr>\n",
              "      <th>4701691</th>\n",
              "      <td>134</td>\n",
              "      <td>66</td>\n",
              "      <td>15:10</td>\n",
              "      <td>NaN</td>\n",
              "      <td>NaN</td>\n",
              "      <td>NaN</td>\n",
              "      <td>NaN</td>\n",
              "      <td>NaN</td>\n",
              "      <td>NaN</td>\n",
              "      <td>NaN</td>\n",
              "      <td>NaN</td>\n",
              "      <td>NaN</td>\n",
              "      <td>NaN</td>\n",
              "      <td>11.3385</td>\n",
              "      <td>6713.46517</td>\n",
              "      <td>1</td>\n",
              "    </tr>\n",
              "    <tr>\n",
              "      <th>4701835</th>\n",
              "      <td>134</td>\n",
              "      <td>67</td>\n",
              "      <td>15:10</td>\n",
              "      <td>NaN</td>\n",
              "      <td>NaN</td>\n",
              "      <td>NaN</td>\n",
              "      <td>NaN</td>\n",
              "      <td>NaN</td>\n",
              "      <td>NaN</td>\n",
              "      <td>NaN</td>\n",
              "      <td>NaN</td>\n",
              "      <td>NaN</td>\n",
              "      <td>NaN</td>\n",
              "      <td>11.3385</td>\n",
              "      <td>6713.46517</td>\n",
              "      <td>1</td>\n",
              "    </tr>\n",
              "  </tbody>\n",
              "</table>\n",
              "<p>342 rows × 16 columns</p>\n",
              "</div>\n",
              "      <button class=\"colab-df-convert\" onclick=\"convertToInteractive('df-1c84b823-1375-4523-ba77-7a220ce86944')\"\n",
              "              title=\"Convert this dataframe to an interactive table.\"\n",
              "              style=\"display:none;\">\n",
              "        \n",
              "  <svg xmlns=\"http://www.w3.org/2000/svg\" height=\"24px\"viewBox=\"0 0 24 24\"\n",
              "       width=\"24px\">\n",
              "    <path d=\"M0 0h24v24H0V0z\" fill=\"none\"/>\n",
              "    <path d=\"M18.56 5.44l.94 2.06.94-2.06 2.06-.94-2.06-.94-.94-2.06-.94 2.06-2.06.94zm-11 1L8.5 8.5l.94-2.06 2.06-.94-2.06-.94L8.5 2.5l-.94 2.06-2.06.94zm10 10l.94 2.06.94-2.06 2.06-.94-2.06-.94-.94-2.06-.94 2.06-2.06.94z\"/><path d=\"M17.41 7.96l-1.37-1.37c-.4-.4-.92-.59-1.43-.59-.52 0-1.04.2-1.43.59L10.3 9.45l-7.72 7.72c-.78.78-.78 2.05 0 2.83L4 21.41c.39.39.9.59 1.41.59.51 0 1.02-.2 1.41-.59l7.78-7.78 2.81-2.81c.8-.78.8-2.07 0-2.86zM5.41 20L4 18.59l7.72-7.72 1.47 1.35L5.41 20z\"/>\n",
              "  </svg>\n",
              "      </button>\n",
              "      \n",
              "  <style>\n",
              "    .colab-df-container {\n",
              "      display:flex;\n",
              "      flex-wrap:wrap;\n",
              "      gap: 12px;\n",
              "    }\n",
              "\n",
              "    .colab-df-convert {\n",
              "      background-color: #E8F0FE;\n",
              "      border: none;\n",
              "      border-radius: 50%;\n",
              "      cursor: pointer;\n",
              "      display: none;\n",
              "      fill: #1967D2;\n",
              "      height: 32px;\n",
              "      padding: 0 0 0 0;\n",
              "      width: 32px;\n",
              "    }\n",
              "\n",
              "    .colab-df-convert:hover {\n",
              "      background-color: #E2EBFA;\n",
              "      box-shadow: 0px 1px 2px rgba(60, 64, 67, 0.3), 0px 1px 3px 1px rgba(60, 64, 67, 0.15);\n",
              "      fill: #174EA6;\n",
              "    }\n",
              "\n",
              "    [theme=dark] .colab-df-convert {\n",
              "      background-color: #3B4455;\n",
              "      fill: #D2E3FC;\n",
              "    }\n",
              "\n",
              "    [theme=dark] .colab-df-convert:hover {\n",
              "      background-color: #434B5C;\n",
              "      box-shadow: 0px 1px 3px 1px rgba(0, 0, 0, 0.15);\n",
              "      filter: drop-shadow(0px 1px 2px rgba(0, 0, 0, 0.3));\n",
              "      fill: #FFFFFF;\n",
              "    }\n",
              "  </style>\n",
              "\n",
              "      <script>\n",
              "        const buttonEl =\n",
              "          document.querySelector('#df-1c84b823-1375-4523-ba77-7a220ce86944 button.colab-df-convert');\n",
              "        buttonEl.style.display =\n",
              "          google.colab.kernel.accessAllowed ? 'block' : 'none';\n",
              "\n",
              "        async function convertToInteractive(key) {\n",
              "          const element = document.querySelector('#df-1c84b823-1375-4523-ba77-7a220ce86944');\n",
              "          const dataTable =\n",
              "            await google.colab.kernel.invokeFunction('convertToInteractive',\n",
              "                                                     [key], {});\n",
              "          if (!dataTable) return;\n",
              "\n",
              "          const docLinkHtml = 'Like what you see? Visit the ' +\n",
              "            '<a target=\"_blank\" href=https://colab.research.google.com/notebooks/data_table.ipynb>data table notebook</a>'\n",
              "            + ' to learn more about interactive tables.';\n",
              "          element.innerHTML = '';\n",
              "          dataTable['output_type'] = 'display_data';\n",
              "          await google.colab.output.renderOutput(dataTable, element);\n",
              "          const docLink = document.createElement('div');\n",
              "          docLink.innerHTML = docLinkHtml;\n",
              "          element.appendChild(docLink);\n",
              "        }\n",
              "      </script>\n",
              "    </div>\n",
              "  </div>\n",
              "  "
            ]
          },
          "metadata": {},
          "execution_count": 27
        }
      ],
      "source": [
        "# Check for a random timestamp if there are only missing values for a single turbine or multiple\n",
        "missing_rows[missing_rows[\"Tmstamp\"]==\"15:10\"]"
      ],
      "id": "WKed0xDi3lka"
    },
    {
      "cell_type": "markdown",
      "metadata": {
        "id": "Sv9hW0N53pMG"
      },
      "source": [
        "No. It looks like there are multiple turbines that have missing values at a given time stamp. We cannot drop the NA values because it will break the time-series sequence. It would also not make sense to set them to 0. Therefore, let's attempt to fill in the missing values with the nearest Turbine's value for any given time stamp."
      ],
      "id": "Sv9hW0N53pMG"
    },
    {
      "cell_type": "markdown",
      "metadata": {
        "id": "5xsY2rwqF1ep"
      },
      "source": [
        "#### Nearest Neighbour to fill Missing values"
      ],
      "id": "5xsY2rwqF1ep"
    },
    {
      "cell_type": "code",
      "execution_count": null,
      "metadata": {
        "colab": {
          "base_uri": "https://localhost:8080/",
          "height": 411
        },
        "id": "U85qgnK6F0Tm",
        "outputId": "2a2a20a2-af33-413a-d545-e3c725ebddf1"
      },
      "outputs": [
        {
          "output_type": "execute_result",
          "data": {
            "text/plain": [
              "     TurbID  ClosestNeighbor\n",
              "0         1               24\n",
              "1         2                3\n",
              "2         3                4\n",
              "3         4                5\n",
              "4         5                4\n",
              "..      ...              ...\n",
              "129     130              131\n",
              "130     131              132\n",
              "131     132              131\n",
              "132     133              132\n",
              "133     134              113\n",
              "\n",
              "[134 rows x 2 columns]"
            ],
            "text/html": [
              "\n",
              "  <div id=\"df-8d4fa436-ea0f-4473-8f25-bacdec6bd681\">\n",
              "    <div class=\"colab-df-container\">\n",
              "      <div>\n",
              "<style scoped>\n",
              "    .dataframe tbody tr th:only-of-type {\n",
              "        vertical-align: middle;\n",
              "    }\n",
              "\n",
              "    .dataframe tbody tr th {\n",
              "        vertical-align: top;\n",
              "    }\n",
              "\n",
              "    .dataframe thead th {\n",
              "        text-align: right;\n",
              "    }\n",
              "</style>\n",
              "<table border=\"1\" class=\"dataframe\">\n",
              "  <thead>\n",
              "    <tr style=\"text-align: right;\">\n",
              "      <th></th>\n",
              "      <th>TurbID</th>\n",
              "      <th>ClosestNeighbor</th>\n",
              "    </tr>\n",
              "  </thead>\n",
              "  <tbody>\n",
              "    <tr>\n",
              "      <th>0</th>\n",
              "      <td>1</td>\n",
              "      <td>24</td>\n",
              "    </tr>\n",
              "    <tr>\n",
              "      <th>1</th>\n",
              "      <td>2</td>\n",
              "      <td>3</td>\n",
              "    </tr>\n",
              "    <tr>\n",
              "      <th>2</th>\n",
              "      <td>3</td>\n",
              "      <td>4</td>\n",
              "    </tr>\n",
              "    <tr>\n",
              "      <th>3</th>\n",
              "      <td>4</td>\n",
              "      <td>5</td>\n",
              "    </tr>\n",
              "    <tr>\n",
              "      <th>4</th>\n",
              "      <td>5</td>\n",
              "      <td>4</td>\n",
              "    </tr>\n",
              "    <tr>\n",
              "      <th>...</th>\n",
              "      <td>...</td>\n",
              "      <td>...</td>\n",
              "    </tr>\n",
              "    <tr>\n",
              "      <th>129</th>\n",
              "      <td>130</td>\n",
              "      <td>131</td>\n",
              "    </tr>\n",
              "    <tr>\n",
              "      <th>130</th>\n",
              "      <td>131</td>\n",
              "      <td>132</td>\n",
              "    </tr>\n",
              "    <tr>\n",
              "      <th>131</th>\n",
              "      <td>132</td>\n",
              "      <td>131</td>\n",
              "    </tr>\n",
              "    <tr>\n",
              "      <th>132</th>\n",
              "      <td>133</td>\n",
              "      <td>132</td>\n",
              "    </tr>\n",
              "    <tr>\n",
              "      <th>133</th>\n",
              "      <td>134</td>\n",
              "      <td>113</td>\n",
              "    </tr>\n",
              "  </tbody>\n",
              "</table>\n",
              "<p>134 rows × 2 columns</p>\n",
              "</div>\n",
              "      <button class=\"colab-df-convert\" onclick=\"convertToInteractive('df-8d4fa436-ea0f-4473-8f25-bacdec6bd681')\"\n",
              "              title=\"Convert this dataframe to an interactive table.\"\n",
              "              style=\"display:none;\">\n",
              "        \n",
              "  <svg xmlns=\"http://www.w3.org/2000/svg\" height=\"24px\"viewBox=\"0 0 24 24\"\n",
              "       width=\"24px\">\n",
              "    <path d=\"M0 0h24v24H0V0z\" fill=\"none\"/>\n",
              "    <path d=\"M18.56 5.44l.94 2.06.94-2.06 2.06-.94-2.06-.94-.94-2.06-.94 2.06-2.06.94zm-11 1L8.5 8.5l.94-2.06 2.06-.94-2.06-.94L8.5 2.5l-.94 2.06-2.06.94zm10 10l.94 2.06.94-2.06 2.06-.94-2.06-.94-.94-2.06-.94 2.06-2.06.94z\"/><path d=\"M17.41 7.96l-1.37-1.37c-.4-.4-.92-.59-1.43-.59-.52 0-1.04.2-1.43.59L10.3 9.45l-7.72 7.72c-.78.78-.78 2.05 0 2.83L4 21.41c.39.39.9.59 1.41.59.51 0 1.02-.2 1.41-.59l7.78-7.78 2.81-2.81c.8-.78.8-2.07 0-2.86zM5.41 20L4 18.59l7.72-7.72 1.47 1.35L5.41 20z\"/>\n",
              "  </svg>\n",
              "      </button>\n",
              "      \n",
              "  <style>\n",
              "    .colab-df-container {\n",
              "      display:flex;\n",
              "      flex-wrap:wrap;\n",
              "      gap: 12px;\n",
              "    }\n",
              "\n",
              "    .colab-df-convert {\n",
              "      background-color: #E8F0FE;\n",
              "      border: none;\n",
              "      border-radius: 50%;\n",
              "      cursor: pointer;\n",
              "      display: none;\n",
              "      fill: #1967D2;\n",
              "      height: 32px;\n",
              "      padding: 0 0 0 0;\n",
              "      width: 32px;\n",
              "    }\n",
              "\n",
              "    .colab-df-convert:hover {\n",
              "      background-color: #E2EBFA;\n",
              "      box-shadow: 0px 1px 2px rgba(60, 64, 67, 0.3), 0px 1px 3px 1px rgba(60, 64, 67, 0.15);\n",
              "      fill: #174EA6;\n",
              "    }\n",
              "\n",
              "    [theme=dark] .colab-df-convert {\n",
              "      background-color: #3B4455;\n",
              "      fill: #D2E3FC;\n",
              "    }\n",
              "\n",
              "    [theme=dark] .colab-df-convert:hover {\n",
              "      background-color: #434B5C;\n",
              "      box-shadow: 0px 1px 3px 1px rgba(0, 0, 0, 0.15);\n",
              "      filter: drop-shadow(0px 1px 2px rgba(0, 0, 0, 0.3));\n",
              "      fill: #FFFFFF;\n",
              "    }\n",
              "  </style>\n",
              "\n",
              "      <script>\n",
              "        const buttonEl =\n",
              "          document.querySelector('#df-8d4fa436-ea0f-4473-8f25-bacdec6bd681 button.colab-df-convert');\n",
              "        buttonEl.style.display =\n",
              "          google.colab.kernel.accessAllowed ? 'block' : 'none';\n",
              "\n",
              "        async function convertToInteractive(key) {\n",
              "          const element = document.querySelector('#df-8d4fa436-ea0f-4473-8f25-bacdec6bd681');\n",
              "          const dataTable =\n",
              "            await google.colab.kernel.invokeFunction('convertToInteractive',\n",
              "                                                     [key], {});\n",
              "          if (!dataTable) return;\n",
              "\n",
              "          const docLinkHtml = 'Like what you see? Visit the ' +\n",
              "            '<a target=\"_blank\" href=https://colab.research.google.com/notebooks/data_table.ipynb>data table notebook</a>'\n",
              "            + ' to learn more about interactive tables.';\n",
              "          element.innerHTML = '';\n",
              "          dataTable['output_type'] = 'display_data';\n",
              "          await google.colab.output.renderOutput(dataTable, element);\n",
              "          const docLink = document.createElement('div');\n",
              "          docLink.innerHTML = docLinkHtml;\n",
              "          element.appendChild(docLink);\n",
              "        }\n",
              "      </script>\n",
              "    </div>\n",
              "  </div>\n",
              "  "
            ]
          },
          "metadata": {},
          "execution_count": 28
        }
      ],
      "source": [
        "nn_df = df[['TurbID', 'x', 'y']].drop_duplicates().set_index('TurbID')\n",
        "# Calculate the distances to find closest neighbour\n",
        "from sklearn.metrics.pairwise import euclidean_distances\n",
        "dist_matrix = euclidean_distances(nn_df[['x', 'y']].values)\n",
        "closest_neighbor = dist_matrix.argsort(axis=1)[:, 1]\n",
        "# Create a new df with the closest neighbour \n",
        "df_neighbor = pd.DataFrame({'TurbID': nn_df.index, 'ClosestNeighbor': nn_df.index[closest_neighbor]})\n",
        "df_neighbor "
      ],
      "id": "U85qgnK6F0Tm"
    },
    {
      "cell_type": "code",
      "execution_count": null,
      "metadata": {
        "colab": {
          "base_uri": "https://localhost:8080/",
          "height": 411
        },
        "id": "MkdBJ4wBGwFH",
        "outputId": "79de20f1-b1c0-4b02-e680-995ba61a24d3"
      },
      "outputs": [
        {
          "output_type": "execute_result",
          "data": {
            "text/plain": [
              "         TurbID  Day Tmstamp  Wspd  Wdir   Etmp   Itmp    Ndir  Pab1  Pab2  \\\n",
              "0             1    1   00:00   NaN   NaN    NaN    NaN     NaN   NaN   NaN   \n",
              "1             1    1   00:10  6.17 -3.99  30.73  41.80   25.92  1.00  1.00   \n",
              "2             1    1   00:20  6.27 -2.18  30.60  41.63   20.91  1.00  1.00   \n",
              "3             1    1   00:30  6.42 -0.73  30.52  41.52   20.91  1.00  1.00   \n",
              "4             1    1   00:40  6.25  0.89  30.49  41.38   20.91  1.00  1.00   \n",
              "...         ...  ...     ...   ...   ...    ...    ...     ...   ...   ...   \n",
              "4727515     134  245   23:10  7.79  2.80  -0.07   3.95  216.51  6.03  6.03   \n",
              "4727516     134  245   23:20  8.06  4.39   0.23   3.94  216.51  5.81  5.81   \n",
              "4727517     134  245   23:30  8.08  2.28  -0.16   4.15  216.51  0.68  0.68   \n",
              "4727518     134  245   23:40  8.46  0.80  -0.14   4.32  216.51  0.02  0.02   \n",
              "4727519     134  245   23:50  8.68  0.52  -0.06   4.39  216.51  0.01  0.01   \n",
              "\n",
              "         Pab3  Prtv     Patv          x           y  Missing  ClosestNeighbor  \n",
              "0         NaN   NaN      NaN  3349.8515  5939.23193        1               24  \n",
              "1        1.00   0.0   494.66  3349.8515  5939.23193        0               24  \n",
              "2        1.00   0.0   509.76  3349.8515  5939.23193        0               24  \n",
              "3        1.00   0.0   542.53  3349.8515  5939.23193        0               24  \n",
              "4        1.00   0.0   509.36  3349.8515  5939.23193        0               24  \n",
              "...       ...   ...      ...        ...         ...      ...              ...  \n",
              "4727515  6.03   0.0   601.44    11.3385  6713.46517        0              113  \n",
              "4727516  5.81   0.0   673.79    11.3385  6713.46517        0              113  \n",
              "4727517  0.68   0.0   999.36    11.3385  6713.46517        0              113  \n",
              "4727518  0.02   0.0  1100.89    11.3385  6713.46517        0              113  \n",
              "4727519  0.01   0.0  1181.49    11.3385  6713.46517        0              113  \n",
              "\n",
              "[4727520 rows x 17 columns]"
            ],
            "text/html": [
              "\n",
              "  <div id=\"df-4bbf55d5-1c89-4260-a586-54eb00acf79c\">\n",
              "    <div class=\"colab-df-container\">\n",
              "      <div>\n",
              "<style scoped>\n",
              "    .dataframe tbody tr th:only-of-type {\n",
              "        vertical-align: middle;\n",
              "    }\n",
              "\n",
              "    .dataframe tbody tr th {\n",
              "        vertical-align: top;\n",
              "    }\n",
              "\n",
              "    .dataframe thead th {\n",
              "        text-align: right;\n",
              "    }\n",
              "</style>\n",
              "<table border=\"1\" class=\"dataframe\">\n",
              "  <thead>\n",
              "    <tr style=\"text-align: right;\">\n",
              "      <th></th>\n",
              "      <th>TurbID</th>\n",
              "      <th>Day</th>\n",
              "      <th>Tmstamp</th>\n",
              "      <th>Wspd</th>\n",
              "      <th>Wdir</th>\n",
              "      <th>Etmp</th>\n",
              "      <th>Itmp</th>\n",
              "      <th>Ndir</th>\n",
              "      <th>Pab1</th>\n",
              "      <th>Pab2</th>\n",
              "      <th>Pab3</th>\n",
              "      <th>Prtv</th>\n",
              "      <th>Patv</th>\n",
              "      <th>x</th>\n",
              "      <th>y</th>\n",
              "      <th>Missing</th>\n",
              "      <th>ClosestNeighbor</th>\n",
              "    </tr>\n",
              "  </thead>\n",
              "  <tbody>\n",
              "    <tr>\n",
              "      <th>0</th>\n",
              "      <td>1</td>\n",
              "      <td>1</td>\n",
              "      <td>00:00</td>\n",
              "      <td>NaN</td>\n",
              "      <td>NaN</td>\n",
              "      <td>NaN</td>\n",
              "      <td>NaN</td>\n",
              "      <td>NaN</td>\n",
              "      <td>NaN</td>\n",
              "      <td>NaN</td>\n",
              "      <td>NaN</td>\n",
              "      <td>NaN</td>\n",
              "      <td>NaN</td>\n",
              "      <td>3349.8515</td>\n",
              "      <td>5939.23193</td>\n",
              "      <td>1</td>\n",
              "      <td>24</td>\n",
              "    </tr>\n",
              "    <tr>\n",
              "      <th>1</th>\n",
              "      <td>1</td>\n",
              "      <td>1</td>\n",
              "      <td>00:10</td>\n",
              "      <td>6.17</td>\n",
              "      <td>-3.99</td>\n",
              "      <td>30.73</td>\n",
              "      <td>41.80</td>\n",
              "      <td>25.92</td>\n",
              "      <td>1.00</td>\n",
              "      <td>1.00</td>\n",
              "      <td>1.00</td>\n",
              "      <td>0.0</td>\n",
              "      <td>494.66</td>\n",
              "      <td>3349.8515</td>\n",
              "      <td>5939.23193</td>\n",
              "      <td>0</td>\n",
              "      <td>24</td>\n",
              "    </tr>\n",
              "    <tr>\n",
              "      <th>2</th>\n",
              "      <td>1</td>\n",
              "      <td>1</td>\n",
              "      <td>00:20</td>\n",
              "      <td>6.27</td>\n",
              "      <td>-2.18</td>\n",
              "      <td>30.60</td>\n",
              "      <td>41.63</td>\n",
              "      <td>20.91</td>\n",
              "      <td>1.00</td>\n",
              "      <td>1.00</td>\n",
              "      <td>1.00</td>\n",
              "      <td>0.0</td>\n",
              "      <td>509.76</td>\n",
              "      <td>3349.8515</td>\n",
              "      <td>5939.23193</td>\n",
              "      <td>0</td>\n",
              "      <td>24</td>\n",
              "    </tr>\n",
              "    <tr>\n",
              "      <th>3</th>\n",
              "      <td>1</td>\n",
              "      <td>1</td>\n",
              "      <td>00:30</td>\n",
              "      <td>6.42</td>\n",
              "      <td>-0.73</td>\n",
              "      <td>30.52</td>\n",
              "      <td>41.52</td>\n",
              "      <td>20.91</td>\n",
              "      <td>1.00</td>\n",
              "      <td>1.00</td>\n",
              "      <td>1.00</td>\n",
              "      <td>0.0</td>\n",
              "      <td>542.53</td>\n",
              "      <td>3349.8515</td>\n",
              "      <td>5939.23193</td>\n",
              "      <td>0</td>\n",
              "      <td>24</td>\n",
              "    </tr>\n",
              "    <tr>\n",
              "      <th>4</th>\n",
              "      <td>1</td>\n",
              "      <td>1</td>\n",
              "      <td>00:40</td>\n",
              "      <td>6.25</td>\n",
              "      <td>0.89</td>\n",
              "      <td>30.49</td>\n",
              "      <td>41.38</td>\n",
              "      <td>20.91</td>\n",
              "      <td>1.00</td>\n",
              "      <td>1.00</td>\n",
              "      <td>1.00</td>\n",
              "      <td>0.0</td>\n",
              "      <td>509.36</td>\n",
              "      <td>3349.8515</td>\n",
              "      <td>5939.23193</td>\n",
              "      <td>0</td>\n",
              "      <td>24</td>\n",
              "    </tr>\n",
              "    <tr>\n",
              "      <th>...</th>\n",
              "      <td>...</td>\n",
              "      <td>...</td>\n",
              "      <td>...</td>\n",
              "      <td>...</td>\n",
              "      <td>...</td>\n",
              "      <td>...</td>\n",
              "      <td>...</td>\n",
              "      <td>...</td>\n",
              "      <td>...</td>\n",
              "      <td>...</td>\n",
              "      <td>...</td>\n",
              "      <td>...</td>\n",
              "      <td>...</td>\n",
              "      <td>...</td>\n",
              "      <td>...</td>\n",
              "      <td>...</td>\n",
              "      <td>...</td>\n",
              "    </tr>\n",
              "    <tr>\n",
              "      <th>4727515</th>\n",
              "      <td>134</td>\n",
              "      <td>245</td>\n",
              "      <td>23:10</td>\n",
              "      <td>7.79</td>\n",
              "      <td>2.80</td>\n",
              "      <td>-0.07</td>\n",
              "      <td>3.95</td>\n",
              "      <td>216.51</td>\n",
              "      <td>6.03</td>\n",
              "      <td>6.03</td>\n",
              "      <td>6.03</td>\n",
              "      <td>0.0</td>\n",
              "      <td>601.44</td>\n",
              "      <td>11.3385</td>\n",
              "      <td>6713.46517</td>\n",
              "      <td>0</td>\n",
              "      <td>113</td>\n",
              "    </tr>\n",
              "    <tr>\n",
              "      <th>4727516</th>\n",
              "      <td>134</td>\n",
              "      <td>245</td>\n",
              "      <td>23:20</td>\n",
              "      <td>8.06</td>\n",
              "      <td>4.39</td>\n",
              "      <td>0.23</td>\n",
              "      <td>3.94</td>\n",
              "      <td>216.51</td>\n",
              "      <td>5.81</td>\n",
              "      <td>5.81</td>\n",
              "      <td>5.81</td>\n",
              "      <td>0.0</td>\n",
              "      <td>673.79</td>\n",
              "      <td>11.3385</td>\n",
              "      <td>6713.46517</td>\n",
              "      <td>0</td>\n",
              "      <td>113</td>\n",
              "    </tr>\n",
              "    <tr>\n",
              "      <th>4727517</th>\n",
              "      <td>134</td>\n",
              "      <td>245</td>\n",
              "      <td>23:30</td>\n",
              "      <td>8.08</td>\n",
              "      <td>2.28</td>\n",
              "      <td>-0.16</td>\n",
              "      <td>4.15</td>\n",
              "      <td>216.51</td>\n",
              "      <td>0.68</td>\n",
              "      <td>0.68</td>\n",
              "      <td>0.68</td>\n",
              "      <td>0.0</td>\n",
              "      <td>999.36</td>\n",
              "      <td>11.3385</td>\n",
              "      <td>6713.46517</td>\n",
              "      <td>0</td>\n",
              "      <td>113</td>\n",
              "    </tr>\n",
              "    <tr>\n",
              "      <th>4727518</th>\n",
              "      <td>134</td>\n",
              "      <td>245</td>\n",
              "      <td>23:40</td>\n",
              "      <td>8.46</td>\n",
              "      <td>0.80</td>\n",
              "      <td>-0.14</td>\n",
              "      <td>4.32</td>\n",
              "      <td>216.51</td>\n",
              "      <td>0.02</td>\n",
              "      <td>0.02</td>\n",
              "      <td>0.02</td>\n",
              "      <td>0.0</td>\n",
              "      <td>1100.89</td>\n",
              "      <td>11.3385</td>\n",
              "      <td>6713.46517</td>\n",
              "      <td>0</td>\n",
              "      <td>113</td>\n",
              "    </tr>\n",
              "    <tr>\n",
              "      <th>4727519</th>\n",
              "      <td>134</td>\n",
              "      <td>245</td>\n",
              "      <td>23:50</td>\n",
              "      <td>8.68</td>\n",
              "      <td>0.52</td>\n",
              "      <td>-0.06</td>\n",
              "      <td>4.39</td>\n",
              "      <td>216.51</td>\n",
              "      <td>0.01</td>\n",
              "      <td>0.01</td>\n",
              "      <td>0.01</td>\n",
              "      <td>0.0</td>\n",
              "      <td>1181.49</td>\n",
              "      <td>11.3385</td>\n",
              "      <td>6713.46517</td>\n",
              "      <td>0</td>\n",
              "      <td>113</td>\n",
              "    </tr>\n",
              "  </tbody>\n",
              "</table>\n",
              "<p>4727520 rows × 17 columns</p>\n",
              "</div>\n",
              "      <button class=\"colab-df-convert\" onclick=\"convertToInteractive('df-4bbf55d5-1c89-4260-a586-54eb00acf79c')\"\n",
              "              title=\"Convert this dataframe to an interactive table.\"\n",
              "              style=\"display:none;\">\n",
              "        \n",
              "  <svg xmlns=\"http://www.w3.org/2000/svg\" height=\"24px\"viewBox=\"0 0 24 24\"\n",
              "       width=\"24px\">\n",
              "    <path d=\"M0 0h24v24H0V0z\" fill=\"none\"/>\n",
              "    <path d=\"M18.56 5.44l.94 2.06.94-2.06 2.06-.94-2.06-.94-.94-2.06-.94 2.06-2.06.94zm-11 1L8.5 8.5l.94-2.06 2.06-.94-2.06-.94L8.5 2.5l-.94 2.06-2.06.94zm10 10l.94 2.06.94-2.06 2.06-.94-2.06-.94-.94-2.06-.94 2.06-2.06.94z\"/><path d=\"M17.41 7.96l-1.37-1.37c-.4-.4-.92-.59-1.43-.59-.52 0-1.04.2-1.43.59L10.3 9.45l-7.72 7.72c-.78.78-.78 2.05 0 2.83L4 21.41c.39.39.9.59 1.41.59.51 0 1.02-.2 1.41-.59l7.78-7.78 2.81-2.81c.8-.78.8-2.07 0-2.86zM5.41 20L4 18.59l7.72-7.72 1.47 1.35L5.41 20z\"/>\n",
              "  </svg>\n",
              "      </button>\n",
              "      \n",
              "  <style>\n",
              "    .colab-df-container {\n",
              "      display:flex;\n",
              "      flex-wrap:wrap;\n",
              "      gap: 12px;\n",
              "    }\n",
              "\n",
              "    .colab-df-convert {\n",
              "      background-color: #E8F0FE;\n",
              "      border: none;\n",
              "      border-radius: 50%;\n",
              "      cursor: pointer;\n",
              "      display: none;\n",
              "      fill: #1967D2;\n",
              "      height: 32px;\n",
              "      padding: 0 0 0 0;\n",
              "      width: 32px;\n",
              "    }\n",
              "\n",
              "    .colab-df-convert:hover {\n",
              "      background-color: #E2EBFA;\n",
              "      box-shadow: 0px 1px 2px rgba(60, 64, 67, 0.3), 0px 1px 3px 1px rgba(60, 64, 67, 0.15);\n",
              "      fill: #174EA6;\n",
              "    }\n",
              "\n",
              "    [theme=dark] .colab-df-convert {\n",
              "      background-color: #3B4455;\n",
              "      fill: #D2E3FC;\n",
              "    }\n",
              "\n",
              "    [theme=dark] .colab-df-convert:hover {\n",
              "      background-color: #434B5C;\n",
              "      box-shadow: 0px 1px 3px 1px rgba(0, 0, 0, 0.15);\n",
              "      filter: drop-shadow(0px 1px 2px rgba(0, 0, 0, 0.3));\n",
              "      fill: #FFFFFF;\n",
              "    }\n",
              "  </style>\n",
              "\n",
              "      <script>\n",
              "        const buttonEl =\n",
              "          document.querySelector('#df-4bbf55d5-1c89-4260-a586-54eb00acf79c button.colab-df-convert');\n",
              "        buttonEl.style.display =\n",
              "          google.colab.kernel.accessAllowed ? 'block' : 'none';\n",
              "\n",
              "        async function convertToInteractive(key) {\n",
              "          const element = document.querySelector('#df-4bbf55d5-1c89-4260-a586-54eb00acf79c');\n",
              "          const dataTable =\n",
              "            await google.colab.kernel.invokeFunction('convertToInteractive',\n",
              "                                                     [key], {});\n",
              "          if (!dataTable) return;\n",
              "\n",
              "          const docLinkHtml = 'Like what you see? Visit the ' +\n",
              "            '<a target=\"_blank\" href=https://colab.research.google.com/notebooks/data_table.ipynb>data table notebook</a>'\n",
              "            + ' to learn more about interactive tables.';\n",
              "          element.innerHTML = '';\n",
              "          dataTable['output_type'] = 'display_data';\n",
              "          await google.colab.output.renderOutput(dataTable, element);\n",
              "          const docLink = document.createElement('div');\n",
              "          docLink.innerHTML = docLinkHtml;\n",
              "          element.appendChild(docLink);\n",
              "        }\n",
              "      </script>\n",
              "    </div>\n",
              "  </div>\n",
              "  "
            ]
          },
          "metadata": {},
          "execution_count": 29
        }
      ],
      "source": [
        "df = pd.merge(df, df_neighbor, on='TurbID', how = \"left\")\n",
        "df"
      ],
      "id": "MkdBJ4wBGwFH"
    },
    {
      "cell_type": "code",
      "execution_count": null,
      "metadata": {
        "id": "qk9XeySEw6QH"
      },
      "outputs": [],
      "source": [
        "# # Function to replace missing values with values from the closest neighbor\n",
        "# def replace_missing_with_closest_neighbor(row, df):\n",
        "#     if row['Missing'] == 1:\n",
        "#         closest_neighbor_id = row['ClosestNeighbor']\n",
        "#         closest_neighbor = df.loc[(df['TurbID'] == closest_neighbor_id) & (df['Day'] == row['Day']) & (df['Tmstamp'] == row['Tmstamp'])]\n",
        "        \n",
        "#         if not closest_neighbor.empty:\n",
        "#             for column in row.index:\n",
        "#                 if column not in ['TurbID', 'Day', 'Tmstamp', 'x', 'y', 'Abnormal', 'Missing', 'ClosestNeighbor']:\n",
        "#                     row[column] = closest_neighbor.iloc[0][column]\n",
        "\n",
        "#     return row\n",
        "\n",
        "# df = df.apply(lambda row: replace_missing_with_closest_neighbor(row, df), axis=1)"
      ],
      "id": "qk9XeySEw6QH"
    },
    {
      "cell_type": "code",
      "execution_count": null,
      "metadata": {
        "id": "Kp1K6da1w3RY"
      },
      "outputs": [],
      "source": [
        "df = df.drop('ClosestNeighbor', axis=1)"
      ],
      "id": "Kp1K6da1w3RY"
    },
    {
      "cell_type": "markdown",
      "metadata": {
        "id": "pkqmwT85y5k-"
      },
      "source": [
        "We do not perform filling the missing values using the closest turbine's value at that given day and time because it takes a lot of time and computational resources to run on the entire dataframe. However, when testing on smaller sample dataset, the method of Linear Interpolation yields better performance during prediction.\n",
        "Next section is the code for using linear interporlation to fill missing values. \n",
        "\n",
        "We still keep the code for closest neighbour here for reference, methodology and usability of code in the case someone would like to experiment further."
      ],
      "id": "pkqmwT85y5k-"
    },
    {
      "cell_type": "markdown",
      "metadata": {
        "id": "cRZfTqIG0pt7"
      },
      "source": [
        "#### Linear Interpolation for dealing with Missing values"
      ],
      "id": "cRZfTqIG0pt7"
    },
    {
      "cell_type": "code",
      "execution_count": null,
      "metadata": {
        "colab": {
          "base_uri": "https://localhost:8080/"
        },
        "id": "Xv1Z-hQ1nXrS",
        "outputId": "599ff3dd-bd41-4ec6-ebef-cbe2852d4603"
      },
      "outputs": [
        {
          "output_type": "stream",
          "name": "stdout",
          "text": [
            "Number of missing values: 49518\n"
          ]
        }
      ],
      "source": [
        "count_missing = df['Missing'].sum()\n",
        "print(f\"Number of missing values: {count_missing}\")"
      ],
      "id": "Xv1Z-hQ1nXrS"
    },
    {
      "cell_type": "markdown",
      "metadata": {
        "id": "A3kUwcnrxvbo"
      },
      "source": [
        "We first deal with missing values before dealing with abnormal values because after performing interpolation, the missing values may then become 'abnormal' or 'unknown'."
      ],
      "id": "A3kUwcnrxvbo"
    },
    {
      "cell_type": "code",
      "execution_count": null,
      "metadata": {
        "id": "BBCeWUxZB8rj"
      },
      "outputs": [],
      "source": [
        "# Columns to interpolate\n",
        "cols_to_interpolate = ['Wspd', 'Wdir', 'Etmp', 'Itmp', 'Ndir', 'Pab1', 'Pab2', 'Pab3', 'Prtv', 'Patv']"
      ],
      "id": "BBCeWUxZB8rj"
    },
    {
      "cell_type": "code",
      "execution_count": null,
      "metadata": {
        "id": "vD2bUTbRL1aj"
      },
      "outputs": [],
      "source": [
        "def interpolate_missing(group):\n",
        "    missing_rows_index = group[group['Missing'] == 1].index\n",
        "    group.loc[missing_rows_index, cols_to_interpolate] = group[cols_to_interpolate].interpolate(method='linear', axis=0, limit_direction='both').loc[missing_rows_index]\n",
        "    return group\n",
        "\n",
        "df = df.groupby(['TurbID', 'Day'], group_keys=False).apply(interpolate_missing)\n",
        "\n",
        "# # Fill remaining missing values with values from the nearest turbine\n",
        "# for col in cols_to_interpolate:\n",
        "#     df[col] = df.groupby(['Day', 'Tmstamp', 'ClosestNeighbor'])[col].transform(lambda x: x.fillna(x.mean()))\n",
        "\n",
        "# Fill remaining missing values with forward and backward fill\n",
        "df[cols_to_interpolate] = df[cols_to_interpolate].fillna(method='bfill').fillna(method='ffill')"
      ],
      "id": "vD2bUTbRL1aj"
    },
    {
      "cell_type": "code",
      "execution_count": null,
      "metadata": {
        "colab": {
          "base_uri": "https://localhost:8080/"
        },
        "id": "8-52XKEG0kUQ",
        "outputId": "dd40e834-d2c2-4672-b192-8b73698a15bf"
      },
      "outputs": [
        {
          "output_type": "execute_result",
          "data": {
            "text/plain": [
              "TurbID     0\n",
              "Day        0\n",
              "Tmstamp    0\n",
              "Wspd       0\n",
              "Wdir       0\n",
              "Etmp       0\n",
              "Itmp       0\n",
              "Ndir       0\n",
              "Pab1       0\n",
              "Pab2       0\n",
              "Pab3       0\n",
              "Prtv       0\n",
              "Patv       0\n",
              "x          0\n",
              "y          0\n",
              "Missing    0\n",
              "dtype: int64"
            ]
          },
          "metadata": {},
          "execution_count": 37
        }
      ],
      "source": [
        "# Number of null values\n",
        "df.isna().sum()"
      ],
      "id": "8-52XKEG0kUQ"
    },
    {
      "cell_type": "code",
      "execution_count": null,
      "metadata": {
        "id": "TRcw46DpAWnF"
      },
      "outputs": [],
      "source": [
        "# Save the cleaned DataFrame to a CSV file\n",
        "# df.to_csv('/content/drive/MyDrive/5002 Project/data/cleaned_data.csv', index=False)\n",
        "\n",
        "# df = pd.read_csv('/content/drive/MyDrive/5002 Project/data/cleaned_data.csv')"
      ],
      "id": "TRcw46DpAWnF"
    },
    {
      "cell_type": "code",
      "execution_count": null,
      "metadata": {
        "id": "n_PHzTLmwM_J"
      },
      "outputs": [],
      "source": [
        "df = df.drop('Missing', axis=1)"
      ],
      "id": "n_PHzTLmwM_J"
    },
    {
      "cell_type": "markdown",
      "metadata": {
        "id": "R5Y0AXzq0sjO"
      },
      "source": [
        "### Abnormal values"
      ],
      "id": "R5Y0AXzq0sjO"
    },
    {
      "cell_type": "code",
      "source": [
        "import seaborn as sns\n",
        "import matplotlib.pyplot as plt\n",
        "\n",
        "# Assuming your DataFrame is named \"df\" and the columns you want to plot are named \"col1\" and \"col2\":\n",
        "cols_to_plot = [\"Wspd\", \"Wdir\", \"Prtv\", \"Patv\"]\n",
        "num_cols = len(cols_to_plot)\n",
        "fig, axs = plt.subplots(nrows=1, ncols=num_cols, figsize=(4*num_cols, 4))\n",
        "\n",
        "for i, col in enumerate(cols_to_plot):\n",
        "    # Create a box plot for the current column\n",
        "    sns.boxplot(y=df[col], ax=axs[i])\n",
        "    \n",
        "    # Add a title and labels for the x and y axes\n",
        "    axs[i].set_title(f'Box plot of {col}')\n",
        "    axs[i].set_xlabel(col)\n",
        "    axs[i].set_ylabel('Values')\n",
        "\n",
        "plt.tight_layout()\n",
        "plt.show()"
      ],
      "metadata": {
        "colab": {
          "base_uri": "https://localhost:8080/",
          "height": 350
        },
        "id": "VtbAum_si9F7",
        "outputId": "71d9006a-07c7-4bc9-bb41-4a299be63647"
      },
      "id": "VtbAum_si9F7",
      "execution_count": null,
      "outputs": [
        {
          "output_type": "display_data",
          "data": {
            "text/plain": [
              "<Figure size 1600x400 with 4 Axes>"
            ],
            "image/png": "[encoded data removed]"
          },
          "metadata": {}
        }
      ]
    },
    {
      "cell_type": "markdown",
      "source": [
        "The plot above investigates a few features to understand the state of outliers before dealing with abnormal values."
      ],
      "metadata": {
        "id": "L8CxR5Qa9Hhj"
      },
      "id": "L8CxR5Qa9Hhj"
    },
    {
      "cell_type": "markdown",
      "metadata": {
        "id": "AqN2dA2GyOiR"
      },
      "source": [
        "After dealing with the missing values, we then create a new column to indicate abnormal values. Note: We treat 'Abnormal' and 'Unknown' values as the same, thereby creating only one column to indicate both."
      ],
      "id": "AqN2dA2GyOiR"
    },
    {
      "cell_type": "code",
      "execution_count": null,
      "metadata": {
        "colab": {
          "base_uri": "https://localhost:8080/"
        },
        "id": "YxlrTDQ4wKQw",
        "outputId": "1c1db976-b458-43b2-dc11-3e963df4aa7d"
      },
      "outputs": [
        {
          "output_type": "stream",
          "name": "stdout",
          "text": [
            "Number of abnormal values: 1087276\n"
          ]
        }
      ],
      "source": [
        "df['Abnormal'] = 0\n",
        "df.loc[(df['Patv'] <= 0) & (df['Wspd'] > 2.5) | \n",
        "       (df['Pab1'] > 89) | (df['Pab2'] > 89) | (df['Pab3'] > 89) | \n",
        "       (df['Ndir'] > 720) | (df['Ndir'] < -720) | \n",
        "       (df['Wdir'] > 180) | (df['Wdir'] < -180), ['Abnormal']] = (1)\n",
        "count_abnormal = df['Abnormal'].sum()\n",
        "print(f\"Number of abnormal values: {count_abnormal}\")"
      ],
      "id": "YxlrTDQ4wKQw"
    },
    {
      "cell_type": "code",
      "execution_count": null,
      "metadata": {
        "id": "iodQY9kBMoLF"
      },
      "outputs": [],
      "source": [
        "# Store the indices of the original abnormal rows\n",
        "original_abnormal_indices = df.loc[df['Abnormal'] == 1].index\n",
        "\n",
        "# Store the original abnormal data\n",
        "original_abnormal_data = df.loc[original_abnormal_indices, cols_to_interpolate].copy()"
      ],
      "id": "iodQY9kBMoLF"
    },
    {
      "cell_type": "markdown",
      "metadata": {
        "id": "XjcRqxLXEazp"
      },
      "source": [
        "The following is the code used to replace the abnormal values. It identifies the row containing the abnormal values and then replaces it with the average of the immediate previous and next normal rows. \n",
        "\n",
        "We comment it out because we already save the cleaned df into a csv and load it to save time. (code for this is down below)"
      ],
      "id": "XjcRqxLXEazp"
    },
    {
      "cell_type": "code",
      "execution_count": null,
      "metadata": {
        "id": "mcYawNh3X071"
      },
      "outputs": [],
      "source": [
        "# # Function to handle the replacement logic\n",
        "# def replace_abnormal_rows(group):\n",
        "#     group = group.copy()\n",
        "#     abnormal_rows = group['Abnormal'] == 1\n",
        "#     normal_rows = group['Abnormal'] == 0\n",
        "#     columns_to_replace = ['Wspd', 'Wdir', 'Etmp', 'Itmp', 'Ndir', 'Pab1', 'Pab2', 'Pab3', 'Prtv', 'Patv']\n",
        "\n",
        "#     if abnormal_rows.any():\n",
        "#         for col in columns_to_replace:\n",
        "#             for index, row in group[abnormal_rows].iterrows():\n",
        "#                 previous_normal_index = group[normal_rows].loc[:index].index.max()\n",
        "#                 next_normal_index = group[normal_rows].loc[index:].index.min()\n",
        "\n",
        "#                 if pd.isna(previous_normal_index) and pd.notna(next_normal_index):\n",
        "#                     group.loc[index, col] = group.loc[next_normal_index, col]\n",
        "#                 elif pd.notna(previous_normal_index) and pd.isna(next_normal_index):\n",
        "#                     group.loc[index, col] = group.loc[previous_normal_index, col]\n",
        "#                 elif pd.notna(previous_normal_index) and pd.notna(next_normal_index):\n",
        "#                     group.loc[index, col] = (group.loc[previous_normal_index, col] +\n",
        "#                                              group.loc[next_normal_index, col]) / 2\n",
        "\n",
        "#     return group\n",
        "\n",
        "# result = df.groupby(['TurbID', 'Day'], group_keys=False).apply(replace_abnormal_rows)\n",
        "\n",
        "# # Replace the original DataFrame with the result\n",
        "# df = result.reset_index(drop=True)"
      ],
      "id": "mcYawNh3X071"
    },
    {
      "cell_type": "code",
      "execution_count": null,
      "metadata": {
        "id": "bPxi9ry8-6us"
      },
      "outputs": [],
      "source": [
        "# Save the cleaned DataFrame to a CSV file\n",
        "# df.to_csv('/content/drive/MyDrive/5002 Project/data/cleaned_data_2.csv', index=False)"
      ],
      "id": "bPxi9ry8-6us"
    },
    {
      "cell_type": "code",
      "execution_count": null,
      "metadata": {
        "id": "NYL7zvIwEHBT"
      },
      "outputs": [],
      "source": [
        "import pandas as pd\n",
        "import numpy as np\n",
        "\n",
        "# loading the cleaned df from csv file to save time\n",
        "df = pd.read_csv('/content/drive/MyDrive/5002 Project/data/cleaned_data_2.csv')"
      ],
      "id": "NYL7zvIwEHBT"
    },
    {
      "cell_type": "code",
      "source": [
        "import seaborn as sns\n",
        "import matplotlib.pyplot as plt\n",
        "\n",
        "# Assuming your DataFrame is named \"df\" and the columns you want to plot are named \"col1\" and \"col2\":\n",
        "cols_to_plot = [\"Wspd\", \"Wdir\", \"Prtv\", \"Patv\"]\n",
        "num_cols = len(cols_to_plot)\n",
        "fig, axs = plt.subplots(nrows=1, ncols=num_cols, figsize=(4*num_cols, 4))\n",
        "\n",
        "for i, col in enumerate(cols_to_plot):\n",
        "    # Create a box plot for the current column\n",
        "    sns.boxplot(y=df[col], ax=axs[i])\n",
        "    \n",
        "    # Add a title and labels for the x and y axes\n",
        "    axs[i].set_title(f'Box plot of {col}')\n",
        "    axs[i].set_xlabel(col)\n",
        "    axs[i].set_ylabel('Values')\n",
        "\n",
        "plt.tight_layout()\n",
        "plt.show()"
      ],
      "metadata": {
        "colab": {
          "base_uri": "https://localhost:8080/",
          "height": 350
        },
        "id": "pgIM2edXjArJ",
        "outputId": "5291eb70-fb08-42e5-9a75-c8c87828ee46"
      },
      "id": "pgIM2edXjArJ",
      "execution_count": null,
      "outputs": [
        {
          "output_type": "display_data",
          "data": {
            "text/plain": [
              "<Figure size 1600x400 with 4 Axes>"
            ],
            "image/png": "[encoded data removed]"
          },
          "metadata": {}
        }
      ]
    },
    {
      "cell_type": "markdown",
      "source": [
        "The plot above investigates a few features to understand the state of outliers before dealing with abnormal values. We see that there are still quite a lot of outliers, however, after doing some research online about specific attributes of wind turbines and intuitively, its not feasible to remove or change them. We will still investigate and do dimension reduction which may help remove some columns with a lot of outliers.  "
      ],
      "metadata": {
        "id": "UB-WrZCx9eak"
      },
      "id": "UB-WrZCx9eak"
    },
    {
      "cell_type": "markdown",
      "metadata": {
        "id": "Rd6UnSbn3-c6"
      },
      "source": [
        "## Dimension Reduction"
      ],
      "id": "Rd6UnSbn3-c6"
    },
    {
      "cell_type": "code",
      "execution_count": null,
      "metadata": {
        "colab": {
          "base_uri": "https://localhost:8080/"
        },
        "id": "41qSZ1b96Eo4",
        "outputId": "03793dce-02c3-4529-8a67-2b63e486f492"
      },
      "outputs": [
        {
          "output_type": "execute_result",
          "data": {
            "text/plain": [
              "Index(['TurbID', 'Day', 'Tmstamp', 'Wspd', 'Wdir', 'Etmp', 'Itmp', 'Ndir',\n",
              "       'Pab1', 'Pab2', 'Pab3', 'Prtv', 'Patv', 'x', 'y', 'Abnormal'],\n",
              "      dtype='object')"
            ]
          },
          "metadata": {},
          "execution_count": 4
        }
      ],
      "source": [
        "df.columns"
      ],
      "id": "41qSZ1b96Eo4"
    },
    {
      "cell_type": "code",
      "source": [
        "df = df.drop('Abnormal', axis=1)"
      ],
      "metadata": {
        "id": "rSPzSqYDL0Bl"
      },
      "id": "rSPzSqYDL0Bl",
      "execution_count": null,
      "outputs": []
    },
    {
      "cell_type": "code",
      "execution_count": null,
      "metadata": {
        "colab": {
          "base_uri": "https://localhost:8080/",
          "height": 554
        },
        "id": "pFPGxv4z4s6s",
        "outputId": "69332f48-4e27-4bb8-eba1-e6942c4f39f0"
      },
      "outputs": [
        {
          "output_type": "stream",
          "name": "stderr",
          "text": [
            "<ipython-input-7-bf98228684ea>:6: FutureWarning: The default value of numeric_only in DataFrame.corr is deprecated. In a future version, it will default to False. Select only valid columns or specify the value of numeric_only to silence this warning.\n",
            "  corr_matrix = df.corr()\n"
          ]
        },
        {
          "output_type": "display_data",
          "data": {
            "text/plain": [
              "<Figure size 800x500 with 2 Axes>"
            ],
            "image/png": "[encoded data removed]"
          },
          "metadata": {}
        }
      ],
      "source": [
        "# heatmap\n",
        "import seaborn as sns\n",
        "import matplotlib.pyplot as plt\n",
        "\n",
        "# Create the heatmap using the correlation matrix of the dataframe\n",
        "corr_matrix = df.corr()\n",
        "plt.subplots(figsize=(8, 5))\n",
        "plt.title('Correlation Heatmap', fontsize=15)\n",
        "plt.xlabel('X Label', fontsize=10)\n",
        "plt.ylabel('Y Label', fontsize=10)\n",
        "sns.heatmap(corr_matrix, cmap='YlGnBu', yticklabels=corr_matrix.columns, xticklabels=corr_matrix.columns, annot=True, fmt=\".2f\", annot_kws={\"size\": 8}, cbar_kws={\"label\": \"Correlation Intensity\"})\n",
        "cbar = plt.gcf().axes[-1]\n",
        "cbar.tick_params(labelsize=12)\n",
        "\n",
        "# Show the heatmap\n",
        "plt.show()"
      ],
      "id": "pFPGxv4z4s6s"
    },
    {
      "cell_type": "markdown",
      "metadata": {
        "id": "wvq3K7Dd4wRL"
      },
      "source": [
        "Insights: \n",
        "\n",
        "1. Perfect correlation between Pab1, Pab2 and Pab3. Therefore we will combine them into Pab_max, which is basically the maximum value amongst Pab1, Pab2 and Pab3.\n",
        "2. There is little to no correlation between the target variable (Patv) and the following features: 'Wdir', 'Etmp', 'Itmp', 'Ndir'. Therefore, we will drop them."
      ],
      "id": "wvq3K7Dd4wRL"
    },
    {
      "cell_type": "code",
      "execution_count": null,
      "metadata": {
        "id": "9f_SScIdHtNk"
      },
      "outputs": [],
      "source": [
        "# Combine Pab1, Pab2 and Pab3 into Pab_max\n",
        "df[\"Pab_max\"] = df[['Pab1', 'Pab2', 'Pab3']].max(axis=1)\n",
        "df = df.drop(columns = ['Pab1', 'Pab2', 'Pab3'])"
      ],
      "id": "9f_SScIdHtNk"
    },
    {
      "cell_type": "code",
      "execution_count": null,
      "metadata": {
        "id": "lejHAzBX67xN"
      },
      "outputs": [],
      "source": [
        "# Drop the following features: 'Wdir', 'Etmp', 'Itmp', 'Ndir' \n",
        "df = df.drop(columns=['Wdir', 'Etmp', 'Itmp', 'Ndir'], axis=1)"
      ],
      "id": "lejHAzBX67xN"
    },
    {
      "cell_type": "markdown",
      "metadata": {
        "id": "yYceVG5wB03l"
      },
      "source": [
        "## Dealing with Tmstamp:"
      ],
      "id": "yYceVG5wB03l"
    },
    {
      "cell_type": "code",
      "execution_count": null,
      "metadata": {
        "id": "OmvL9NKP-4Oy",
        "colab": {
          "base_uri": "https://localhost:8080/"
        },
        "outputId": "7e5ac3fd-af1b-4260-f5f2-e5d8d4e95de6"
      },
      "outputs": [
        {
          "output_type": "display_data",
          "data": {
            "text/plain": [
              "<Figure size 4500x600 with 1 Axes>"
            ],
            "image/png": "[encoded data removed]"
          },
          "metadata": {}
        }
      ],
      "source": [
        "import matplotlib.pyplot as plt\n",
        "\n",
        "# Create a new dataframe with only the data for random day and turbine\n",
        "df_subset = df[(df['Day'] == 10) & (df['TurbID'] == 3)]\n",
        "\n",
        "# Select only the columns we want to plot\n",
        "df_plot = df_subset[['Day', 'TurbID', 'Tmstamp', 'Wspd', 'Patv']]\n",
        "\n",
        "# Create a scatter plot of Tmstamp vs Wspd\n",
        "fig, ax = plt.subplots(figsize=(45, 6))\n",
        "ax.scatter(df_plot['Tmstamp'], df_plot['Wspd'])\n",
        "\n",
        "# Set the title and axis labels\n",
        "ax.set_title('Tmstamp vs Wspd for Day 1 and TurbID 1', fontsize=20)\n",
        "ax.set_xlabel('Tmstamp', fontsize=14)\n",
        "ax.set_ylabel('Wspd', fontsize=14)\n",
        "\n",
        "# Set the x-axis tick labels to display dates\n",
        "plt.xticks(rotation=45, ha='right')\n",
        "\n",
        "# Show the plot\n",
        "plt.show()"
      ],
      "id": "OmvL9NKP-4Oy"
    },
    {
      "cell_type": "markdown",
      "metadata": {
        "id": "R5RDe1s-5bfa"
      },
      "source": [
        "Plot to see if there is any trend throughout the day - the insight is that for some turbines for some days we notice a trend where the Wspd increases for the first half of the day and then decreases before increasing again towards the end of the day. We use Wspd since it has a strong correlation with Patv. Moreover, intuitively, using Tmstamp as a feature may be beneficial as it may have hidden patterns. "
      ],
      "id": "R5RDe1s-5bfa"
    },
    {
      "cell_type": "markdown",
      "source": [
        "Therefore, we convert 'Tmstamp' into sine and cosine values since these functions are periodic, often used for time series forecasting tasks and data. Moreover, they help to capture the cyclical nature of the time feature. "
      ],
      "metadata": {
        "id": "z2gdx2scvAMx"
      },
      "id": "z2gdx2scvAMx"
    },
    {
      "cell_type": "code",
      "execution_count": null,
      "metadata": {
        "id": "9Ik3GBdaKKUG"
      },
      "outputs": [],
      "source": [
        "df['Tmstamp'] = pd.to_datetime(df['Tmstamp'], format='%H:%M')\n",
        "df['hour_sin'] = np.sin(2 * np.pi * df['Tmstamp'].dt.hour / 24)\n",
        "df['hour_cos'] = np.cos(2 * np.pi * df['Tmstamp'].dt.hour / 24)\n",
        "df['minute_sin'] = np.sin(2 * np.pi * df['Tmstamp'].dt.minute / 60)\n",
        "df['minute_cos'] = np.cos(2 * np.pi * df['Tmstamp'].dt.minute / 60)\n",
        "df = df.drop(\"Tmstamp\", axis=1)"
      ],
      "id": "9Ik3GBdaKKUG"
    },
    {
      "cell_type": "code",
      "execution_count": null,
      "metadata": {
        "colab": {
          "base_uri": "https://localhost:8080/"
        },
        "id": "NPn7AWQIuhov",
        "outputId": "85cabf3a-905d-4d31-f919-1fb53fdf9a7e"
      },
      "outputs": [
        {
          "output_type": "execute_result",
          "data": {
            "text/plain": [
              "         TurbID  Day  Wspd  Prtv     Patv          x           y  Abnormal  \\\n",
              "0             1    1  6.17   0.0   494.66  3349.8515  5939.23193         0   \n",
              "1             1    1  6.17   0.0   494.66  3349.8515  5939.23193         0   \n",
              "2             1    1  6.27   0.0   509.76  3349.8515  5939.23193         0   \n",
              "3             1    1  6.42   0.0   542.53  3349.8515  5939.23193         0   \n",
              "4             1    1  6.25   0.0   509.36  3349.8515  5939.23193         0   \n",
              "...         ...  ...   ...   ...      ...        ...         ...       ...   \n",
              "4727515     134  245  7.79   0.0   601.44    11.3385  6713.46517         0   \n",
              "4727516     134  245  8.06   0.0   673.79    11.3385  6713.46517         0   \n",
              "4727517     134  245  8.08   0.0   999.36    11.3385  6713.46517         0   \n",
              "4727518     134  245  8.46   0.0  1100.89    11.3385  6713.46517         0   \n",
              "4727519     134  245  8.68   0.0  1181.49    11.3385  6713.46517         0   \n",
              "\n",
              "         Pab_max  hour_sin  hour_cos    minute_sin  minute_cos  \n",
              "0           1.00  0.000000  1.000000  0.000000e+00         1.0  \n",
              "1           1.00  0.000000  1.000000  8.660254e-01         0.5  \n",
              "2           1.00  0.000000  1.000000  8.660254e-01        -0.5  \n",
              "3           1.00  0.000000  1.000000  5.665539e-16        -1.0  \n",
              "4           1.00  0.000000  1.000000 -8.660254e-01        -0.5  \n",
              "...          ...       ...       ...           ...         ...  \n",
              "4727515     6.03 -0.258819  0.965926  8.660254e-01         0.5  \n",
              "4727516     5.81 -0.258819  0.965926  8.660254e-01        -0.5  \n",
              "4727517     0.68 -0.258819  0.965926  5.665539e-16        -1.0  \n",
              "4727518     0.02 -0.258819  0.965926 -8.660254e-01        -0.5  \n",
              "4727519     0.01 -0.258819  0.965926 -8.660254e-01         0.5  \n",
              "\n",
              "[4727520 rows x 13 columns]"
            ],
            "text/html": [
              "\n",
              "  <div id=\"df-2db5f4b2-469c-4af7-9c07-b62f61f02114\">\n",
              "    <div class=\"colab-df-container\">\n",
              "      <div>\n",
              "<style scoped>\n",
              "    .dataframe tbody tr th:only-of-type {\n",
              "        vertical-align: middle;\n",
              "    }\n",
              "\n",
              "    .dataframe tbody tr th {\n",
              "        vertical-align: top;\n",
              "    }\n",
              "\n",
              "    .dataframe thead th {\n",
              "        text-align: right;\n",
              "    }\n",
              "</style>\n",
              "<table border=\"1\" class=\"dataframe\">\n",
              "  <thead>\n",
              "    <tr style=\"text-align: right;\">\n",
              "      <th></th>\n",
              "      <th>TurbID</th>\n",
              "      <th>Day</th>\n",
              "      <th>Wspd</th>\n",
              "      <th>Prtv</th>\n",
              "      <th>Patv</th>\n",
              "      <th>x</th>\n",
              "      <th>y</th>\n",
              "      <th>Abnormal</th>\n",
              "      <th>Pab_max</th>\n",
              "      <th>hour_sin</th>\n",
              "      <th>hour_cos</th>\n",
              "      <th>minute_sin</th>\n",
              "      <th>minute_cos</th>\n",
              "    </tr>\n",
              "  </thead>\n",
              "  <tbody>\n",
              "    <tr>\n",
              "      <th>0</th>\n",
              "      <td>1</td>\n",
              "      <td>1</td>\n",
              "      <td>6.17</td>\n",
              "      <td>0.0</td>\n",
              "      <td>494.66</td>\n",
              "      <td>3349.8515</td>\n",
              "      <td>5939.23193</td>\n",
              "      <td>0</td>\n",
              "      <td>1.00</td>\n",
              "      <td>0.000000</td>\n",
              "      <td>1.000000</td>\n",
              "      <td>0.000000e+00</td>\n",
              "      <td>1.0</td>\n",
              "    </tr>\n",
              "    <tr>\n",
              "      <th>1</th>\n",
              "      <td>1</td>\n",
              "      <td>1</td>\n",
              "      <td>6.17</td>\n",
              "      <td>0.0</td>\n",
              "      <td>494.66</td>\n",
              "      <td>3349.8515</td>\n",
              "      <td>5939.23193</td>\n",
              "      <td>0</td>\n",
              "      <td>1.00</td>\n",
              "      <td>0.000000</td>\n",
              "      <td>1.000000</td>\n",
              "      <td>8.660254e-01</td>\n",
              "      <td>0.5</td>\n",
              "    </tr>\n",
              "    <tr>\n",
              "      <th>2</th>\n",
              "      <td>1</td>\n",
              "      <td>1</td>\n",
              "      <td>6.27</td>\n",
              "      <td>0.0</td>\n",
              "      <td>509.76</td>\n",
              "      <td>3349.8515</td>\n",
              "      <td>5939.23193</td>\n",
              "      <td>0</td>\n",
              "      <td>1.00</td>\n",
              "      <td>0.000000</td>\n",
              "      <td>1.000000</td>\n",
              "      <td>8.660254e-01</td>\n",
              "      <td>-0.5</td>\n",
              "    </tr>\n",
              "    <tr>\n",
              "      <th>3</th>\n",
              "      <td>1</td>\n",
              "      <td>1</td>\n",
              "      <td>6.42</td>\n",
              "      <td>0.0</td>\n",
              "      <td>542.53</td>\n",
              "      <td>3349.8515</td>\n",
              "      <td>5939.23193</td>\n",
              "      <td>0</td>\n",
              "      <td>1.00</td>\n",
              "      <td>0.000000</td>\n",
              "      <td>1.000000</td>\n",
              "      <td>5.665539e-16</td>\n",
              "      <td>-1.0</td>\n",
              "    </tr>\n",
              "    <tr>\n",
              "      <th>4</th>\n",
              "      <td>1</td>\n",
              "      <td>1</td>\n",
              "      <td>6.25</td>\n",
              "      <td>0.0</td>\n",
              "      <td>509.36</td>\n",
              "      <td>3349.8515</td>\n",
              "      <td>5939.23193</td>\n",
              "      <td>0</td>\n",
              "      <td>1.00</td>\n",
              "      <td>0.000000</td>\n",
              "      <td>1.000000</td>\n",
              "      <td>-8.660254e-01</td>\n",
              "      <td>-0.5</td>\n",
              "    </tr>\n",
              "    <tr>\n",
              "      <th>...</th>\n",
              "      <td>...</td>\n",
              "      <td>...</td>\n",
              "      <td>...</td>\n",
              "      <td>...</td>\n",
              "      <td>...</td>\n",
              "      <td>...</td>\n",
              "      <td>...</td>\n",
              "      <td>...</td>\n",
              "      <td>...</td>\n",
              "      <td>...</td>\n",
              "      <td>...</td>\n",
              "      <td>...</td>\n",
              "      <td>...</td>\n",
              "    </tr>\n",
              "    <tr>\n",
              "      <th>4727515</th>\n",
              "      <td>134</td>\n",
              "      <td>245</td>\n",
              "      <td>7.79</td>\n",
              "      <td>0.0</td>\n",
              "      <td>601.44</td>\n",
              "      <td>11.3385</td>\n",
              "      <td>6713.46517</td>\n",
              "      <td>0</td>\n",
              "      <td>6.03</td>\n",
              "      <td>-0.258819</td>\n",
              "      <td>0.965926</td>\n",
              "      <td>8.660254e-01</td>\n",
              "      <td>0.5</td>\n",
              "    </tr>\n",
              "    <tr>\n",
              "      <th>4727516</th>\n",
              "      <td>134</td>\n",
              "      <td>245</td>\n",
              "      <td>8.06</td>\n",
              "      <td>0.0</td>\n",
              "      <td>673.79</td>\n",
              "      <td>11.3385</td>\n",
              "      <td>6713.46517</td>\n",
              "      <td>0</td>\n",
              "      <td>5.81</td>\n",
              "      <td>-0.258819</td>\n",
              "      <td>0.965926</td>\n",
              "      <td>8.660254e-01</td>\n",
              "      <td>-0.5</td>\n",
              "    </tr>\n",
              "    <tr>\n",
              "      <th>4727517</th>\n",
              "      <td>134</td>\n",
              "      <td>245</td>\n",
              "      <td>8.08</td>\n",
              "      <td>0.0</td>\n",
              "      <td>999.36</td>\n",
              "      <td>11.3385</td>\n",
              "      <td>6713.46517</td>\n",
              "      <td>0</td>\n",
              "      <td>0.68</td>\n",
              "      <td>-0.258819</td>\n",
              "      <td>0.965926</td>\n",
              "      <td>5.665539e-16</td>\n",
              "      <td>-1.0</td>\n",
              "    </tr>\n",
              "    <tr>\n",
              "      <th>4727518</th>\n",
              "      <td>134</td>\n",
              "      <td>245</td>\n",
              "      <td>8.46</td>\n",
              "      <td>0.0</td>\n",
              "      <td>1100.89</td>\n",
              "      <td>11.3385</td>\n",
              "      <td>6713.46517</td>\n",
              "      <td>0</td>\n",
              "      <td>0.02</td>\n",
              "      <td>-0.258819</td>\n",
              "      <td>0.965926</td>\n",
              "      <td>-8.660254e-01</td>\n",
              "      <td>-0.5</td>\n",
              "    </tr>\n",
              "    <tr>\n",
              "      <th>4727519</th>\n",
              "      <td>134</td>\n",
              "      <td>245</td>\n",
              "      <td>8.68</td>\n",
              "      <td>0.0</td>\n",
              "      <td>1181.49</td>\n",
              "      <td>11.3385</td>\n",
              "      <td>6713.46517</td>\n",
              "      <td>0</td>\n",
              "      <td>0.01</td>\n",
              "      <td>-0.258819</td>\n",
              "      <td>0.965926</td>\n",
              "      <td>-8.660254e-01</td>\n",
              "      <td>0.5</td>\n",
              "    </tr>\n",
              "  </tbody>\n",
              "</table>\n",
              "<p>4727520 rows × 13 columns</p>\n",
              "</div>\n",
              "      <button class=\"colab-df-convert\" onclick=\"convertToInteractive('df-2db5f4b2-469c-4af7-9c07-b62f61f02114')\"\n",
              "              title=\"Convert this dataframe to an interactive table.\"\n",
              "              style=\"display:none;\">\n",
              "        \n",
              "  <svg xmlns=\"http://www.w3.org/2000/svg\" height=\"24px\"viewBox=\"0 0 24 24\"\n",
              "       width=\"24px\">\n",
              "    <path d=\"M0 0h24v24H0V0z\" fill=\"none\"/>\n",
              "    <path d=\"M18.56 5.44l.94 2.06.94-2.06 2.06-.94-2.06-.94-.94-2.06-.94 2.06-2.06.94zm-11 1L8.5 8.5l.94-2.06 2.06-.94-2.06-.94L8.5 2.5l-.94 2.06-2.06.94zm10 10l.94 2.06.94-2.06 2.06-.94-2.06-.94-.94-2.06-.94 2.06-2.06.94z\"/><path d=\"M17.41 7.96l-1.37-1.37c-.4-.4-.92-.59-1.43-.59-.52 0-1.04.2-1.43.59L10.3 9.45l-7.72 7.72c-.78.78-.78 2.05 0 2.83L4 21.41c.39.39.9.59 1.41.59.51 0 1.02-.2 1.41-.59l7.78-7.78 2.81-2.81c.8-.78.8-2.07 0-2.86zM5.41 20L4 18.59l7.72-7.72 1.47 1.35L5.41 20z\"/>\n",
              "  </svg>\n",
              "      </button>\n",
              "      \n",
              "  <style>\n",
              "    .colab-df-container {\n",
              "      display:flex;\n",
              "      flex-wrap:wrap;\n",
              "      gap: 12px;\n",
              "    }\n",
              "\n",
              "    .colab-df-convert {\n",
              "      background-color: #E8F0FE;\n",
              "      border: none;\n",
              "      border-radius: 50%;\n",
              "      cursor: pointer;\n",
              "      display: none;\n",
              "      fill: #1967D2;\n",
              "      height: 32px;\n",
              "      padding: 0 0 0 0;\n",
              "      width: 32px;\n",
              "    }\n",
              "\n",
              "    .colab-df-convert:hover {\n",
              "      background-color: #E2EBFA;\n",
              "      box-shadow: 0px 1px 2px rgba(60, 64, 67, 0.3), 0px 1px 3px 1px rgba(60, 64, 67, 0.15);\n",
              "      fill: #174EA6;\n",
              "    }\n",
              "\n",
              "    [theme=dark] .colab-df-convert {\n",
              "      background-color: #3B4455;\n",
              "      fill: #D2E3FC;\n",
              "    }\n",
              "\n",
              "    [theme=dark] .colab-df-convert:hover {\n",
              "      background-color: #434B5C;\n",
              "      box-shadow: 0px 1px 3px 1px rgba(0, 0, 0, 0.15);\n",
              "      filter: drop-shadow(0px 1px 2px rgba(0, 0, 0, 0.3));\n",
              "      fill: #FFFFFF;\n",
              "    }\n",
              "  </style>\n",
              "\n",
              "      <script>\n",
              "        const buttonEl =\n",
              "          document.querySelector('#df-2db5f4b2-469c-4af7-9c07-b62f61f02114 button.colab-df-convert');\n",
              "        buttonEl.style.display =\n",
              "          google.colab.kernel.accessAllowed ? 'block' : 'none';\n",
              "\n",
              "        async function convertToInteractive(key) {\n",
              "          const element = document.querySelector('#df-2db5f4b2-469c-4af7-9c07-b62f61f02114');\n",
              "          const dataTable =\n",
              "            await google.colab.kernel.invokeFunction('convertToInteractive',\n",
              "                                                     [key], {});\n",
              "          if (!dataTable) return;\n",
              "\n",
              "          const docLinkHtml = 'Like what you see? Visit the ' +\n",
              "            '<a target=\"_blank\" href=https://colab.research.google.com/notebooks/data_table.ipynb>data table notebook</a>'\n",
              "            + ' to learn more about interactive tables.';\n",
              "          element.innerHTML = '';\n",
              "          dataTable['output_type'] = 'display_data';\n",
              "          await google.colab.output.renderOutput(dataTable, element);\n",
              "          const docLink = document.createElement('div');\n",
              "          docLink.innerHTML = docLinkHtml;\n",
              "          element.appendChild(docLink);\n",
              "        }\n",
              "      </script>\n",
              "    </div>\n",
              "  </div>\n",
              "  "
            ]
          },
          "metadata": {},
          "execution_count": 38
        }
      ],
      "source": [
        "df"
      ],
      "id": "NPn7AWQIuhov"
    },
    {
      "cell_type": "markdown",
      "metadata": {
        "id": "lDgan5-AB8w1"
      },
      "source": [
        "## TurbID"
      ],
      "id": "lDgan5-AB8w1"
    },
    {
      "cell_type": "markdown",
      "metadata": {
        "id": "zSRijov68h3H"
      },
      "source": [
        "'TurbID' is a categorial variable with 134 unique values. To deal with this, we can resort to one-hot-encoding which would completely remove any ranking bias but that would increase our dimensions by 134 which is not feasible. Therefore, we will split 'TurbID' into 'Cluster' and 'ID'. Cluster will represent the turbine's location with respect to it's X-coordinate and ID will represent the turbine's location with respect to it's Y-cooridinate, although this will not completely remove the ranking bias, it will certainly reduce it drastically."
      ],
      "id": "zSRijov68h3H"
    },
    {
      "cell_type": "code",
      "execution_count": null,
      "metadata": {
        "colab": {
          "base_uri": "https://localhost:8080/"
        },
        "id": "Xg-s2Cal4X8k",
        "outputId": "00b609d0-2676-47c1-804e-66e9bd898a97"
      },
      "outputs": [
        {
          "output_type": "display_data",
          "data": {
            "text/plain": [
              "<Figure size 640x480 with 1 Axes>"
            ],
            "image/png": "[encoded data removed]"
          },
          "metadata": {}
        }
      ],
      "source": [
        "# Visualizing the Turbines\n",
        "viz_df = pd.read_csv('/content/drive/MyDrive/5002 Project/data/sdwpf_baidukddcup2022_turb_location.CSV')\n",
        "import matplotlib.pyplot as plt\n",
        "\n",
        "# Extract X, Y coordinates, and turbine ID from the dataset\n",
        "x = viz_df['x']\n",
        "y = viz_df['y']\n",
        "turb_id = viz_df['TurbID']\n",
        "\n",
        "# Create a scatter plot of the turbine locations\n",
        "plt.scatter(x, y)\n",
        "\n",
        "# Add labels for each turbine ID\n",
        "for i, id in enumerate(turb_id):\n",
        "    plt.text(x[i], y[i], str(id))\n",
        "\n",
        "plt.xlabel('X Coordinate')\n",
        "plt.ylabel('Y Coordinate')\n",
        "plt.title('Spatial Distribution of Turbines')\n",
        "plt.scatter(x, y)\n",
        "plt.xlim(-500, 6000)\n",
        "plt.ylim(-500, 13000)\n",
        "plt.show()"
      ],
      "id": "Xg-s2Cal4X8k"
    },
    {
      "cell_type": "code",
      "execution_count": null,
      "metadata": {
        "id": "DwPM-WfmLVcv"
      },
      "outputs": [],
      "source": [
        "id = df[['TurbID', 'x', 'y']].drop_duplicates()"
      ],
      "id": "DwPM-WfmLVcv"
    },
    {
      "cell_type": "code",
      "execution_count": null,
      "metadata": {
        "colab": {
          "base_uri": "https://localhost:8080/"
        },
        "id": "phXlGjZOKCJ_",
        "outputId": "af423d16-32cb-4047-f2e0-b3ab76173b32"
      },
      "outputs": [
        {
          "output_type": "execute_result",
          "data": {
            "text/plain": [
              "134"
            ]
          },
          "metadata": {},
          "execution_count": 41
        }
      ],
      "source": [
        "df['TurbID'].max().sum()"
      ],
      "id": "phXlGjZOKCJ_"
    },
    {
      "cell_type": "code",
      "execution_count": null,
      "metadata": {
        "colab": {
          "base_uri": "https://localhost:8080/"
        },
        "id": "QkX0wagkAhJ3",
        "outputId": "6fa7e4d1-b584-451b-fd53-e3ac221e7f52"
      },
      "outputs": [
        {
          "output_type": "stream",
          "name": "stdout",
          "text": [
            "Cluster 1: range(1, 23)\n",
            "Cluster 2: range(1, 23)\n",
            "Cluster 3: range(1, 23)\n",
            "Cluster 4: range(1, 25)\n",
            "Cluster 5: range(1, 24)\n",
            "Cluster 6: range(1, 22)\n"
          ]
        }
      ],
      "source": [
        "# Create a new column 'Cluster' based on the 'x' values\n",
        "id['Cluster'] = pd.cut(id['x'], bins=[-500, 500, 1500, 2500, 4000, 4750, float('inf')], labels=[1, 2, 3, 4, 5, 6])\n",
        "\n",
        "# Group the data by 'Cluster'\n",
        "gb = id.groupby('Cluster')\n",
        "\n",
        "# Create a new column 'ID' based on the 'y' values within each cluster\n",
        "id['ID'] = 0  # Initialize with a sentinel value\n",
        "\n",
        "for name, group in gb:\n",
        "    # Sort the group by Y value in descending order\n",
        "    group = group.sort_values('y', ascending=False)\n",
        "    # Assign ID values from 1 to n in ascending order based on Y value\n",
        "    ids = range(1, len(group)+1)\n",
        "    print(f\"Cluster {name}: {ids}\")\n",
        "    id.loc[group.index, 'ID'] = ids"
      ],
      "id": "QkX0wagkAhJ3"
    },
    {
      "cell_type": "code",
      "execution_count": null,
      "metadata": {
        "colab": {
          "base_uri": "https://localhost:8080/"
        },
        "id": "dmEq2oQWJtcn",
        "outputId": "d405e642-c8dc-48c8-e934-7194be5c1d8c"
      },
      "outputs": [
        {
          "output_type": "stream",
          "name": "stdout",
          "text": [
            "134\n"
          ]
        }
      ],
      "source": [
        "print(id.groupby('Cluster')['ID'].max().sum())"
      ],
      "id": "dmEq2oQWJtcn"
    },
    {
      "cell_type": "code",
      "execution_count": null,
      "metadata": {
        "colab": {
          "base_uri": "https://localhost:8080/"
        },
        "id": "TONTZTcWOVB5",
        "outputId": "b552e5d9-13e1-4982-b8ea-aa30d86dabbd"
      },
      "outputs": [
        {
          "output_type": "execute_result",
          "data": {
            "text/plain": [
              "Index(['TurbID', 'Day', 'Wspd', 'Prtv', 'Patv', 'x', 'y', 'Abnormal',\n",
              "       'Pab_max', 'hour_sin', 'hour_cos', 'minute_sin', 'minute_cos',\n",
              "       'Cluster', 'ID'],\n",
              "      dtype='object')"
            ]
          },
          "metadata": {},
          "execution_count": 44
        }
      ],
      "source": [
        "id = id.drop(columns=[\"x\", \"y\"], axis=1)\n",
        "merged_df = pd.merge(df, id, on='TurbID', how = \"left\")\n",
        "merged_df.columns"
      ],
      "id": "TONTZTcWOVB5"
    },
    {
      "cell_type": "markdown",
      "metadata": {
        "id": "uhLwZsGY9tWf"
      },
      "source": [
        "We no longer need 'TurbID' since we split it into 'Cluster' and 'ID'. We also no longer need 'x' and 'y' since we used them for the splitting and the values by itself have no correlation with the target variable 'Patv'."
      ],
      "id": "uhLwZsGY9tWf"
    },
    {
      "cell_type": "code",
      "execution_count": null,
      "metadata": {
        "id": "K4qDZ0yjO6gs"
      },
      "outputs": [],
      "source": [
        "df = merged_df.copy()\n",
        "# rename\n",
        "df = df.drop(columns=[\"x\", \"y\", \"TurbID\"], axis=1)\n",
        "df = df[['hour_sin', 'hour_cos', 'minute_sin', 'minute_cos', 'Day', 'Cluster', 'ID', 'Wspd', 'Pab_max', 'Prtv', 'Patv']]"
      ],
      "id": "K4qDZ0yjO6gs"
    },
    {
      "cell_type": "code",
      "execution_count": null,
      "metadata": {
        "colab": {
          "base_uri": "https://localhost:8080/"
        },
        "id": "0UJ6bVRCS18C",
        "outputId": "34f5412f-b9ce-4086-d5d3-a61a1e4cd136"
      },
      "outputs": [
        {
          "output_type": "execute_result",
          "data": {
            "text/plain": [
              "Index(['hour_sin', 'hour_cos', 'minute_sin', 'minute_cos', 'Day', 'Cluster',\n",
              "       'ID', 'Wspd', 'Pab_max', 'Prtv', 'Patv'],\n",
              "      dtype='object')"
            ]
          },
          "metadata": {},
          "execution_count": 46
        }
      ],
      "source": [
        "df.columns"
      ],
      "id": "0UJ6bVRCS18C"
    },
    {
      "cell_type": "markdown",
      "metadata": {
        "id": "hsuiOFCjx2Gt"
      },
      "source": [
        "## PCA"
      ],
      "id": "hsuiOFCjx2Gt"
    },
    {
      "cell_type": "code",
      "execution_count": null,
      "metadata": {
        "id": "SU6_E7H0--MA"
      },
      "outputs": [],
      "source": [
        "# from sklearn.decomposition import PCA\n",
        "# from sklearn.preprocessing import StandardScaler\n",
        "\n",
        "# # Separate variables that are not needed to run PCA on\n",
        "# features = train_df.drop(columns=['Patv', 'hour_sin', 'hour_cos', 'minute_sin', 'minute_cos', 'Cluster', 'ID', 'Abnormal', 'Day'])\n",
        "\n",
        "# # Standardize the feature matrix\n",
        "# scaler = StandardScaler()\n",
        "# X = scaler.fit_transform(features)\n",
        "\n",
        "# # Apply PCA\n",
        "# pca = PCA()\n",
        "# X_pca = pca.fit_transform(X)\n",
        "\n",
        "# # Determine the number of important components\n",
        "# explained_variance_ratio = pca.explained_variance_ratio_\n",
        "# cumulative_explained_variance = np.cumsum(explained_variance_ratio)\n",
        "\n",
        "# n_important_components = np.argmax(cumulative_explained_variance >= 0.95) + 1\n",
        "\n",
        "# # Print the percent importance of each feature\n",
        "# print('Percent Importance of Each Feature:')\n",
        "# for i, var in enumerate(pca.explained_variance_ratio_):\n",
        "#     print(f'PC{i+1}: {var*100:.2f}%')\n",
        "\n",
        "# # Keep the important components\n",
        "# pca = PCA(n_components=n_important_components)\n",
        "# X_pca = pca.fit_transform(X)\n",
        "\n",
        "# # Create a DataFrame with the important components\n",
        "# important_components_df = pd.DataFrame(X_pca, columns=[f'PC{i}' for i in range(1, n_important_components + 1)])\n",
        "\n",
        "# # Add the target variable back to the new DataFrame\n",
        "# important_components_df['Patv'] = train_df['Patv']\n",
        "# important_components_df['Cluster'] = train_df['Cluster']\n",
        "# important_components_df['ID'] = train_df['ID']\n",
        "# important_components_df['hour_sin'] = train_df['hour_sin']\n",
        "# important_components_df['hour_cos'] = train_df['hour_cos']\n",
        "# important_components_df['minute_sin'] = train_df['minute_sin']\n",
        "# important_components_df['minute_cos'] = train_df['minute_cos']\n",
        "# important_components_df['Abnormal'] = train_df['Abnormal']\n",
        "# important_components_df['Day'] = train_df['Day']\n",
        "\n",
        "# # Rename the columns of the new DataFrame to retain original feature names\n",
        "# important_components_df.columns = list(features.columns[n] for n in range(n_important_components)) + ['Patv'] + ['Cluster'] + ['ID'] + ['hour_sin'] + ['hour_cos'] + ['minute_sin'] + ['minute_cos'] + ['Abnormal'] + ['Day']"
      ],
      "id": "SU6_E7H0--MA"
    },
    {
      "cell_type": "code",
      "execution_count": null,
      "metadata": {
        "id": "86Ocpj1l2rb6"
      },
      "outputs": [],
      "source": [
        "# features.columns"
      ],
      "id": "86Ocpj1l2rb6"
    },
    {
      "cell_type": "code",
      "execution_count": null,
      "metadata": {
        "id": "PAmv5c7Zi3Lg"
      },
      "outputs": [],
      "source": [
        "# important_components_df.columns"
      ],
      "id": "PAmv5c7Zi3Lg"
    },
    {
      "cell_type": "code",
      "execution_count": null,
      "metadata": {
        "id": "VtcG0SSo2bs6"
      },
      "outputs": [],
      "source": [
        "# # select the columns in the desired order\n",
        "# df = important_components_df.loc[:, ['Patv', 'hour_sin', 'hour_cos', 'minute_sin', 'minute_cos', 'Cluster', 'ID', 'Abnormal', 'Day']]\n",
        "# df.columns"
      ],
      "id": "VtcG0SSo2bs6"
    },
    {
      "cell_type": "markdown",
      "metadata": {
        "id": "PJFJozCUkNDg"
      },
      "source": [
        "We run PCA on a few attributes but decide not to remove any other attributes as they seem important intuitively such as Day, Time (hour and minutes), TurbID (cluster and ID)"
      ],
      "id": "PJFJozCUkNDg"
    },
    {
      "cell_type": "markdown",
      "metadata": {
        "id": "0effbf2d-dbb4-4ac2-8b43-a94452da192d"
      },
      "source": [
        "# Model"
      ],
      "id": "0effbf2d-dbb4-4ac2-8b43-a94452da192d"
    },
    {
      "cell_type": "code",
      "execution_count": null,
      "metadata": {
        "id": "JUeOlqAyZ7D3"
      },
      "outputs": [],
      "source": [
        "test = df.copy()"
      ],
      "id": "JUeOlqAyZ7D3"
    },
    {
      "cell_type": "code",
      "execution_count": null,
      "metadata": {
        "id": "ONktA2y38afI"
      },
      "outputs": [],
      "source": [
        "data = test.copy()"
      ],
      "id": "ONktA2y38afI"
    },
    {
      "cell_type": "code",
      "source": [
        "# df.to_csv('/content/drive/MyDrive/5002 Project/data/cleaned_data_3.csv', index=False)"
      ],
      "metadata": {
        "id": "_RcCGMvI0aIw"
      },
      "id": "_RcCGMvI0aIw",
      "execution_count": null,
      "outputs": []
    },
    {
      "cell_type": "code",
      "source": [
        "from google.colab import drive\n",
        "drive.mount('/content/drive')"
      ],
      "metadata": {
        "colab": {
          "base_uri": "https://localhost:8080/"
        },
        "id": "YwbWOX8Jrckq",
        "outputId": "80f08503-f535-4306-e7a5-3e392b11599c"
      },
      "id": "YwbWOX8Jrckq",
      "execution_count": null,
      "outputs": [
        {
          "output_type": "stream",
          "name": "stdout",
          "text": [
            "Mounted at /content/drive\n"
          ]
        }
      ]
    },
    {
      "cell_type": "code",
      "source": [
        "import pandas as pd\n",
        "import numpy as np\n",
        "data = pd.read_csv('/content/drive/MyDrive/5002 Project/data/cleaned_data_3.csv')"
      ],
      "metadata": {
        "id": "wuevxEyN0iCA"
      },
      "id": "wuevxEyN0iCA",
      "execution_count": null,
      "outputs": []
    },
    {
      "cell_type": "code",
      "source": [
        "data"
      ],
      "metadata": {
        "colab": {
          "base_uri": "https://localhost:8080/",
          "height": 419
        },
        "id": "q0DrM6YdNsbS",
        "outputId": "7177d87d-6adb-49c9-cc8f-bff8bac17b29"
      },
      "id": "q0DrM6YdNsbS",
      "execution_count": null,
      "outputs": [
        {
          "output_type": "execute_result",
          "data": {
            "text/plain": [
              "         hour_sin  hour_cos    minute_sin  minute_cos  Day  Cluster  ID  Wspd  \\\n",
              "0        0.000000  1.000000  0.000000e+00         1.0    1        4  12  6.17   \n",
              "1        0.000000  1.000000  8.660254e-01         0.5    1        4  12  6.17   \n",
              "2        0.000000  1.000000  8.660254e-01        -0.5    1        4  12  6.27   \n",
              "3        0.000000  1.000000  5.665539e-16        -1.0    1        4  12  6.42   \n",
              "4        0.000000  1.000000 -8.660254e-01        -0.5    1        4  12  6.25   \n",
              "...           ...       ...           ...         ...  ...      ...  ..   ...   \n",
              "4727515 -0.258819  0.965926  8.660254e-01         0.5  245        1  12  7.79   \n",
              "4727516 -0.258819  0.965926  8.660254e-01        -0.5  245        1  12  8.06   \n",
              "4727517 -0.258819  0.965926  5.665539e-16        -1.0  245        1  12  8.08   \n",
              "4727518 -0.258819  0.965926 -8.660254e-01        -0.5  245        1  12  8.46   \n",
              "4727519 -0.258819  0.965926 -8.660254e-01         0.5  245        1  12  8.68   \n",
              "\n",
              "         Pab_max  Prtv     Patv  \n",
              "0           1.00   0.0   494.66  \n",
              "1           1.00   0.0   494.66  \n",
              "2           1.00   0.0   509.76  \n",
              "3           1.00   0.0   542.53  \n",
              "4           1.00   0.0   509.36  \n",
              "...          ...   ...      ...  \n",
              "4727515     6.03   0.0   601.44  \n",
              "4727516     5.81   0.0   673.79  \n",
              "4727517     0.68   0.0   999.36  \n",
              "4727518     0.02   0.0  1100.89  \n",
              "4727519     0.01   0.0  1181.49  \n",
              "\n",
              "[4727520 rows x 11 columns]"
            ],
            "text/html": [
              "\n",
              "  <div id=\"df-a8aedaae-d108-4a0e-999f-64c11974eb89\">\n",
              "    <div class=\"colab-df-container\">\n",
              "      <div>\n",
              "<style scoped>\n",
              "    .dataframe tbody tr th:only-of-type {\n",
              "        vertical-align: middle;\n",
              "    }\n",
              "\n",
              "    .dataframe tbody tr th {\n",
              "        vertical-align: top;\n",
              "    }\n",
              "\n",
              "    .dataframe thead th {\n",
              "        text-align: right;\n",
              "    }\n",
              "</style>\n",
              "<table border=\"1\" class=\"dataframe\">\n",
              "  <thead>\n",
              "    <tr style=\"text-align: right;\">\n",
              "      <th></th>\n",
              "      <th>hour_sin</th>\n",
              "      <th>hour_cos</th>\n",
              "      <th>minute_sin</th>\n",
              "      <th>minute_cos</th>\n",
              "      <th>Day</th>\n",
              "      <th>Cluster</th>\n",
              "      <th>ID</th>\n",
              "      <th>Wspd</th>\n",
              "      <th>Pab_max</th>\n",
              "      <th>Prtv</th>\n",
              "      <th>Patv</th>\n",
              "    </tr>\n",
              "  </thead>\n",
              "  <tbody>\n",
              "    <tr>\n",
              "      <th>0</th>\n",
              "      <td>0.000000</td>\n",
              "      <td>1.000000</td>\n",
              "      <td>0.000000e+00</td>\n",
              "      <td>1.0</td>\n",
              "      <td>1</td>\n",
              "      <td>4</td>\n",
              "      <td>12</td>\n",
              "      <td>6.17</td>\n",
              "      <td>1.00</td>\n",
              "      <td>0.0</td>\n",
              "      <td>494.66</td>\n",
              "    </tr>\n",
              "    <tr>\n",
              "      <th>1</th>\n",
              "      <td>0.000000</td>\n",
              "      <td>1.000000</td>\n",
              "      <td>8.660254e-01</td>\n",
              "      <td>0.5</td>\n",
              "      <td>1</td>\n",
              "      <td>4</td>\n",
              "      <td>12</td>\n",
              "      <td>6.17</td>\n",
              "      <td>1.00</td>\n",
              "      <td>0.0</td>\n",
              "      <td>494.66</td>\n",
              "    </tr>\n",
              "    <tr>\n",
              "      <th>2</th>\n",
              "      <td>0.000000</td>\n",
              "      <td>1.000000</td>\n",
              "      <td>8.660254e-01</td>\n",
              "      <td>-0.5</td>\n",
              "      <td>1</td>\n",
              "      <td>4</td>\n",
              "      <td>12</td>\n",
              "      <td>6.27</td>\n",
              "      <td>1.00</td>\n",
              "      <td>0.0</td>\n",
              "      <td>509.76</td>\n",
              "    </tr>\n",
              "    <tr>\n",
              "      <th>3</th>\n",
              "      <td>0.000000</td>\n",
              "      <td>1.000000</td>\n",
              "      <td>5.665539e-16</td>\n",
              "      <td>-1.0</td>\n",
              "      <td>1</td>\n",
              "      <td>4</td>\n",
              "      <td>12</td>\n",
              "      <td>6.42</td>\n",
              "      <td>1.00</td>\n",
              "      <td>0.0</td>\n",
              "      <td>542.53</td>\n",
              "    </tr>\n",
              "    <tr>\n",
              "      <th>4</th>\n",
              "      <td>0.000000</td>\n",
              "      <td>1.000000</td>\n",
              "      <td>-8.660254e-01</td>\n",
              "      <td>-0.5</td>\n",
              "      <td>1</td>\n",
              "      <td>4</td>\n",
              "      <td>12</td>\n",
              "      <td>6.25</td>\n",
              "      <td>1.00</td>\n",
              "      <td>0.0</td>\n",
              "      <td>509.36</td>\n",
              "    </tr>\n",
              "    <tr>\n",
              "      <th>...</th>\n",
              "      <td>...</td>\n",
              "      <td>...</td>\n",
              "      <td>...</td>\n",
              "      <td>...</td>\n",
              "      <td>...</td>\n",
              "      <td>...</td>\n",
              "      <td>...</td>\n",
              "      <td>...</td>\n",
              "      <td>...</td>\n",
              "      <td>...</td>\n",
              "      <td>...</td>\n",
              "    </tr>\n",
              "    <tr>\n",
              "      <th>4727515</th>\n",
              "      <td>-0.258819</td>\n",
              "      <td>0.965926</td>\n",
              "      <td>8.660254e-01</td>\n",
              "      <td>0.5</td>\n",
              "      <td>245</td>\n",
              "      <td>1</td>\n",
              "      <td>12</td>\n",
              "      <td>7.79</td>\n",
              "      <td>6.03</td>\n",
              "      <td>0.0</td>\n",
              "      <td>601.44</td>\n",
              "    </tr>\n",
              "    <tr>\n",
              "      <th>4727516</th>\n",
              "      <td>-0.258819</td>\n",
              "      <td>0.965926</td>\n",
              "      <td>8.660254e-01</td>\n",
              "      <td>-0.5</td>\n",
              "      <td>245</td>\n",
              "      <td>1</td>\n",
              "      <td>12</td>\n",
              "      <td>8.06</td>\n",
              "      <td>5.81</td>\n",
              "      <td>0.0</td>\n",
              "      <td>673.79</td>\n",
              "    </tr>\n",
              "    <tr>\n",
              "      <th>4727517</th>\n",
              "      <td>-0.258819</td>\n",
              "      <td>0.965926</td>\n",
              "      <td>5.665539e-16</td>\n",
              "      <td>-1.0</td>\n",
              "      <td>245</td>\n",
              "      <td>1</td>\n",
              "      <td>12</td>\n",
              "      <td>8.08</td>\n",
              "      <td>0.68</td>\n",
              "      <td>0.0</td>\n",
              "      <td>999.36</td>\n",
              "    </tr>\n",
              "    <tr>\n",
              "      <th>4727518</th>\n",
              "      <td>-0.258819</td>\n",
              "      <td>0.965926</td>\n",
              "      <td>-8.660254e-01</td>\n",
              "      <td>-0.5</td>\n",
              "      <td>245</td>\n",
              "      <td>1</td>\n",
              "      <td>12</td>\n",
              "      <td>8.46</td>\n",
              "      <td>0.02</td>\n",
              "      <td>0.0</td>\n",
              "      <td>1100.89</td>\n",
              "    </tr>\n",
              "    <tr>\n",
              "      <th>4727519</th>\n",
              "      <td>-0.258819</td>\n",
              "      <td>0.965926</td>\n",
              "      <td>-8.660254e-01</td>\n",
              "      <td>0.5</td>\n",
              "      <td>245</td>\n",
              "      <td>1</td>\n",
              "      <td>12</td>\n",
              "      <td>8.68</td>\n",
              "      <td>0.01</td>\n",
              "      <td>0.0</td>\n",
              "      <td>1181.49</td>\n",
              "    </tr>\n",
              "  </tbody>\n",
              "</table>\n",
              "<p>4727520 rows × 11 columns</p>\n",
              "</div>\n",
              "      <button class=\"colab-df-convert\" onclick=\"convertToInteractive('df-a8aedaae-d108-4a0e-999f-64c11974eb89')\"\n",
              "              title=\"Convert this dataframe to an interactive table.\"\n",
              "              style=\"display:none;\">\n",
              "        \n",
              "  <svg xmlns=\"http://www.w3.org/2000/svg\" height=\"24px\"viewBox=\"0 0 24 24\"\n",
              "       width=\"24px\">\n",
              "    <path d=\"M0 0h24v24H0V0z\" fill=\"none\"/>\n",
              "    <path d=\"M18.56 5.44l.94 2.06.94-2.06 2.06-.94-2.06-.94-.94-2.06-.94 2.06-2.06.94zm-11 1L8.5 8.5l.94-2.06 2.06-.94-2.06-.94L8.5 2.5l-.94 2.06-2.06.94zm10 10l.94 2.06.94-2.06 2.06-.94-2.06-.94-.94-2.06-.94 2.06-2.06.94z\"/><path d=\"M17.41 7.96l-1.37-1.37c-.4-.4-.92-.59-1.43-.59-.52 0-1.04.2-1.43.59L10.3 9.45l-7.72 7.72c-.78.78-.78 2.05 0 2.83L4 21.41c.39.39.9.59 1.41.59.51 0 1.02-.2 1.41-.59l7.78-7.78 2.81-2.81c.8-.78.8-2.07 0-2.86zM5.41 20L4 18.59l7.72-7.72 1.47 1.35L5.41 20z\"/>\n",
              "  </svg>\n",
              "      </button>\n",
              "      \n",
              "  <style>\n",
              "    .colab-df-container {\n",
              "      display:flex;\n",
              "      flex-wrap:wrap;\n",
              "      gap: 12px;\n",
              "    }\n",
              "\n",
              "    .colab-df-convert {\n",
              "      background-color: #E8F0FE;\n",
              "      border: none;\n",
              "      border-radius: 50%;\n",
              "      cursor: pointer;\n",
              "      display: none;\n",
              "      fill: #1967D2;\n",
              "      height: 32px;\n",
              "      padding: 0 0 0 0;\n",
              "      width: 32px;\n",
              "    }\n",
              "\n",
              "    .colab-df-convert:hover {\n",
              "      background-color: #E2EBFA;\n",
              "      box-shadow: 0px 1px 2px rgba(60, 64, 67, 0.3), 0px 1px 3px 1px rgba(60, 64, 67, 0.15);\n",
              "      fill: #174EA6;\n",
              "    }\n",
              "\n",
              "    [theme=dark] .colab-df-convert {\n",
              "      background-color: #3B4455;\n",
              "      fill: #D2E3FC;\n",
              "    }\n",
              "\n",
              "    [theme=dark] .colab-df-convert:hover {\n",
              "      background-color: #434B5C;\n",
              "      box-shadow: 0px 1px 3px 1px rgba(0, 0, 0, 0.15);\n",
              "      filter: drop-shadow(0px 1px 2px rgba(0, 0, 0, 0.3));\n",
              "      fill: #FFFFFF;\n",
              "    }\n",
              "  </style>\n",
              "\n",
              "      <script>\n",
              "        const buttonEl =\n",
              "          document.querySelector('#df-a8aedaae-d108-4a0e-999f-64c11974eb89 button.colab-df-convert');\n",
              "        buttonEl.style.display =\n",
              "          google.colab.kernel.accessAllowed ? 'block' : 'none';\n",
              "\n",
              "        async function convertToInteractive(key) {\n",
              "          const element = document.querySelector('#df-a8aedaae-d108-4a0e-999f-64c11974eb89');\n",
              "          const dataTable =\n",
              "            await google.colab.kernel.invokeFunction('convertToInteractive',\n",
              "                                                     [key], {});\n",
              "          if (!dataTable) return;\n",
              "\n",
              "          const docLinkHtml = 'Like what you see? Visit the ' +\n",
              "            '<a target=\"_blank\" href=https://colab.research.google.com/notebooks/data_table.ipynb>data table notebook</a>'\n",
              "            + ' to learn more about interactive tables.';\n",
              "          element.innerHTML = '';\n",
              "          dataTable['output_type'] = 'display_data';\n",
              "          await google.colab.output.renderOutput(dataTable, element);\n",
              "          const docLink = document.createElement('div');\n",
              "          docLink.innerHTML = docLinkHtml;\n",
              "          element.appendChild(docLink);\n",
              "        }\n",
              "      </script>\n",
              "    </div>\n",
              "  </div>\n",
              "  "
            ]
          },
          "metadata": {},
          "execution_count": 62
        }
      ]
    },
    {
      "cell_type": "code",
      "execution_count": null,
      "metadata": {
        "colab": {
          "base_uri": "https://localhost:8080/"
        },
        "id": "Xuy-f6p7xWpQ",
        "outputId": "47bf8c00-882e-43b0-d670-14458ef8d751"
      },
      "outputs": [
        {
          "output_type": "execute_result",
          "data": {
            "text/plain": [
              "Index(['hour_sin', 'hour_cos', 'minute_sin', 'minute_cos', 'Day', 'Cluster',\n",
              "       'ID', 'Wspd', 'Pab_max', 'Prtv', 'Patv'],\n",
              "      dtype='object')"
            ]
          },
          "metadata": {},
          "execution_count": 3
        }
      ],
      "source": [
        "data.columns"
      ],
      "id": "Xuy-f6p7xWpQ"
    },
    {
      "cell_type": "code",
      "execution_count": null,
      "metadata": {
        "id": "mII4W25pxLgG"
      },
      "outputs": [],
      "source": [
        "# rearrange\n",
        "data = data[['hour_sin', 'hour_cos', 'minute_sin', 'minute_cos', 'Cluster', 'ID', 'Day', 'Wspd', 'Pab_max', 'Prtv', 'Patv']]"
      ],
      "id": "mII4W25pxLgG"
    },
    {
      "cell_type": "code",
      "execution_count": null,
      "metadata": {
        "id": "XTaoWT8FAUTD"
      },
      "outputs": [],
      "source": [
        "from sklearn.preprocessing import MinMaxScaler\n",
        "\n",
        "# Separate features that should not be scaled\n",
        "data_not_scaled = data[['Cluster', 'ID', 'Patv', 'Day', 'hour_sin', 'hour_cos', 'minute_sin', 'minute_cos']]\n",
        "\n",
        "# Scale the remaining features\n",
        "scaler = MinMaxScaler()\n",
        "data_scaled = pd.DataFrame(scaler.fit_transform(data.drop(['Cluster', 'ID', 'Patv', 'Day', 'hour_sin', 'hour_cos', 'minute_sin', 'minute_cos'], axis=1)),\n",
        "                           columns=data.columns.difference(['Cluster', 'ID', 'Patv', 'Day', 'hour_sin', 'hour_cos', 'minute_sin', 'minute_cos']))\n",
        "\n",
        "# Combine the scaled and not-scaled data\n",
        "data_processed = pd.concat([data_not_scaled, data_scaled], axis=1)"
      ],
      "id": "XTaoWT8FAUTD"
    },
    {
      "cell_type": "code",
      "execution_count": null,
      "metadata": {
        "colab": {
          "base_uri": "https://localhost:8080/"
        },
        "id": "AfRuGtykEJT5",
        "outputId": "273b92c5-f737-4015-bcc7-39e23813b00b"
      },
      "outputs": [
        {
          "output_type": "execute_result",
          "data": {
            "text/plain": [
              "35280    134\n",
              "Name: Day, dtype: int64"
            ]
          },
          "metadata": {},
          "execution_count": 6
        }
      ],
      "source": [
        "data.groupby(['Cluster', 'ID']).count()['Day'].value_counts()"
      ],
      "id": "AfRuGtykEJT5"
    },
    {
      "cell_type": "code",
      "execution_count": null,
      "metadata": {
        "id": "MpgWXWjJMOc9"
      },
      "outputs": [],
      "source": [
        "# rearrange\n",
        "data_processed = data_processed[['hour_sin', 'hour_cos', 'minute_sin', 'minute_cos', 'Cluster', 'ID', 'Day', 'Wspd','Pab_max', 'Prtv', 'Patv']]"
      ],
      "id": "MpgWXWjJMOc9"
    },
    {
      "cell_type": "code",
      "execution_count": null,
      "metadata": {
        "colab": {
          "base_uri": "https://localhost:8080/"
        },
        "id": "QsVUfjE4KgKD",
        "outputId": "d5a7a10c-622a-4f90-b7dc-d78f3cdd0b90"
      },
      "outputs": [
        {
          "output_type": "stream",
          "name": "stdout",
          "text": [
            "Number of unique turbines before grouping: 134\n",
            "Number of unique turbines after grouping: 134\n"
          ]
        }
      ],
      "source": [
        "# Before grouping\n",
        "unique_turbines = data_processed[['Cluster', 'ID']].drop_duplicates()\n",
        "print(\"Number of unique turbines before grouping:\", len(unique_turbines))\n",
        "\n",
        "# After grouping\n",
        "grouped_turbines = data_processed.groupby(['Cluster', 'ID']).count().reset_index()[['Cluster', 'ID']]\n",
        "print(\"Number of unique turbines after grouping:\", len(grouped_turbines))"
      ],
      "id": "QsVUfjE4KgKD"
    },
    {
      "cell_type": "code",
      "source": [
        "import tensorflow as tf\n",
        "from tensorflow.keras.layers import GRU, Conv1D, Dense, LSTM, Dropout, MaxPooling1D, Flatten, Bidirectional\n",
        "from tensorflow.keras.layers import BatchNormalization\n",
        "from tensorflow.keras.models import Sequential\n",
        "from tensorflow.keras.callbacks import ModelCheckpoint, EarlyStopping\n",
        "from tensorflow.keras.optimizers import Adam\n",
        "from keras.utils.vis_utils import plot_model\n",
        "from sklearn.model_selection import train_test_split\n",
        "from keras.regularizers import l2\n",
        "import lightgbm as lgb\n",
        "\n",
        "# Custom RMSE metric\n",
        "def root_mean_squared_error(y_true, y_pred):\n",
        "    return tf.sqrt(tf.reduce_mean(tf.square(y_pred - y_true)))\n",
        "    \n",
        "reg_lambda = 0.03\n",
        "\n",
        "model = Sequential([\n",
        "    Dense(128, activation='relu', input_shape=(1008, 11), kernel_regularizer=l2(reg_lambda)),\n",
        "    Dropout(0.7),\n",
        "    Dense(64, activation='relu', kernel_regularizer=l2(reg_lambda)),\n",
        "    Dropout(0.7),\n",
        "    Dense(32, activation='relu', kernel_regularizer=l2(reg_lambda)),\n",
        "    Dropout(0.7),\n",
        "    Flatten(),\n",
        "    Dense(256, activation='relu', kernel_regularizer=l2(reg_lambda)),\n",
        "    Dropout(0.7),\n",
        "    Dense(288)\n",
        "])\n",
        "\n",
        "lr = 0.0005\n",
        "\n",
        "# reg_lambda = 0.03\n",
        "# dropout_rate = 0.5\n",
        "\n",
        "# model = Sequential([\n",
        "#     GRU(128, return_sequences=True, input_shape=(1008, 11), kernel_regularizer=l2(reg_lambda)),  # Increase complexity\n",
        "#     Dropout(dropout_rate),\n",
        "#     GRU(64, return_sequences=True, kernel_regularizer=l2(reg_lambda)),  # Add another GRU layer\n",
        "#     Dropout(dropout_rate),\n",
        "#     GRU(32, return_sequences=True, kernel_regularizer=l2(reg_lambda)),  # Add another GRU layer\n",
        "#     Dropout(dropout_rate),\n",
        "#     Flatten(),\n",
        "#     Dense(256, activation='relu', kernel_regularizer=l2(reg_lambda)),\n",
        "#     Dropout(dropout_rate),\n",
        "#     Dense(288)\n",
        "# ])\n",
        "\n",
        "# lr = 0.001\n",
        "   \n",
        "optimizer = Adam(learning_rate=lr)\n",
        "model.compile(optimizer=optimizer, loss='mse', metrics=['mae', root_mean_squared_error])\n",
        "\n",
        "# Set up the callbacks\n",
        "checkpoint = ModelCheckpoint('/content/drive/MyDrive/5002 Project/model/Conv/best_model.h5', monitor='val_mae', save_best_only=True, mode='min')\n",
        "early_stopping = EarlyStopping(monitor='val_mae', patience=5, mode='min')"
      ],
      "metadata": {
        "id": "pY7H7T_9sYFi"
      },
      "id": "pY7H7T_9sYFi",
      "execution_count": null,
      "outputs": []
    },
    {
      "cell_type": "code",
      "execution_count": null,
      "metadata": {
        "id": "Mp5e2AU5Db2m"
      },
      "outputs": [],
      "source": [
        "from tensorflow.keras.utils import Sequence\n",
        "\n",
        "class TurbineDataGenerator(Sequence):\n",
        "    def __init__(self, data, window_size=1008, future_steps=288, step_size=288, batch_size=24):\n",
        "        self.data = data\n",
        "        self.window_size = window_size\n",
        "        self.future_steps = future_steps\n",
        "        self.step_size = step_size\n",
        "        self.batch_size = batch_size\n",
        "        self.turbine_indices = []\n",
        "\n",
        "        for _, turbine_data in data.groupby(['Cluster', 'ID']):\n",
        "            for i in range(0, len(turbine_data) - window_size - future_steps, step_size):\n",
        "                self.turbine_indices.append((turbine_data.index[0] + i, turbine_data.index[0] + i + window_size))\n",
        "\n",
        "    def __len__(self):\n",
        "        return int(np.ceil(len(self.turbine_indices) / self.batch_size))\n",
        "\n",
        "    def __getitem__(self, idx):\n",
        "        batch_indices = self.turbine_indices[idx * self.batch_size: (idx + 1) * self.batch_size]\n",
        "\n",
        "        X = []\n",
        "        y = []\n",
        "        for start, end in batch_indices:\n",
        "            X.append(self.data.iloc[start:end, :].values)\n",
        "            y.append(self.data.iloc[end:end + self.future_steps]['Patv'].values)\n",
        "\n",
        "        return np.array(X), np.array(y)"
      ],
      "id": "Mp5e2AU5Db2m"
    },
    {
      "cell_type": "code",
      "execution_count": null,
      "metadata": {
        "colab": {
          "base_uri": "https://localhost:8080/"
        },
        "id": "GM8V2x02lQ0G",
        "outputId": "cd8c5898-4953-48c8-eafc-17e17811fed0"
      },
      "outputs": [
        {
          "output_type": "stream",
          "name": "stdout",
          "text": [
            "Number of unique turbines in train data: 134\n",
            "Number of unique turbines in validation data: 134\n"
          ]
        }
      ],
      "source": [
        "# Calculate the number of rows corresponding to 80% of 245 days\n",
        "rows_per_day = 24 * 6  # 24 hours * 6 (10-minute intervals)\n",
        "total_days = 245\n",
        "train_days = int(total_days * 0.8)\n",
        "train_rows = train_days * rows_per_day\n",
        "# Select the appropriate rows for the train data\n",
        "train_data = data_processed[data_processed.index % (total_days * rows_per_day) < train_rows].reset_index(drop=True)\n",
        "# Verify the number of unique turbines in the train data\n",
        "unique_turbines_train = train_data[['Cluster', 'ID']].drop_duplicates()\n",
        "print(\"Number of unique turbines in train data:\", len(unique_turbines_train))\n",
        "# Prepare the train generator\n",
        "train_generator = TurbineDataGenerator(train_data, batch_size=24)\n",
        "# Select the appropriate rows for the validation data\n",
        "validation_data = data_processed[data_processed.index % (total_days * rows_per_day) >= train_rows].reset_index(drop=True)\n",
        "# Verify the number of unique turbines in the validation data\n",
        "unique_turbines_validation = validation_data[['Cluster', 'ID']].drop_duplicates()\n",
        "print(\"Number of unique turbines in validation data:\", len(unique_turbines_validation))\n",
        "# Prepare the validation generator\n",
        "validation_generator = TurbineDataGenerator(validation_data, batch_size=24)"
      ],
      "id": "GM8V2x02lQ0G"
    },
    {
      "cell_type": "code",
      "execution_count": null,
      "metadata": {
        "colab": {
          "base_uri": "https://localhost:8080/"
        },
        "id": "Ln6Wz8J2lTDW",
        "outputId": "1306a3d1-4d2c-48f9-a14c-73b7c0b9a362"
      },
      "outputs": [
        {
          "output_type": "stream",
          "name": "stdout",
          "text": [
            "Epoch 1/50\n",
            "525/525 [==============================] - 18s 22ms/step - loss: 187989.6406 - mae: 313.8897 - root_mean_squared_error: 428.8912 - val_loss: 194073.9219 - val_mae: 260.4508 - val_root_mean_squared_error: 435.9824\n",
            "Epoch 2/50\n",
            "525/525 [==============================] - 10s 19ms/step - loss: 151100.8594 - mae: 286.1908 - root_mean_squared_error: 386.4225 - val_loss: 188518.3594 - val_mae: 258.3299 - val_root_mean_squared_error: 429.1467\n",
            "Epoch 3/50\n",
            "525/525 [==============================] - 10s 19ms/step - loss: 141748.2500 - mae: 274.8618 - root_mean_squared_error: 374.3007 - val_loss: 181189.5938 - val_mae: 256.8705 - val_root_mean_squared_error: 420.4933\n",
            "Epoch 4/50\n",
            "525/525 [==============================] - 8s 16ms/step - loss: 135850.6562 - mae: 268.0300 - root_mean_squared_error: 366.5472 - val_loss: 174690.3281 - val_mae: 257.9689 - val_root_mean_squared_error: 412.7587\n",
            "Epoch 5/50\n",
            "525/525 [==============================] - 9s 18ms/step - loss: 132841.6875 - mae: 264.1264 - root_mean_squared_error: 362.3409 - val_loss: 161878.5000 - val_mae: 262.0737 - val_root_mean_squared_error: 397.5163\n",
            "Epoch 6/50\n",
            "525/525 [==============================] - 10s 18ms/step - loss: 128830.8828 - mae: 259.9607 - root_mean_squared_error: 356.8037 - val_loss: 156043.5938 - val_mae: 263.7805 - val_root_mean_squared_error: 390.5258\n",
            "Epoch 7/50\n",
            "525/525 [==============================] - 9s 17ms/step - loss: 128142.7422 - mae: 258.5038 - root_mean_squared_error: 355.5375 - val_loss: 157701.3125 - val_mae: 270.1422 - val_root_mean_squared_error: 392.7155\n",
            "Epoch 8/50\n",
            "525/525 [==============================] - 9s 18ms/step - loss: 125286.1562 - mae: 255.9554 - root_mean_squared_error: 351.7640 - val_loss: 155793.3125 - val_mae: 281.3015 - val_root_mean_squared_error: 390.8438\n"
          ]
        }
      ],
      "source": [
        "# Train the model\n",
        "history = model.fit(train_generator, epochs=50, validation_data=validation_generator, steps_per_epoch = len(train_generator), callbacks=[checkpoint, early_stopping])\n",
        "\n",
        "# Save the final model\n",
        "model.save('/content/drive/MyDrive/5002 Project/model/Conv/best_model.h5')"
      ],
      "id": "Ln6Wz8J2lTDW"
    },
    {
      "cell_type": "code",
      "execution_count": null,
      "metadata": {
        "id": "rJObATpcDqrG",
        "colab": {
          "base_uri": "https://localhost:8080/",
          "height": 464
        },
        "outputId": "e394f482-e0e8-4fee-a5e1-8106b224aba3"
      },
      "outputs": [
        {
          "output_type": "display_data",
          "data": {
            "text/plain": [
              "<Figure size 1000x500 with 1 Axes>"
            ],
            "image/png": "[encoded data removed]"
          },
          "metadata": {}
        }
      ],
      "source": [
        "import matplotlib.pyplot as plt\n",
        "def plot_losses(history):\n",
        "    plt.figure(figsize=(10, 5))\n",
        "    plt.plot(history.history['loss'], label='Training Loss')\n",
        "    plt.plot(history.history['val_loss'], label='Validation Loss')\n",
        "    plt.xlabel('Epoch')\n",
        "    plt.ylabel('Loss')\n",
        "    plt.legend()\n",
        "    plt.show()\n",
        "\n",
        "# Plot the losses\n",
        "plot_losses(history)"
      ],
      "id": "rJObATpcDqrG"
    },
    {
      "cell_type": "code",
      "execution_count": null,
      "metadata": {
        "id": "jMX515VBiLM0",
        "colab": {
          "base_uri": "https://localhost:8080/",
          "height": 1000
        },
        "outputId": "9138027c-37c4-4391-ccc1-182f9b2b406a"
      },
      "outputs": [
        {
          "output_type": "stream",
          "name": "stdout",
          "text": [
            "Model: \"sequential\"\n",
            "_________________________________________________________________\n",
            " Layer (type)                Output Shape              Param #   \n",
            "=================================================================\n",
            " dense (Dense)               (None, 1008, 128)         1536      \n",
            "                                                                 \n",
            " dropout (Dropout)           (None, 1008, 128)         0         \n",
            "                                                                 \n",
            " dense_1 (Dense)             (None, 1008, 64)          8256      \n",
            "                                                                 \n",
            " dropout_1 (Dropout)         (None, 1008, 64)          0         \n",
            "                                                                 \n",
            " dense_2 (Dense)             (None, 1008, 32)          2080      \n",
            "                                                                 \n",
            " dropout_2 (Dropout)         (None, 1008, 32)          0         \n",
            "                                                                 \n",
            " flatten (Flatten)           (None, 32256)             0         \n",
            "                                                                 \n",
            " dense_3 (Dense)             (None, 256)               8257792   \n",
            "                                                                 \n",
            " dropout_3 (Dropout)         (None, 256)               0         \n",
            "                                                                 \n",
            " dense_4 (Dense)             (None, 288)               74016     \n",
            "                                                                 \n",
            "=================================================================\n",
            "Total params: 8,343,680\n",
            "Trainable params: 8,343,680\n",
            "Non-trainable params: 0\n",
            "_________________________________________________________________\n"
          ]
        },
        {
          "output_type": "execute_result",
          "data": {
            "image/png": "[encoded data removed]",
            "text/plain": [
              "<IPython.core.display.Image object>"
            ]
          },
          "metadata": {},
          "execution_count": 14
        }
      ],
      "source": [
        "# Display the model summary\n",
        "model.summary()\n",
        "\n",
        "# Plot the model image\n",
        "plot_model(model, to_file='model.png', show_shapes=True, show_layer_names=True)"
      ],
      "id": "jMX515VBiLM0"
    },
    {
      "cell_type": "markdown",
      "source": [
        "# Evaluation"
      ],
      "metadata": {
        "id": "KLy5qx12UKEU"
      },
      "id": "KLy5qx12UKEU"
    },
    {
      "cell_type": "code",
      "source": [
        "from google.colab import drive\n",
        "drive.mount('/content/drive')"
      ],
      "metadata": {
        "colab": {
          "base_uri": "https://localhost:8080/"
        },
        "id": "JUY7cPgQ_8fc",
        "outputId": "344d65c1-76e3-455c-c939-d71781468efd"
      },
      "id": "JUY7cPgQ_8fc",
      "execution_count": 21,
      "outputs": [
        {
          "output_type": "stream",
          "name": "stdout",
          "text": [
            "Drive already mounted at /content/drive; to attempt to forcibly remount, call drive.mount(\"/content/drive\", force_remount=True).\n"
          ]
        }
      ]
    },
    {
      "cell_type": "code",
      "execution_count": 22,
      "metadata": {
        "id": "xHg8aIZdrklU"
      },
      "outputs": [],
      "source": [
        "import pandas as pd\n",
        "# Load the test sets\n",
        "test_x = pd.read_csv(\"/content/drive/MyDrive/5002 Project/data/test sets/test_x/0001in.csv\")\n",
        "test_y = pd.read_csv(\"/content/drive/MyDrive/5002 Project/data/test sets/test_y/0001out.csv\")\n",
        "\n",
        "# Select last 7 days worth of data from test_x\n",
        "test_x = test_x[test_x['Day'] > 7]"
      ],
      "id": "xHg8aIZdrklU"
    },
    {
      "cell_type": "code",
      "source": [
        "from sklearn.preprocessing import MinMaxScaler\n",
        "import numpy as np\n",
        "# Preprocessing for test_x\n",
        "def preprocess(df):\n",
        "  df['Prtv'] = df['Prtv'].apply(lambda x: 0 if x < 0 else x)\n",
        "  df['Patv'] = df['Patv'].apply(lambda x: 0 if x < 0 else x)\n",
        "\n",
        "  df['Missing'] = 0\n",
        "  df.loc[(df.isnull().any(axis=1)), ['Missing']] = (1)\n",
        "\n",
        "  cols_to_interpolate = ['Wspd', 'Wdir', 'Etmp', 'Itmp', 'Ndir', 'Pab1', 'Pab2', 'Pab3', 'Prtv', 'Patv']\n",
        "\n",
        "  def interpolate_missing(group):\n",
        "    missing_rows_index = group[group['Missing'] == 1].index\n",
        "    group.loc[missing_rows_index, cols_to_interpolate] = group[cols_to_interpolate].interpolate(method='linear', axis=0, limit_direction='both').loc[missing_rows_index]\n",
        "    return group\n",
        "\n",
        "  df = df.groupby(['TurbID', 'Day'], group_keys=False).apply(interpolate_missing)\n",
        "  df[cols_to_interpolate] = df[cols_to_interpolate].fillna(method='bfill').fillna(method='ffill')\n",
        "  df = df.drop('Missing', axis=1)\n",
        "\n",
        "  df['Abnormal'] = 0\n",
        "  df.loc[(df['Patv'] <= 0) & (df['Wspd'] > 2.5) | \n",
        "        (df['Pab1'] > 89) | (df['Pab2'] > 89) | (df['Pab3'] > 89) | \n",
        "        (df['Ndir'] > 720) | (df['Ndir'] < -720) | \n",
        "        (df['Wdir'] > 180) | (df['Wdir'] < -180), ['Abnormal']] = (1)\n",
        "\n",
        "  def replace_abnormal_rows(group):\n",
        "    group = group.copy()\n",
        "    abnormal_rows = group['Abnormal'] == 1\n",
        "    normal_rows = group['Abnormal'] == 0\n",
        "    columns_to_replace = ['Wspd', 'Wdir', 'Etmp', 'Itmp', 'Ndir', 'Pab1', 'Pab2', 'Pab3', 'Prtv', 'Patv']\n",
        "\n",
        "    if abnormal_rows.any():\n",
        "        for col in columns_to_replace:\n",
        "            for index, row in group[abnormal_rows].iterrows():\n",
        "                previous_normal_index = group[normal_rows].loc[:index].index.max()\n",
        "                next_normal_index = group[normal_rows].loc[index:].index.min()\n",
        "\n",
        "                if pd.isna(previous_normal_index) and pd.notna(next_normal_index):\n",
        "                    group.loc[index, col] = group.loc[next_normal_index, col]\n",
        "                elif pd.notna(previous_normal_index) and pd.isna(next_normal_index):\n",
        "                    group.loc[index, col] = group.loc[previous_normal_index, col]\n",
        "                elif pd.notna(previous_normal_index) and pd.notna(next_normal_index):\n",
        "                    group.loc[index, col] = (group.loc[previous_normal_index, col] +\n",
        "                                             group.loc[next_normal_index, col]) / 2\n",
        "\n",
        "    return group\n",
        "\n",
        "  df2 = pd.read_csv('/content/drive/MyDrive/5002 Project/data/sdwpf_baidukddcup2022_turb_location.CSV', index_col = 0)\n",
        "  df = pd.merge(df, df2, on=\"TurbID\")\n",
        "\n",
        "  result = df.groupby(['TurbID', 'Day'], group_keys=False).apply(replace_abnormal_rows)\n",
        "  df = result.reset_index(drop=True)\n",
        "  df = df.drop('Abnormal', axis=1)\n",
        "  df[\"Pab_max\"] = df[['Pab1', 'Pab2', 'Pab3']].max(axis=1)\n",
        "  df = df.drop(columns = ['Pab1', 'Pab2', 'Pab3'])\n",
        "  df = df.drop(columns=['Wdir', 'Etmp', 'Itmp', 'Ndir'], axis=1)\n",
        "  df['Tmstamp'] = pd.to_datetime(df['Tmstamp'], format='%H:%M')\n",
        "  df['hour_sin'] = np.sin(2 * np.pi * df['Tmstamp'].dt.hour / 24)\n",
        "  df['hour_cos'] = np.cos(2 * np.pi * df['Tmstamp'].dt.hour / 24)\n",
        "  df['minute_sin'] = np.sin(2 * np.pi * df['Tmstamp'].dt.minute / 60)\n",
        "  df['minute_cos'] = np.cos(2 * np.pi * df['Tmstamp'].dt.minute / 60)\n",
        "  df = df.drop(\"Tmstamp\", axis=1)\n",
        "  id = df[['TurbID', 'x', 'y']].drop_duplicates()\n",
        "  id['Cluster'] = pd.cut(id['x'], bins=[-500, 500, 1500, 2500, 4000, 4750, float('inf')], labels=[1, 2, 3, 4, 5, 6])\n",
        "  gb = id.groupby('Cluster')\n",
        "  id['ID'] = 0 \n",
        "  for name, group in gb:\n",
        "      group = group.sort_values('y', ascending=False)\n",
        "      ids = range(1, len(group)+1)\n",
        "      print(f\"Cluster {name}: {ids}\")\n",
        "      id.loc[group.index, 'ID'] = ids\n",
        "  id = id.drop(columns=[\"x\", \"y\"], axis=1)\n",
        "  merged_df = pd.merge(df, id, on='TurbID', how = \"left\")\n",
        "  merged_df.columns\n",
        "  df = merged_df.copy()\n",
        "  df = df.drop(columns=[\"x\", \"y\", \"TurbID\"], axis=1)\n",
        "  df = df[['hour_sin', 'hour_cos', 'minute_sin', 'minute_cos', 'Day', 'Cluster', 'ID', 'Wspd', 'Pab_max', 'Prtv', 'Patv']]\n",
        "  data = df.copy()\n",
        "  data_not_scaled = data[['Cluster', 'ID', 'Patv', 'Day', 'hour_sin', 'hour_cos', 'minute_sin', 'minute_cos']]\n",
        "  scaler = MinMaxScaler()\n",
        "  data_scaled = pd.DataFrame(scaler.fit_transform(data.drop(['Cluster', 'ID', 'Patv', 'Day', 'hour_sin', 'hour_cos', 'minute_sin', 'minute_cos'], axis=1)),\n",
        "                            columns=data.columns.difference(['Cluster', 'ID', 'Patv', 'Day', 'hour_sin', 'hour_cos', 'minute_sin', 'minute_cos']))\n",
        "  data_processed = pd.concat([data_not_scaled, data_scaled], axis=1)\n",
        "  data_processed = data_processed[['hour_sin', 'hour_cos', 'minute_sin', 'minute_cos', 'Cluster', 'ID', 'Day', 'Wspd', 'Pab_max', 'Prtv', 'Patv']]\n",
        "  return df"
      ],
      "metadata": {
        "id": "B8_pO8G7V7MJ"
      },
      "id": "B8_pO8G7V7MJ",
      "execution_count": 3,
      "outputs": []
    },
    {
      "cell_type": "code",
      "source": [
        "# Preprocessing for test_y\n",
        "def preprocess_y(df):\n",
        "  df['Prtv'] = df['Prtv'].apply(lambda x: 0 if x < 0 else x)\n",
        "  df['Patv'] = df['Patv'].apply(lambda x: 0 if x < 0 else x)\n",
        "\n",
        "  df['Missing'] = 0\n",
        "  df.loc[(df.isnull().any(axis=1)), ['Missing']] = (1)\n",
        "\n",
        "  cols_to_interpolate = ['Wspd', 'Wdir', 'Etmp', 'Itmp', 'Ndir', 'Pab1', 'Pab2', 'Pab3', 'Prtv', 'Patv']\n",
        "\n",
        "  def interpolate_missing(group):\n",
        "    missing_rows_index = group[group['Missing'] == 1].index\n",
        "    group.loc[missing_rows_index, cols_to_interpolate] = group[cols_to_interpolate].interpolate(method='linear', axis=0, limit_direction='both').loc[missing_rows_index]\n",
        "    return group\n",
        "\n",
        "  df = df.groupby(['TurbID', 'Day'], group_keys=False).apply(interpolate_missing)\n",
        "  df[cols_to_interpolate] = df[cols_to_interpolate].fillna(method='bfill').fillna(method='ffill')\n",
        "  df = df.drop('Missing', axis=1)\n",
        "\n",
        "  df2 = pd.read_csv('/content/drive/MyDrive/5002 Project/data/sdwpf_baidukddcup2022_turb_location.CSV', index_col = 0)\n",
        "  df = pd.merge(df, df2, on=\"TurbID\")\n",
        "\n",
        "  id = df[['TurbID', 'x', 'y']].drop_duplicates()\n",
        "  id['Cluster'] = pd.cut(id['x'], bins=[-500, 500, 1500, 2500, 4000, 4750, float('inf')], labels=[1, 2, 3, 4, 5, 6])\n",
        "  gb = id.groupby('Cluster')\n",
        "  id['ID'] = 0 \n",
        "  for name, group in gb:\n",
        "      group = group.sort_values('y', ascending=False)\n",
        "      ids = range(1, len(group)+1)\n",
        "      print(f\"Cluster {name}: {ids}\")\n",
        "      id.loc[group.index, 'ID'] = ids\n",
        "  id = id.drop(columns=[\"x\", \"y\"], axis=1)\n",
        "  merged_df = pd.merge(df, id, on='TurbID', how = \"left\")\n",
        "  merged_df.columns\n",
        "  df = merged_df.copy()\n",
        "  df = df[['Cluster', 'ID','Patv']]\n",
        "  df['Cluster'] = df['Cluster'].astype('int64')\n",
        "  return df"
      ],
      "metadata": {
        "id": "_Oo0-9g7AqPa"
      },
      "id": "_Oo0-9g7AqPa",
      "execution_count": 23,
      "outputs": []
    },
    {
      "cell_type": "code",
      "source": [
        "# Preprocess the test_x data\n",
        "test_x = preprocess(test_x)"
      ],
      "metadata": {
        "id": "k9EYNACtV6p2"
      },
      "id": "k9EYNACtV6p2",
      "execution_count": null,
      "outputs": []
    },
    {
      "cell_type": "code",
      "source": [
        "test_y = preprocess_y(test_y)"
      ],
      "metadata": {
        "colab": {
          "base_uri": "https://localhost:8080/"
        },
        "id": "TJXm9_ppBM81",
        "outputId": "04b1d23a-2e27-45c6-e3d6-79b96f466f82"
      },
      "id": "TJXm9_ppBM81",
      "execution_count": 24,
      "outputs": [
        {
          "output_type": "stream",
          "name": "stdout",
          "text": [
            "Cluster 1: range(1, 23)\n",
            "Cluster 2: range(1, 23)\n",
            "Cluster 3: range(1, 23)\n",
            "Cluster 4: range(1, 25)\n",
            "Cluster 5: range(1, 24)\n",
            "Cluster 6: range(1, 22)\n"
          ]
        }
      ]
    },
    {
      "cell_type": "code",
      "source": [
        "# test_x.to_csv('/content/drive/MyDrive/5002 Project/data/cleaned_test_data.csv', index=False)\n",
        "test_x = pd.read_csv('/content/drive/MyDrive/5002 Project/data/cleaned_test_data.csv')"
      ],
      "metadata": {
        "id": "L3LUYdno_Wqv"
      },
      "id": "L3LUYdno_Wqv",
      "execution_count": 25,
      "outputs": []
    },
    {
      "cell_type": "code",
      "source": [
        "test_x"
      ],
      "metadata": {
        "colab": {
          "base_uri": "https://localhost:8080/",
          "height": 419
        },
        "id": "OEILiRKt_kMv",
        "outputId": "297976fc-24f4-4792-fe7c-1d2ad07bf11a"
      },
      "id": "OEILiRKt_kMv",
      "execution_count": 26,
      "outputs": [
        {
          "output_type": "execute_result",
          "data": {
            "text/plain": [
              "        hour_sin  hour_cos    minute_sin  minute_cos  Day  Cluster  ID  Wspd  \\\n",
              "0       0.000000  1.000000  0.000000e+00         1.0    8        4  12  3.38   \n",
              "1       0.000000  1.000000  8.660254e-01         0.5    8        4  12  3.38   \n",
              "2       0.000000  1.000000  8.660254e-01        -0.5    8        4  12  3.38   \n",
              "3       0.000000  1.000000  5.665539e-16        -1.0    8        4  12  3.38   \n",
              "4       0.000000  1.000000 -8.660254e-01        -0.5    8        4  12  3.38   \n",
              "...          ...       ...           ...         ...  ...      ...  ..   ...   \n",
              "135067 -0.258819  0.965926  8.660254e-01         0.5   14        1  12  3.67   \n",
              "135068 -0.258819  0.965926  8.660254e-01        -0.5   14        1  12  4.04   \n",
              "135069 -0.258819  0.965926  5.665539e-16        -1.0   14        1  12  3.97   \n",
              "135070 -0.258819  0.965926 -8.660254e-01        -0.5   14        1  12  4.18   \n",
              "135071 -0.258819  0.965926 -8.660254e-01         0.5   14        1  12  4.82   \n",
              "\n",
              "        Pab_max  Prtv    Patv  \n",
              "0         17.05  0.14   79.39  \n",
              "1         17.05  0.14   79.39  \n",
              "2         17.05  0.14   79.39  \n",
              "3         17.05  0.14   79.39  \n",
              "4         17.05  0.14   79.39  \n",
              "...         ...   ...     ...  \n",
              "135067     0.01  0.00  159.27  \n",
              "135068     0.01  0.00  191.85  \n",
              "135069     0.01  0.00  185.79  \n",
              "135070     0.01  0.00  192.06  \n",
              "135071     0.01  0.00  241.30  \n",
              "\n",
              "[135072 rows x 11 columns]"
            ],
            "text/html": [
              "\n",
              "  <div id=\"df-39e484a6-97c7-46dd-a7ea-6991f16cd0b7\">\n",
              "    <div class=\"colab-df-container\">\n",
              "      <div>\n",
              "<style scoped>\n",
              "    .dataframe tbody tr th:only-of-type {\n",
              "        vertical-align: middle;\n",
              "    }\n",
              "\n",
              "    .dataframe tbody tr th {\n",
              "        vertical-align: top;\n",
              "    }\n",
              "\n",
              "    .dataframe thead th {\n",
              "        text-align: right;\n",
              "    }\n",
              "</style>\n",
              "<table border=\"1\" class=\"dataframe\">\n",
              "  <thead>\n",
              "    <tr style=\"text-align: right;\">\n",
              "      <th></th>\n",
              "      <th>hour_sin</th>\n",
              "      <th>hour_cos</th>\n",
              "      <th>minute_sin</th>\n",
              "      <th>minute_cos</th>\n",
              "      <th>Day</th>\n",
              "      <th>Cluster</th>\n",
              "      <th>ID</th>\n",
              "      <th>Wspd</th>\n",
              "      <th>Pab_max</th>\n",
              "      <th>Prtv</th>\n",
              "      <th>Patv</th>\n",
              "    </tr>\n",
              "  </thead>\n",
              "  <tbody>\n",
              "    <tr>\n",
              "      <th>0</th>\n",
              "      <td>0.000000</td>\n",
              "      <td>1.000000</td>\n",
              "      <td>0.000000e+00</td>\n",
              "      <td>1.0</td>\n",
              "      <td>8</td>\n",
              "      <td>4</td>\n",
              "      <td>12</td>\n",
              "      <td>3.38</td>\n",
              "      <td>17.05</td>\n",
              "      <td>0.14</td>\n",
              "      <td>79.39</td>\n",
              "    </tr>\n",
              "    <tr>\n",
              "      <th>1</th>\n",
              "      <td>0.000000</td>\n",
              "      <td>1.000000</td>\n",
              "      <td>8.660254e-01</td>\n",
              "      <td>0.5</td>\n",
              "      <td>8</td>\n",
              "      <td>4</td>\n",
              "      <td>12</td>\n",
              "      <td>3.38</td>\n",
              "      <td>17.05</td>\n",
              "      <td>0.14</td>\n",
              "      <td>79.39</td>\n",
              "    </tr>\n",
              "    <tr>\n",
              "      <th>2</th>\n",
              "      <td>0.000000</td>\n",
              "      <td>1.000000</td>\n",
              "      <td>8.660254e-01</td>\n",
              "      <td>-0.5</td>\n",
              "      <td>8</td>\n",
              "      <td>4</td>\n",
              "      <td>12</td>\n",
              "      <td>3.38</td>\n",
              "      <td>17.05</td>\n",
              "      <td>0.14</td>\n",
              "      <td>79.39</td>\n",
              "    </tr>\n",
              "    <tr>\n",
              "      <th>3</th>\n",
              "      <td>0.000000</td>\n",
              "      <td>1.000000</td>\n",
              "      <td>5.665539e-16</td>\n",
              "      <td>-1.0</td>\n",
              "      <td>8</td>\n",
              "      <td>4</td>\n",
              "      <td>12</td>\n",
              "      <td>3.38</td>\n",
              "      <td>17.05</td>\n",
              "      <td>0.14</td>\n",
              "      <td>79.39</td>\n",
              "    </tr>\n",
              "    <tr>\n",
              "      <th>4</th>\n",
              "      <td>0.000000</td>\n",
              "      <td>1.000000</td>\n",
              "      <td>-8.660254e-01</td>\n",
              "      <td>-0.5</td>\n",
              "      <td>8</td>\n",
              "      <td>4</td>\n",
              "      <td>12</td>\n",
              "      <td>3.38</td>\n",
              "      <td>17.05</td>\n",
              "      <td>0.14</td>\n",
              "      <td>79.39</td>\n",
              "    </tr>\n",
              "    <tr>\n",
              "      <th>...</th>\n",
              "      <td>...</td>\n",
              "      <td>...</td>\n",
              "      <td>...</td>\n",
              "      <td>...</td>\n",
              "      <td>...</td>\n",
              "      <td>...</td>\n",
              "      <td>...</td>\n",
              "      <td>...</td>\n",
              "      <td>...</td>\n",
              "      <td>...</td>\n",
              "      <td>...</td>\n",
              "    </tr>\n",
              "    <tr>\n",
              "      <th>135067</th>\n",
              "      <td>-0.258819</td>\n",
              "      <td>0.965926</td>\n",
              "      <td>8.660254e-01</td>\n",
              "      <td>0.5</td>\n",
              "      <td>14</td>\n",
              "      <td>1</td>\n",
              "      <td>12</td>\n",
              "      <td>3.67</td>\n",
              "      <td>0.01</td>\n",
              "      <td>0.00</td>\n",
              "      <td>159.27</td>\n",
              "    </tr>\n",
              "    <tr>\n",
              "      <th>135068</th>\n",
              "      <td>-0.258819</td>\n",
              "      <td>0.965926</td>\n",
              "      <td>8.660254e-01</td>\n",
              "      <td>-0.5</td>\n",
              "      <td>14</td>\n",
              "      <td>1</td>\n",
              "      <td>12</td>\n",
              "      <td>4.04</td>\n",
              "      <td>0.01</td>\n",
              "      <td>0.00</td>\n",
              "      <td>191.85</td>\n",
              "    </tr>\n",
              "    <tr>\n",
              "      <th>135069</th>\n",
              "      <td>-0.258819</td>\n",
              "      <td>0.965926</td>\n",
              "      <td>5.665539e-16</td>\n",
              "      <td>-1.0</td>\n",
              "      <td>14</td>\n",
              "      <td>1</td>\n",
              "      <td>12</td>\n",
              "      <td>3.97</td>\n",
              "      <td>0.01</td>\n",
              "      <td>0.00</td>\n",
              "      <td>185.79</td>\n",
              "    </tr>\n",
              "    <tr>\n",
              "      <th>135070</th>\n",
              "      <td>-0.258819</td>\n",
              "      <td>0.965926</td>\n",
              "      <td>-8.660254e-01</td>\n",
              "      <td>-0.5</td>\n",
              "      <td>14</td>\n",
              "      <td>1</td>\n",
              "      <td>12</td>\n",
              "      <td>4.18</td>\n",
              "      <td>0.01</td>\n",
              "      <td>0.00</td>\n",
              "      <td>192.06</td>\n",
              "    </tr>\n",
              "    <tr>\n",
              "      <th>135071</th>\n",
              "      <td>-0.258819</td>\n",
              "      <td>0.965926</td>\n",
              "      <td>-8.660254e-01</td>\n",
              "      <td>0.5</td>\n",
              "      <td>14</td>\n",
              "      <td>1</td>\n",
              "      <td>12</td>\n",
              "      <td>4.82</td>\n",
              "      <td>0.01</td>\n",
              "      <td>0.00</td>\n",
              "      <td>241.30</td>\n",
              "    </tr>\n",
              "  </tbody>\n",
              "</table>\n",
              "<p>135072 rows × 11 columns</p>\n",
              "</div>\n",
              "      <button class=\"colab-df-convert\" onclick=\"convertToInteractive('df-39e484a6-97c7-46dd-a7ea-6991f16cd0b7')\"\n",
              "              title=\"Convert this dataframe to an interactive table.\"\n",
              "              style=\"display:none;\">\n",
              "        \n",
              "  <svg xmlns=\"http://www.w3.org/2000/svg\" height=\"24px\"viewBox=\"0 0 24 24\"\n",
              "       width=\"24px\">\n",
              "    <path d=\"M0 0h24v24H0V0z\" fill=\"none\"/>\n",
              "    <path d=\"M18.56 5.44l.94 2.06.94-2.06 2.06-.94-2.06-.94-.94-2.06-.94 2.06-2.06.94zm-11 1L8.5 8.5l.94-2.06 2.06-.94-2.06-.94L8.5 2.5l-.94 2.06-2.06.94zm10 10l.94 2.06.94-2.06 2.06-.94-2.06-.94-.94-2.06-.94 2.06-2.06.94z\"/><path d=\"M17.41 7.96l-1.37-1.37c-.4-.4-.92-.59-1.43-.59-.52 0-1.04.2-1.43.59L10.3 9.45l-7.72 7.72c-.78.78-.78 2.05 0 2.83L4 21.41c.39.39.9.59 1.41.59.51 0 1.02-.2 1.41-.59l7.78-7.78 2.81-2.81c.8-.78.8-2.07 0-2.86zM5.41 20L4 18.59l7.72-7.72 1.47 1.35L5.41 20z\"/>\n",
              "  </svg>\n",
              "      </button>\n",
              "      \n",
              "  <style>\n",
              "    .colab-df-container {\n",
              "      display:flex;\n",
              "      flex-wrap:wrap;\n",
              "      gap: 12px;\n",
              "    }\n",
              "\n",
              "    .colab-df-convert {\n",
              "      background-color: #E8F0FE;\n",
              "      border: none;\n",
              "      border-radius: 50%;\n",
              "      cursor: pointer;\n",
              "      display: none;\n",
              "      fill: #1967D2;\n",
              "      height: 32px;\n",
              "      padding: 0 0 0 0;\n",
              "      width: 32px;\n",
              "    }\n",
              "\n",
              "    .colab-df-convert:hover {\n",
              "      background-color: #E2EBFA;\n",
              "      box-shadow: 0px 1px 2px rgba(60, 64, 67, 0.3), 0px 1px 3px 1px rgba(60, 64, 67, 0.15);\n",
              "      fill: #174EA6;\n",
              "    }\n",
              "\n",
              "    [theme=dark] .colab-df-convert {\n",
              "      background-color: #3B4455;\n",
              "      fill: #D2E3FC;\n",
              "    }\n",
              "\n",
              "    [theme=dark] .colab-df-convert:hover {\n",
              "      background-color: #434B5C;\n",
              "      box-shadow: 0px 1px 3px 1px rgba(0, 0, 0, 0.15);\n",
              "      filter: drop-shadow(0px 1px 2px rgba(0, 0, 0, 0.3));\n",
              "      fill: #FFFFFF;\n",
              "    }\n",
              "  </style>\n",
              "\n",
              "      <script>\n",
              "        const buttonEl =\n",
              "          document.querySelector('#df-39e484a6-97c7-46dd-a7ea-6991f16cd0b7 button.colab-df-convert');\n",
              "        buttonEl.style.display =\n",
              "          google.colab.kernel.accessAllowed ? 'block' : 'none';\n",
              "\n",
              "        async function convertToInteractive(key) {\n",
              "          const element = document.querySelector('#df-39e484a6-97c7-46dd-a7ea-6991f16cd0b7');\n",
              "          const dataTable =\n",
              "            await google.colab.kernel.invokeFunction('convertToInteractive',\n",
              "                                                     [key], {});\n",
              "          if (!dataTable) return;\n",
              "\n",
              "          const docLinkHtml = 'Like what you see? Visit the ' +\n",
              "            '<a target=\"_blank\" href=https://colab.research.google.com/notebooks/data_table.ipynb>data table notebook</a>'\n",
              "            + ' to learn more about interactive tables.';\n",
              "          element.innerHTML = '';\n",
              "          dataTable['output_type'] = 'display_data';\n",
              "          await google.colab.output.renderOutput(dataTable, element);\n",
              "          const docLink = document.createElement('div');\n",
              "          docLink.innerHTML = docLinkHtml;\n",
              "          element.appendChild(docLink);\n",
              "        }\n",
              "      </script>\n",
              "    </div>\n",
              "  </div>\n",
              "  "
            ]
          },
          "metadata": {},
          "execution_count": 26
        }
      ]
    },
    {
      "cell_type": "code",
      "source": [
        "test_y.isna().sum()"
      ],
      "metadata": {
        "colab": {
          "base_uri": "https://localhost:8080/"
        },
        "id": "m8IgMTN0AfPP",
        "outputId": "d5b939f7-baf7-433d-9f63-4c9d54e28f5c"
      },
      "id": "m8IgMTN0AfPP",
      "execution_count": 27,
      "outputs": [
        {
          "output_type": "execute_result",
          "data": {
            "text/plain": [
              "Cluster    0\n",
              "ID         0\n",
              "Patv       0\n",
              "dtype: int64"
            ]
          },
          "metadata": {},
          "execution_count": 27
        }
      ]
    },
    {
      "cell_type": "code",
      "source": [
        "test_y"
      ],
      "metadata": {
        "colab": {
          "base_uri": "https://localhost:8080/",
          "height": 419
        },
        "id": "W1EIu1b661I1",
        "outputId": "10686576-d226-49e4-9263-cc97e7d7160a"
      },
      "id": "W1EIu1b661I1",
      "execution_count": 28,
      "outputs": [
        {
          "output_type": "execute_result",
          "data": {
            "text/plain": [
              "       Cluster  ID    Patv\n",
              "0            4  12    0.00\n",
              "1            4  12    0.00\n",
              "2            4  12    0.00\n",
              "3            4  12    0.00\n",
              "4            4  12    0.00\n",
              "...        ...  ..     ...\n",
              "38587        1  12  117.68\n",
              "38588        1  12  118.62\n",
              "38589        1  12  137.18\n",
              "38590        1  12  195.19\n",
              "38591        1  12  291.60\n",
              "\n",
              "[38592 rows x 3 columns]"
            ],
            "text/html": [
              "\n",
              "  <div id=\"df-a25a22af-fdd0-481a-8075-db44018f3ce1\">\n",
              "    <div class=\"colab-df-container\">\n",
              "      <div>\n",
              "<style scoped>\n",
              "    .dataframe tbody tr th:only-of-type {\n",
              "        vertical-align: middle;\n",
              "    }\n",
              "\n",
              "    .dataframe tbody tr th {\n",
              "        vertical-align: top;\n",
              "    }\n",
              "\n",
              "    .dataframe thead th {\n",
              "        text-align: right;\n",
              "    }\n",
              "</style>\n",
              "<table border=\"1\" class=\"dataframe\">\n",
              "  <thead>\n",
              "    <tr style=\"text-align: right;\">\n",
              "      <th></th>\n",
              "      <th>Cluster</th>\n",
              "      <th>ID</th>\n",
              "      <th>Patv</th>\n",
              "    </tr>\n",
              "  </thead>\n",
              "  <tbody>\n",
              "    <tr>\n",
              "      <th>0</th>\n",
              "      <td>4</td>\n",
              "      <td>12</td>\n",
              "      <td>0.00</td>\n",
              "    </tr>\n",
              "    <tr>\n",
              "      <th>1</th>\n",
              "      <td>4</td>\n",
              "      <td>12</td>\n",
              "      <td>0.00</td>\n",
              "    </tr>\n",
              "    <tr>\n",
              "      <th>2</th>\n",
              "      <td>4</td>\n",
              "      <td>12</td>\n",
              "      <td>0.00</td>\n",
              "    </tr>\n",
              "    <tr>\n",
              "      <th>3</th>\n",
              "      <td>4</td>\n",
              "      <td>12</td>\n",
              "      <td>0.00</td>\n",
              "    </tr>\n",
              "    <tr>\n",
              "      <th>4</th>\n",
              "      <td>4</td>\n",
              "      <td>12</td>\n",
              "      <td>0.00</td>\n",
              "    </tr>\n",
              "    <tr>\n",
              "      <th>...</th>\n",
              "      <td>...</td>\n",
              "      <td>...</td>\n",
              "      <td>...</td>\n",
              "    </tr>\n",
              "    <tr>\n",
              "      <th>38587</th>\n",
              "      <td>1</td>\n",
              "      <td>12</td>\n",
              "      <td>117.68</td>\n",
              "    </tr>\n",
              "    <tr>\n",
              "      <th>38588</th>\n",
              "      <td>1</td>\n",
              "      <td>12</td>\n",
              "      <td>118.62</td>\n",
              "    </tr>\n",
              "    <tr>\n",
              "      <th>38589</th>\n",
              "      <td>1</td>\n",
              "      <td>12</td>\n",
              "      <td>137.18</td>\n",
              "    </tr>\n",
              "    <tr>\n",
              "      <th>38590</th>\n",
              "      <td>1</td>\n",
              "      <td>12</td>\n",
              "      <td>195.19</td>\n",
              "    </tr>\n",
              "    <tr>\n",
              "      <th>38591</th>\n",
              "      <td>1</td>\n",
              "      <td>12</td>\n",
              "      <td>291.60</td>\n",
              "    </tr>\n",
              "  </tbody>\n",
              "</table>\n",
              "<p>38592 rows × 3 columns</p>\n",
              "</div>\n",
              "      <button class=\"colab-df-convert\" onclick=\"convertToInteractive('df-a25a22af-fdd0-481a-8075-db44018f3ce1')\"\n",
              "              title=\"Convert this dataframe to an interactive table.\"\n",
              "              style=\"display:none;\">\n",
              "        \n",
              "  <svg xmlns=\"http://www.w3.org/2000/svg\" height=\"24px\"viewBox=\"0 0 24 24\"\n",
              "       width=\"24px\">\n",
              "    <path d=\"M0 0h24v24H0V0z\" fill=\"none\"/>\n",
              "    <path d=\"M18.56 5.44l.94 2.06.94-2.06 2.06-.94-2.06-.94-.94-2.06-.94 2.06-2.06.94zm-11 1L8.5 8.5l.94-2.06 2.06-.94-2.06-.94L8.5 2.5l-.94 2.06-2.06.94zm10 10l.94 2.06.94-2.06 2.06-.94-2.06-.94-.94-2.06-.94 2.06-2.06.94z\"/><path d=\"M17.41 7.96l-1.37-1.37c-.4-.4-.92-.59-1.43-.59-.52 0-1.04.2-1.43.59L10.3 9.45l-7.72 7.72c-.78.78-.78 2.05 0 2.83L4 21.41c.39.39.9.59 1.41.59.51 0 1.02-.2 1.41-.59l7.78-7.78 2.81-2.81c.8-.78.8-2.07 0-2.86zM5.41 20L4 18.59l7.72-7.72 1.47 1.35L5.41 20z\"/>\n",
              "  </svg>\n",
              "      </button>\n",
              "      \n",
              "  <style>\n",
              "    .colab-df-container {\n",
              "      display:flex;\n",
              "      flex-wrap:wrap;\n",
              "      gap: 12px;\n",
              "    }\n",
              "\n",
              "    .colab-df-convert {\n",
              "      background-color: #E8F0FE;\n",
              "      border: none;\n",
              "      border-radius: 50%;\n",
              "      cursor: pointer;\n",
              "      display: none;\n",
              "      fill: #1967D2;\n",
              "      height: 32px;\n",
              "      padding: 0 0 0 0;\n",
              "      width: 32px;\n",
              "    }\n",
              "\n",
              "    .colab-df-convert:hover {\n",
              "      background-color: #E2EBFA;\n",
              "      box-shadow: 0px 1px 2px rgba(60, 64, 67, 0.3), 0px 1px 3px 1px rgba(60, 64, 67, 0.15);\n",
              "      fill: #174EA6;\n",
              "    }\n",
              "\n",
              "    [theme=dark] .colab-df-convert {\n",
              "      background-color: #3B4455;\n",
              "      fill: #D2E3FC;\n",
              "    }\n",
              "\n",
              "    [theme=dark] .colab-df-convert:hover {\n",
              "      background-color: #434B5C;\n",
              "      box-shadow: 0px 1px 3px 1px rgba(0, 0, 0, 0.15);\n",
              "      filter: drop-shadow(0px 1px 2px rgba(0, 0, 0, 0.3));\n",
              "      fill: #FFFFFF;\n",
              "    }\n",
              "  </style>\n",
              "\n",
              "      <script>\n",
              "        const buttonEl =\n",
              "          document.querySelector('#df-a25a22af-fdd0-481a-8075-db44018f3ce1 button.colab-df-convert');\n",
              "        buttonEl.style.display =\n",
              "          google.colab.kernel.accessAllowed ? 'block' : 'none';\n",
              "\n",
              "        async function convertToInteractive(key) {\n",
              "          const element = document.querySelector('#df-a25a22af-fdd0-481a-8075-db44018f3ce1');\n",
              "          const dataTable =\n",
              "            await google.colab.kernel.invokeFunction('convertToInteractive',\n",
              "                                                     [key], {});\n",
              "          if (!dataTable) return;\n",
              "\n",
              "          const docLinkHtml = 'Like what you see? Visit the ' +\n",
              "            '<a target=\"_blank\" href=https://colab.research.google.com/notebooks/data_table.ipynb>data table notebook</a>'\n",
              "            + ' to learn more about interactive tables.';\n",
              "          element.innerHTML = '';\n",
              "          dataTable['output_type'] = 'display_data';\n",
              "          await google.colab.output.renderOutput(dataTable, element);\n",
              "          const docLink = document.createElement('div');\n",
              "          docLink.innerHTML = docLinkHtml;\n",
              "          element.appendChild(docLink);\n",
              "        }\n",
              "      </script>\n",
              "    </div>\n",
              "  </div>\n",
              "  "
            ]
          },
          "metadata": {},
          "execution_count": 28
        }
      ]
    },
    {
      "cell_type": "code",
      "source": [
        "from tensorflow.keras.utils import Sequence\n",
        "from keras.models import load_model\n",
        "from keras import backend as K\n",
        "from sklearn.metrics import mean_absolute_error, mean_squared_error\n",
        "import numpy as np\n",
        "import pandas as pd\n",
        "\n",
        "class TurbineTestGenerator(Sequence):\n",
        "    def __init__(self, data, labels, window_size=1008, future_steps=288):  \n",
        "        self.data = data\n",
        "        self.labels = labels\n",
        "        self.window_size = window_size\n",
        "        self.future_steps = future_steps\n",
        "        self.turbine_indices = []\n",
        "        self.turbine_ids = []\n",
        "\n",
        "        self.turbine_combinations = list(self.data[['Cluster', 'ID']].drop_duplicates().itertuples(index=False, name=None))\n",
        "\n",
        "        for turbine_combination in self.turbine_combinations:\n",
        "            turbine_data = self.data[(self.data['Cluster'] == turbine_combination[0]) & (self.data['ID'] == turbine_combination[1])]\n",
        "            self.turbine_indices.append((turbine_data.index[0], turbine_data.index[0] + window_size))\n",
        "            self.turbine_ids.append(turbine_combination)\n",
        "\n",
        "        print(f\"Initialized test generator with {len(self.turbine_indices)} turbines\")\n",
        "\n",
        "    def __len__(self):\n",
        "        return len(self.turbine_indices)\n",
        "\n",
        "    def __getitem__(self, idx):\n",
        "        start, end = self.turbine_indices[idx]\n",
        "        X = self.data.iloc[start:end, :].values[np.newaxis, ...]\n",
        "        y = self.labels.iloc[end:end+self.future_steps].values[np.newaxis, ...]\n",
        "        print(f\"Generating test data for turbine {self.turbine_ids[idx]}\")\n",
        "        return X, y, self.turbine_ids[idx]"
      ],
      "metadata": {
        "id": "g-N_TQqFhiQf"
      },
      "id": "g-N_TQqFhiQf",
      "execution_count": 49,
      "outputs": []
    },
    {
      "cell_type": "code",
      "source": [
        "def root_mean_squared_error(y_true, y_pred):\n",
        "    return K.sqrt(K.mean(K.square(y_pred - y_true)))\n",
        "\n",
        "# Add the custom objects to a dictionary\n",
        "custom_objects = {'root_mean_squared_error': root_mean_squared_error}\n",
        "\n",
        "# Load the model\n",
        "model = load_model('/content/drive/MyDrive/5002 Project/model/Conv/best_model.h5', custom_objects=custom_objects)\n",
        "\n",
        "# Initialize the generator\n",
        "test_generator = TurbineTestGenerator(test_x, test_y)"
      ],
      "metadata": {
        "colab": {
          "base_uri": "https://localhost:8080/"
        },
        "id": "Hs7D1f55hkUh",
        "outputId": "df9c6736-517d-4156-ce5f-99c81b7260a9"
      },
      "id": "Hs7D1f55hkUh",
      "execution_count": 50,
      "outputs": [
        {
          "output_type": "stream",
          "name": "stdout",
          "text": [
            "Initialized test generator with 134 turbines\n"
          ]
        }
      ]
    },
    {
      "cell_type": "code",
      "source": [
        "# Use the model to predict\n",
        "predictions = []\n",
        "turbine_ids = []\n",
        "for i in range(len(test_generator)):\n",
        "    X, y, turbine_id = test_generator[i]\n",
        "    prediction = model.predict(X)\n",
        "    predictions.append(prediction)\n",
        "    turbine_ids.extend([str(turbine_id)]*prediction.shape[1])  # Convert turbine_id to string\n",
        "    print(f\"Generated {prediction.shape[1]} predictions for turbine {turbine_id}\")\n",
        "    \n",
        "# Concatenate all predictions\n",
        "predictions = np.concatenate(predictions, axis=0)\n",
        "\n",
        "# Reshape predictions to a 1D array\n",
        "predictions_flat = predictions.flatten()\n",
        "\n",
        "# Get true values\n",
        "true_values = test_y['Patv'].values\n",
        "\n",
        "# Convert lists to Pandas Series for easy manipulation\n",
        "predictions_series = pd.Series(predictions_flat, index=turbine_ids)\n",
        "true_values_series = pd.Series(true_values, index=turbine_ids)\n",
        "\n",
        "# Reshape the flat predictions to lists of lists where each sublist corresponds to a single turbine\n",
        "predictions_per_turbine = np.array(predictions_flat).reshape((-1, 288))\n",
        "\n",
        "print(f\"Number of unique turbine IDs: {len(set(turbine_ids))}\")\n",
        "print(f\"First 5 turbine IDs: {turbine_ids[:5]}\")\n",
        "\n",
        "mae_per_turbine_mw = {}\n",
        "rmse_per_turbine_mw = {}\n",
        "\n",
        "# Calculate MAE and RMSE for each turbine\n",
        "for i, turbine_id in enumerate(set(turbine_ids)):\n",
        "    print(f\"Processing turbine ID: {turbine_id}\")\n",
        "\n",
        "    pred_turbine = predictions_per_turbine[i]\n",
        "    true_turbine = true_values_series.loc[turbine_id].values\n",
        "    \n",
        "    mae_kw = mean_absolute_error(true_turbine, pred_turbine)\n",
        "    rmse_kw = np.sqrt(mean_squared_error(true_turbine, pred_turbine))\n",
        "    \n",
        "    mae_per_turbine_mw[turbine_id] = mae_kw / 1000  # convert to MW\n",
        "    rmse_per_turbine_mw[turbine_id] = rmse_kw / 1000  # convert to MW\n",
        "\n",
        "    # Printing the individual MAE and RMSE for each turbine\n",
        "    print(f\"Turbine ID: {turbine_id}, MAE in MW: {mae_per_turbine_mw[turbine_id]}, RMSE in MW: {rmse_per_turbine_mw[turbine_id]}\")\n",
        "\n",
        "# Now aggregate the individual MAE and RMSE scores by summing them up\n",
        "final_mae_mw = sum(mae_per_turbine_mw.values())\n",
        "final_rmse_mw = sum(rmse_per_turbine_mw.values())\n",
        "\n",
        "print(f\"\\nFinal MAE in Megawatts: {final_mae_mw}\")\n",
        "print(f\"Final RMSE in Megawatts: {final_rmse_mw}\")"
      ],
      "metadata": {
        "colab": {
          "base_uri": "https://localhost:8080/"
        },
        "id": "u8cZW29wHj2g",
        "outputId": "169bcfe2-a8a7-4b93-8162-df83c97b5897"
      },
      "id": "u8cZW29wHj2g",
      "execution_count": 61,
      "outputs": [
        {
          "output_type": "stream",
          "name": "stdout",
          "text": [
            "Generating test data for turbine (4, 12)\n",
            "1/1 [==============================] - 0s 25ms/step\n",
            "Generated 288 predictions for turbine (4, 12)\n",
            "Generating test data for turbine (4, 11)\n",
            "1/1 [==============================] - 0s 34ms/step\n",
            "Generated 288 predictions for turbine (4, 11)\n",
            "Generating test data for turbine (4, 10)\n",
            "1/1 [==============================] - 0s 36ms/step\n",
            "Generated 288 predictions for turbine (4, 10)\n",
            "Generating test data for turbine (4, 9)\n",
            "1/1 [==============================] - 0s 55ms/step\n",
            "Generated 288 predictions for turbine (4, 9)\n",
            "Generating test data for turbine (4, 8)\n",
            "1/1 [==============================] - 0s 87ms/step\n",
            "Generated 288 predictions for turbine (4, 8)\n",
            "Generating test data for turbine (4, 7)\n",
            "1/1 [==============================] - 0s 76ms/step\n",
            "Generated 288 predictions for turbine (4, 7)\n",
            "Generating test data for turbine (4, 6)\n",
            "1/1 [==============================] - 0s 100ms/step\n",
            "Generated 288 predictions for turbine (4, 6)\n",
            "Generating test data for turbine (4, 5)\n",
            "1/1 [==============================] - 0s 89ms/step\n",
            "Generated 288 predictions for turbine (4, 5)\n",
            "Generating test data for turbine (4, 4)\n",
            "1/1 [==============================] - 0s 64ms/step\n",
            "Generated 288 predictions for turbine (4, 4)\n",
            "Generating test data for turbine (4, 3)\n",
            "1/1 [==============================] - 0s 90ms/step\n",
            "Generated 288 predictions for turbine (4, 3)\n",
            "Generating test data for turbine (4, 2)\n",
            "1/1 [==============================] - 0s 88ms/step\n",
            "Generated 288 predictions for turbine (4, 2)\n",
            "Generating test data for turbine (4, 1)\n",
            "1/1 [==============================] - 0s 88ms/step\n",
            "Generated 288 predictions for turbine (4, 1)\n",
            "Generating test data for turbine (4, 24)\n",
            "1/1 [==============================] - 0s 83ms/step\n",
            "Generated 288 predictions for turbine (4, 24)\n",
            "Generating test data for turbine (4, 23)\n",
            "1/1 [==============================] - 0s 141ms/step\n",
            "Generated 288 predictions for turbine (4, 23)\n",
            "Generating test data for turbine (4, 22)\n",
            "1/1 [==============================] - 0s 99ms/step\n",
            "Generated 288 predictions for turbine (4, 22)\n",
            "Generating test data for turbine (4, 21)\n",
            "1/1 [==============================] - 0s 66ms/step\n",
            "Generated 288 predictions for turbine (4, 21)\n",
            "Generating test data for turbine (4, 20)\n",
            "1/1 [==============================] - 0s 107ms/step\n",
            "Generated 288 predictions for turbine (4, 20)\n",
            "Generating test data for turbine (4, 19)\n",
            "1/1 [==============================] - 0s 100ms/step\n",
            "Generated 288 predictions for turbine (4, 19)\n",
            "Generating test data for turbine (4, 18)\n",
            "1/1 [==============================] - 0s 67ms/step\n",
            "Generated 288 predictions for turbine (4, 18)\n",
            "Generating test data for turbine (4, 17)\n",
            "1/1 [==============================] - 0s 110ms/step\n",
            "Generated 288 predictions for turbine (4, 17)\n",
            "Generating test data for turbine (4, 16)\n",
            "1/1 [==============================] - 0s 50ms/step\n",
            "Generated 288 predictions for turbine (4, 16)\n",
            "Generating test data for turbine (4, 15)\n",
            "1/1 [==============================] - 0s 102ms/step\n",
            "Generated 288 predictions for turbine (4, 15)\n",
            "Generating test data for turbine (4, 14)\n",
            "1/1 [==============================] - 0s 126ms/step\n",
            "Generated 288 predictions for turbine (4, 14)\n",
            "Generating test data for turbine (4, 13)\n",
            "1/1 [==============================] - 0s 43ms/step\n",
            "Generated 288 predictions for turbine (4, 13)\n",
            "Generating test data for turbine (5, 11)\n",
            "1/1 [==============================] - 0s 75ms/step\n",
            "Generated 288 predictions for turbine (5, 11)\n",
            "Generating test data for turbine (5, 10)\n",
            "1/1 [==============================] - 0s 34ms/step\n",
            "Generated 288 predictions for turbine (5, 10)\n",
            "Generating test data for turbine (5, 9)\n",
            "1/1 [==============================] - 0s 32ms/step\n",
            "Generated 288 predictions for turbine (5, 9)\n",
            "Generating test data for turbine (5, 8)\n",
            "1/1 [==============================] - 0s 48ms/step\n",
            "Generated 288 predictions for turbine (5, 8)\n",
            "Generating test data for turbine (5, 7)\n",
            "1/1 [==============================] - 0s 48ms/step\n",
            "Generated 288 predictions for turbine (5, 7)\n",
            "Generating test data for turbine (5, 6)\n",
            "1/1 [==============================] - 0s 34ms/step\n",
            "Generated 288 predictions for turbine (5, 6)\n",
            "Generating test data for turbine (5, 5)\n",
            "1/1 [==============================] - 0s 35ms/step\n",
            "Generated 288 predictions for turbine (5, 5)\n",
            "Generating test data for turbine (5, 4)\n",
            "1/1 [==============================] - 0s 19ms/step\n",
            "Generated 288 predictions for turbine (5, 4)\n",
            "Generating test data for turbine (5, 3)\n",
            "1/1 [==============================] - 0s 26ms/step\n",
            "Generated 288 predictions for turbine (5, 3)\n",
            "Generating test data for turbine (5, 2)\n",
            "1/1 [==============================] - 0s 28ms/step\n",
            "Generated 288 predictions for turbine (5, 2)\n",
            "Generating test data for turbine (5, 1)\n",
            "1/1 [==============================] - 0s 22ms/step\n",
            "Generated 288 predictions for turbine (5, 1)\n",
            "Generating test data for turbine (5, 23)\n",
            "1/1 [==============================] - 0s 25ms/step\n",
            "Generated 288 predictions for turbine (5, 23)\n",
            "Generating test data for turbine (5, 22)\n",
            "1/1 [==============================] - 0s 27ms/step\n",
            "Generated 288 predictions for turbine (5, 22)\n",
            "Generating test data for turbine (5, 21)\n",
            "1/1 [==============================] - 0s 25ms/step\n",
            "Generated 288 predictions for turbine (5, 21)\n",
            "Generating test data for turbine (5, 20)\n",
            "1/1 [==============================] - 0s 22ms/step\n",
            "Generated 288 predictions for turbine (5, 20)\n",
            "Generating test data for turbine (5, 19)\n",
            "1/1 [==============================] - 0s 21ms/step\n",
            "Generated 288 predictions for turbine (5, 19)\n",
            "Generating test data for turbine (5, 18)\n",
            "1/1 [==============================] - 0s 22ms/step\n",
            "Generated 288 predictions for turbine (5, 18)\n",
            "Generating test data for turbine (5, 17)\n",
            "1/1 [==============================] - 0s 19ms/step\n",
            "Generated 288 predictions for turbine (5, 17)\n",
            "Generating test data for turbine (5, 16)\n",
            "1/1 [==============================] - 0s 25ms/step\n",
            "Generated 288 predictions for turbine (5, 16)\n",
            "Generating test data for turbine (5, 15)\n",
            "1/1 [==============================] - 0s 21ms/step\n",
            "Generated 288 predictions for turbine (5, 15)\n",
            "Generating test data for turbine (5, 14)\n",
            "1/1 [==============================] - 0s 19ms/step\n",
            "Generated 288 predictions for turbine (5, 14)\n",
            "Generating test data for turbine (5, 13)\n",
            "1/1 [==============================] - 0s 25ms/step\n",
            "Generated 288 predictions for turbine (5, 13)\n",
            "Generating test data for turbine (5, 12)\n",
            "1/1 [==============================] - 0s 19ms/step\n",
            "Generated 288 predictions for turbine (5, 12)\n",
            "Generating test data for turbine (6, 10)\n",
            "1/1 [==============================] - 0s 20ms/step\n",
            "Generated 288 predictions for turbine (6, 10)\n",
            "Generating test data for turbine (6, 9)\n",
            "1/1 [==============================] - 0s 22ms/step\n",
            "Generated 288 predictions for turbine (6, 9)\n",
            "Generating test data for turbine (6, 8)\n",
            "1/1 [==============================] - 0s 21ms/step\n",
            "Generated 288 predictions for turbine (6, 8)\n",
            "Generating test data for turbine (6, 7)\n",
            "1/1 [==============================] - 0s 22ms/step\n",
            "Generated 288 predictions for turbine (6, 7)\n",
            "Generating test data for turbine (6, 6)\n",
            "1/1 [==============================] - 0s 19ms/step\n",
            "Generated 288 predictions for turbine (6, 6)\n",
            "Generating test data for turbine (6, 5)\n",
            "1/1 [==============================] - 0s 19ms/step\n",
            "Generated 288 predictions for turbine (6, 5)\n",
            "Generating test data for turbine (6, 4)\n",
            "1/1 [==============================] - 0s 20ms/step\n",
            "Generated 288 predictions for turbine (6, 4)\n",
            "Generating test data for turbine (6, 3)\n",
            "1/1 [==============================] - 0s 20ms/step\n",
            "Generated 288 predictions for turbine (6, 3)\n",
            "Generating test data for turbine (6, 2)\n",
            "1/1 [==============================] - 0s 19ms/step\n",
            "Generated 288 predictions for turbine (6, 2)\n",
            "Generating test data for turbine (6, 1)\n",
            "1/1 [==============================] - 0s 24ms/step\n",
            "Generated 288 predictions for turbine (6, 1)\n",
            "Generating test data for turbine (6, 21)\n",
            "1/1 [==============================] - 0s 21ms/step\n",
            "Generated 288 predictions for turbine (6, 21)\n",
            "Generating test data for turbine (6, 20)\n",
            "1/1 [==============================] - 0s 27ms/step\n",
            "Generated 288 predictions for turbine (6, 20)\n",
            "Generating test data for turbine (6, 19)\n",
            "1/1 [==============================] - 0s 28ms/step\n",
            "Generated 288 predictions for turbine (6, 19)\n",
            "Generating test data for turbine (6, 18)\n",
            "1/1 [==============================] - 0s 29ms/step\n",
            "Generated 288 predictions for turbine (6, 18)\n",
            "Generating test data for turbine (6, 17)\n",
            "1/1 [==============================] - 0s 31ms/step\n",
            "Generated 288 predictions for turbine (6, 17)\n",
            "Generating test data for turbine (6, 16)\n",
            "1/1 [==============================] - 0s 24ms/step\n",
            "Generated 288 predictions for turbine (6, 16)\n",
            "Generating test data for turbine (6, 15)\n",
            "1/1 [==============================] - 0s 20ms/step\n",
            "Generated 288 predictions for turbine (6, 15)\n",
            "Generating test data for turbine (6, 14)\n",
            "1/1 [==============================] - 0s 23ms/step\n",
            "Generated 288 predictions for turbine (6, 14)\n",
            "Generating test data for turbine (6, 13)\n",
            "1/1 [==============================] - 0s 21ms/step\n",
            "Generated 288 predictions for turbine (6, 13)\n",
            "Generating test data for turbine (6, 12)\n",
            "1/1 [==============================] - 0s 22ms/step\n",
            "Generated 288 predictions for turbine (6, 12)\n",
            "Generating test data for turbine (6, 11)\n",
            "1/1 [==============================] - 0s 20ms/step\n",
            "Generated 288 predictions for turbine (6, 11)\n",
            "Generating test data for turbine (3, 11)\n",
            "1/1 [==============================] - 0s 22ms/step\n",
            "Generated 288 predictions for turbine (3, 11)\n",
            "Generating test data for turbine (3, 10)\n",
            "1/1 [==============================] - 0s 23ms/step\n",
            "Generated 288 predictions for turbine (3, 10)\n",
            "Generating test data for turbine (3, 9)\n",
            "1/1 [==============================] - 0s 20ms/step\n",
            "Generated 288 predictions for turbine (3, 9)\n",
            "Generating test data for turbine (3, 8)\n",
            "1/1 [==============================] - 0s 20ms/step\n",
            "Generated 288 predictions for turbine (3, 8)\n",
            "Generating test data for turbine (3, 7)\n",
            "1/1 [==============================] - 0s 22ms/step\n",
            "Generated 288 predictions for turbine (3, 7)\n",
            "Generating test data for turbine (3, 6)\n",
            "1/1 [==============================] - 0s 22ms/step\n",
            "Generated 288 predictions for turbine (3, 6)\n",
            "Generating test data for turbine (3, 5)\n",
            "1/1 [==============================] - 0s 18ms/step\n",
            "Generated 288 predictions for turbine (3, 5)\n",
            "Generating test data for turbine (3, 4)\n",
            "1/1 [==============================] - 0s 23ms/step\n",
            "Generated 288 predictions for turbine (3, 4)\n",
            "Generating test data for turbine (3, 3)\n",
            "1/1 [==============================] - 0s 23ms/step\n",
            "Generated 288 predictions for turbine (3, 3)\n",
            "Generating test data for turbine (3, 2)\n",
            "1/1 [==============================] - 0s 23ms/step\n",
            "Generated 288 predictions for turbine (3, 2)\n",
            "Generating test data for turbine (3, 1)\n",
            "1/1 [==============================] - 0s 22ms/step\n",
            "Generated 288 predictions for turbine (3, 1)\n",
            "Generating test data for turbine (3, 22)\n",
            "1/1 [==============================] - 0s 21ms/step\n",
            "Generated 288 predictions for turbine (3, 22)\n",
            "Generating test data for turbine (3, 21)\n",
            "1/1 [==============================] - 0s 22ms/step\n",
            "Generated 288 predictions for turbine (3, 21)\n",
            "Generating test data for turbine (3, 20)\n",
            "1/1 [==============================] - 0s 18ms/step\n",
            "Generated 288 predictions for turbine (3, 20)\n",
            "Generating test data for turbine (3, 19)\n",
            "1/1 [==============================] - 0s 29ms/step\n",
            "Generated 288 predictions for turbine (3, 19)\n",
            "Generating test data for turbine (3, 18)\n",
            "1/1 [==============================] - 0s 19ms/step\n",
            "Generated 288 predictions for turbine (3, 18)\n",
            "Generating test data for turbine (3, 17)\n",
            "1/1 [==============================] - 0s 21ms/step\n",
            "Generated 288 predictions for turbine (3, 17)\n",
            "Generating test data for turbine (3, 16)\n",
            "1/1 [==============================] - 0s 22ms/step\n",
            "Generated 288 predictions for turbine (3, 16)\n",
            "Generating test data for turbine (3, 15)\n",
            "1/1 [==============================] - 0s 20ms/step\n",
            "Generated 288 predictions for turbine (3, 15)\n",
            "Generating test data for turbine (3, 14)\n",
            "1/1 [==============================] - 0s 21ms/step\n",
            "Generated 288 predictions for turbine (3, 14)\n",
            "Generating test data for turbine (3, 13)\n",
            "1/1 [==============================] - 0s 30ms/step\n",
            "Generated 288 predictions for turbine (3, 13)\n",
            "Generating test data for turbine (3, 12)\n",
            "1/1 [==============================] - 0s 24ms/step\n",
            "Generated 288 predictions for turbine (3, 12)\n",
            "Generating test data for turbine (2, 11)\n",
            "1/1 [==============================] - 0s 20ms/step\n",
            "Generated 288 predictions for turbine (2, 11)\n",
            "Generating test data for turbine (2, 10)\n",
            "1/1 [==============================] - 0s 19ms/step\n",
            "Generated 288 predictions for turbine (2, 10)\n",
            "Generating test data for turbine (2, 9)\n",
            "1/1 [==============================] - 0s 19ms/step\n",
            "Generated 288 predictions for turbine (2, 9)\n",
            "Generating test data for turbine (2, 8)\n",
            "1/1 [==============================] - 0s 25ms/step\n",
            "Generated 288 predictions for turbine (2, 8)\n",
            "Generating test data for turbine (2, 7)\n",
            "1/1 [==============================] - 0s 21ms/step\n",
            "Generated 288 predictions for turbine (2, 7)\n",
            "Generating test data for turbine (2, 6)\n",
            "1/1 [==============================] - 0s 20ms/step\n",
            "Generated 288 predictions for turbine (2, 6)\n",
            "Generating test data for turbine (2, 5)\n",
            "1/1 [==============================] - 0s 27ms/step\n",
            "Generated 288 predictions for turbine (2, 5)\n",
            "Generating test data for turbine (2, 4)\n",
            "1/1 [==============================] - 0s 19ms/step\n",
            "Generated 288 predictions for turbine (2, 4)\n",
            "Generating test data for turbine (2, 3)\n",
            "1/1 [==============================] - 0s 22ms/step\n",
            "Generated 288 predictions for turbine (2, 3)\n",
            "Generating test data for turbine (2, 2)\n",
            "1/1 [==============================] - 0s 21ms/step\n",
            "Generated 288 predictions for turbine (2, 2)\n",
            "Generating test data for turbine (2, 1)\n",
            "1/1 [==============================] - 0s 20ms/step\n",
            "Generated 288 predictions for turbine (2, 1)\n",
            "Generating test data for turbine (2, 22)\n",
            "1/1 [==============================] - 0s 19ms/step\n",
            "Generated 288 predictions for turbine (2, 22)\n",
            "Generating test data for turbine (2, 21)\n",
            "1/1 [==============================] - 0s 32ms/step\n",
            "Generated 288 predictions for turbine (2, 21)\n",
            "Generating test data for turbine (2, 20)\n",
            "1/1 [==============================] - 0s 21ms/step\n",
            "Generated 288 predictions for turbine (2, 20)\n",
            "Generating test data for turbine (2, 19)\n",
            "1/1 [==============================] - 0s 25ms/step\n",
            "Generated 288 predictions for turbine (2, 19)\n",
            "Generating test data for turbine (2, 18)\n",
            "1/1 [==============================] - 0s 22ms/step\n",
            "Generated 288 predictions for turbine (2, 18)\n",
            "Generating test data for turbine (2, 17)\n",
            "1/1 [==============================] - 0s 19ms/step\n",
            "Generated 288 predictions for turbine (2, 17)\n",
            "Generating test data for turbine (2, 16)\n",
            "1/1 [==============================] - 0s 20ms/step\n",
            "Generated 288 predictions for turbine (2, 16)\n",
            "Generating test data for turbine (2, 15)\n",
            "1/1 [==============================] - 0s 22ms/step\n",
            "Generated 288 predictions for turbine (2, 15)\n",
            "Generating test data for turbine (2, 14)\n",
            "1/1 [==============================] - 0s 21ms/step\n",
            "Generated 288 predictions for turbine (2, 14)\n",
            "Generating test data for turbine (2, 13)\n",
            "1/1 [==============================] - 0s 28ms/step\n",
            "Generated 288 predictions for turbine (2, 13)\n",
            "Generating test data for turbine (2, 12)\n",
            "1/1 [==============================] - 0s 23ms/step\n",
            "Generated 288 predictions for turbine (2, 12)\n",
            "Generating test data for turbine (1, 11)\n",
            "1/1 [==============================] - 0s 21ms/step\n",
            "Generated 288 predictions for turbine (1, 11)\n",
            "Generating test data for turbine (1, 10)\n",
            "1/1 [==============================] - 0s 27ms/step\n",
            "Generated 288 predictions for turbine (1, 10)\n",
            "Generating test data for turbine (1, 9)\n",
            "1/1 [==============================] - 0s 33ms/step\n",
            "Generated 288 predictions for turbine (1, 9)\n",
            "Generating test data for turbine (1, 8)\n",
            "1/1 [==============================] - 0s 25ms/step\n",
            "Generated 288 predictions for turbine (1, 8)\n",
            "Generating test data for turbine (1, 7)\n",
            "1/1 [==============================] - 0s 23ms/step\n",
            "Generated 288 predictions for turbine (1, 7)\n",
            "Generating test data for turbine (1, 6)\n",
            "1/1 [==============================] - 0s 30ms/step\n",
            "Generated 288 predictions for turbine (1, 6)\n",
            "Generating test data for turbine (1, 5)\n",
            "1/1 [==============================] - 0s 22ms/step\n",
            "Generated 288 predictions for turbine (1, 5)\n",
            "Generating test data for turbine (1, 4)\n",
            "1/1 [==============================] - 0s 22ms/step\n",
            "Generated 288 predictions for turbine (1, 4)\n",
            "Generating test data for turbine (1, 3)\n",
            "1/1 [==============================] - 0s 22ms/step\n",
            "Generated 288 predictions for turbine (1, 3)\n",
            "Generating test data for turbine (1, 2)\n",
            "1/1 [==============================] - 0s 19ms/step\n",
            "Generated 288 predictions for turbine (1, 2)\n",
            "Generating test data for turbine (1, 1)\n",
            "1/1 [==============================] - 0s 18ms/step\n",
            "Generated 288 predictions for turbine (1, 1)\n",
            "Generating test data for turbine (1, 22)\n",
            "1/1 [==============================] - 0s 21ms/step\n",
            "Generated 288 predictions for turbine (1, 22)\n",
            "Generating test data for turbine (1, 21)\n",
            "1/1 [==============================] - 0s 24ms/step\n",
            "Generated 288 predictions for turbine (1, 21)\n",
            "Generating test data for turbine (1, 20)\n",
            "1/1 [==============================] - 0s 25ms/step\n",
            "Generated 288 predictions for turbine (1, 20)\n",
            "Generating test data for turbine (1, 19)\n",
            "1/1 [==============================] - 0s 21ms/step\n",
            "Generated 288 predictions for turbine (1, 19)\n",
            "Generating test data for turbine (1, 18)\n",
            "1/1 [==============================] - 0s 23ms/step\n",
            "Generated 288 predictions for turbine (1, 18)\n",
            "Generating test data for turbine (1, 17)\n",
            "1/1 [==============================] - 0s 22ms/step\n",
            "Generated 288 predictions for turbine (1, 17)\n",
            "Generating test data for turbine (1, 16)\n",
            "1/1 [==============================] - 0s 19ms/step\n",
            "Generated 288 predictions for turbine (1, 16)\n",
            "Generating test data for turbine (1, 15)\n",
            "1/1 [==============================] - 0s 22ms/step\n",
            "Generated 288 predictions for turbine (1, 15)\n",
            "Generating test data for turbine (1, 14)\n",
            "1/1 [==============================] - 0s 20ms/step\n",
            "Generated 288 predictions for turbine (1, 14)\n",
            "Generating test data for turbine (1, 13)\n",
            "1/1 [==============================] - 0s 23ms/step\n",
            "Generated 288 predictions for turbine (1, 13)\n",
            "Generating test data for turbine (1, 12)\n",
            "1/1 [==============================] - 0s 26ms/step\n",
            "Generated 288 predictions for turbine (1, 12)\n",
            "Number of unique turbine IDs: 134\n",
            "First 5 turbine IDs: ['(4, 12)', '(4, 12)', '(4, 12)', '(4, 12)', '(4, 12)']\n",
            "Processing turbine ID: (5, 5)\n",
            "Turbine ID: (5, 5), MAE in MW: 0.36740529419448636, RMSE in MW: 0.5515640890890418\n",
            "Processing turbine ID: (1, 1)\n",
            "Turbine ID: (1, 1), MAE in MW: 0.2809613431053692, RMSE in MW: 0.42380072048087297\n",
            "Processing turbine ID: (6, 18)\n",
            "Turbine ID: (6, 18), MAE in MW: 0.31747690488470925, RMSE in MW: 0.4869021111327148\n",
            "Processing turbine ID: (4, 3)\n",
            "Turbine ID: (4, 3), MAE in MW: 0.4085456211574872, RMSE in MW: 0.6088567178594257\n",
            "Processing turbine ID: (1, 8)\n",
            "Turbine ID: (1, 8), MAE in MW: 0.2056744636935658, RMSE in MW: 0.324329926975395\n",
            "Processing turbine ID: (1, 18)\n",
            "Turbine ID: (1, 18), MAE in MW: 0.2835819454375903, RMSE in MW: 0.4327071378296516\n",
            "Processing turbine ID: (4, 4)\n",
            "Turbine ID: (4, 4), MAE in MW: 0.4066624508118629, RMSE in MW: 0.6177912513746473\n",
            "Processing turbine ID: (3, 9)\n",
            "Turbine ID: (3, 9), MAE in MW: 0.32979848912159604, RMSE in MW: 0.48769741890853247\n",
            "Processing turbine ID: (2, 13)\n",
            "Turbine ID: (2, 13), MAE in MW: 0.2869429183210267, RMSE in MW: 0.44622565438005535\n",
            "Processing turbine ID: (1, 19)\n",
            "Turbine ID: (1, 19), MAE in MW: 0.2895221111876435, RMSE in MW: 0.4376271842179473\n",
            "Processing turbine ID: (2, 4)\n",
            "Turbine ID: (2, 4), MAE in MW: 0.2808888003341356, RMSE in MW: 0.4277213447981286\n",
            "Processing turbine ID: (4, 13)\n",
            "Turbine ID: (4, 13), MAE in MW: 0.3414335187035137, RMSE in MW: 0.5231502059416538\n",
            "Processing turbine ID: (6, 3)\n",
            "Turbine ID: (6, 3), MAE in MW: 0.3362575777628687, RMSE in MW: 0.5106995355173434\n",
            "Processing turbine ID: (2, 16)\n",
            "Turbine ID: (2, 16), MAE in MW: 0.2719731456597646, RMSE in MW: 0.41185263013660894\n",
            "Processing turbine ID: (5, 21)\n",
            "Turbine ID: (5, 21), MAE in MW: 0.3686105370569229, RMSE in MW: 0.5512692352482536\n",
            "Processing turbine ID: (3, 18)\n",
            "Turbine ID: (3, 18), MAE in MW: 0.30468468593703374, RMSE in MW: 0.4606611598943781\n",
            "Processing turbine ID: (2, 6)\n",
            "Turbine ID: (2, 6), MAE in MW: 0.19626316240045763, RMSE in MW: 0.306588321109264\n",
            "Processing turbine ID: (5, 20)\n",
            "Turbine ID: (5, 20), MAE in MW: 0.3675192057212194, RMSE in MW: 0.5496071328285754\n",
            "Processing turbine ID: (3, 16)\n",
            "Turbine ID: (3, 16), MAE in MW: 0.2553864267227385, RMSE in MW: 0.3888404984259803\n",
            "Processing turbine ID: (4, 14)\n",
            "Turbine ID: (4, 14), MAE in MW: 0.38641744232071773, RMSE in MW: 0.5783918705817318\n",
            "Processing turbine ID: (3, 13)\n",
            "Turbine ID: (3, 13), MAE in MW: 0.29796862529940077, RMSE in MW: 0.4500217176193672\n",
            "Processing turbine ID: (4, 17)\n",
            "Turbine ID: (4, 17), MAE in MW: 0.3246210319969389, RMSE in MW: 0.4992430071303689\n",
            "Processing turbine ID: (6, 16)\n",
            "Turbine ID: (6, 16), MAE in MW: 0.30955834450483327, RMSE in MW: 0.4767678169073922\n",
            "Processing turbine ID: (3, 20)\n",
            "Turbine ID: (3, 20), MAE in MW: 0.2870187216271295, RMSE in MW: 0.43339602539093636\n",
            "Processing turbine ID: (5, 18)\n",
            "Turbine ID: (5, 18), MAE in MW: 0.308080720855395, RMSE in MW: 0.46826280226220507\n",
            "Processing turbine ID: (6, 14)\n",
            "Turbine ID: (6, 14), MAE in MW: 0.2635837326163716, RMSE in MW: 0.4006753931004256\n",
            "Processing turbine ID: (6, 1)\n",
            "Turbine ID: (6, 1), MAE in MW: 0.2799305504544576, RMSE in MW: 0.4271188479326239\n",
            "Processing turbine ID: (2, 14)\n",
            "Turbine ID: (2, 14), MAE in MW: 0.2930100240182877, RMSE in MW: 0.44140022159665165\n",
            "Processing turbine ID: (5, 23)\n",
            "Turbine ID: (5, 23), MAE in MW: 0.37811575945032966, RMSE in MW: 0.5647701874894474\n",
            "Processing turbine ID: (6, 10)\n",
            "Turbine ID: (6, 10), MAE in MW: 0.32476008462667466, RMSE in MW: 0.4983386497091085\n",
            "Processing turbine ID: (6, 6)\n",
            "Turbine ID: (6, 6), MAE in MW: 0.3320773427861266, RMSE in MW: 0.5003611223125443\n",
            "Processing turbine ID: (5, 2)\n",
            "Turbine ID: (5, 2), MAE in MW: 0.34902655113286446, RMSE in MW: 0.5239509790701572\n",
            "Processing turbine ID: (5, 15)\n",
            "Turbine ID: (5, 15), MAE in MW: 0.32462414604266476, RMSE in MW: 0.4980590700701676\n",
            "Processing turbine ID: (6, 15)\n",
            "Turbine ID: (6, 15), MAE in MW: 0.2881861182457871, RMSE in MW: 0.43078838271786885\n",
            "Processing turbine ID: (5, 14)\n",
            "Turbine ID: (5, 14), MAE in MW: 0.3569990936030283, RMSE in MW: 0.5375558868760106\n",
            "Processing turbine ID: (3, 5)\n",
            "Turbine ID: (3, 5), MAE in MW: 0.31373589409536784, RMSE in MW: 0.4723158686484282\n",
            "Processing turbine ID: (5, 6)\n",
            "Turbine ID: (5, 6), MAE in MW: 0.3604613760709763, RMSE in MW: 0.5502632658185123\n",
            "Processing turbine ID: (2, 2)\n",
            "Turbine ID: (2, 2), MAE in MW: 0.22558543093178005, RMSE in MW: 0.3530677095554899\n",
            "Processing turbine ID: (1, 12)\n",
            "Turbine ID: (1, 12), MAE in MW: 0.31238142435206306, RMSE in MW: 0.47681737175914185\n",
            "Processing turbine ID: (1, 14)\n",
            "Turbine ID: (1, 14), MAE in MW: 0.3051604755859905, RMSE in MW: 0.47414676391253163\n",
            "Processing turbine ID: (5, 22)\n",
            "Turbine ID: (5, 22), MAE in MW: 0.3574873383572367, RMSE in MW: 0.5415458477640004\n",
            "Processing turbine ID: (4, 9)\n",
            "Turbine ID: (4, 9), MAE in MW: 0.4104401981767018, RMSE in MW: 0.6140688656908441\n",
            "Processing turbine ID: (4, 8)\n",
            "Turbine ID: (4, 8), MAE in MW: 0.4210158897225062, RMSE in MW: 0.6289919493444461\n",
            "Processing turbine ID: (6, 12)\n",
            "Turbine ID: (6, 12), MAE in MW: 0.29430951693190466, RMSE in MW: 0.4484829149048949\n",
            "Processing turbine ID: (1, 20)\n",
            "Turbine ID: (1, 20), MAE in MW: 0.29530522689951794, RMSE in MW: 0.4436434231399177\n",
            "Processing turbine ID: (3, 8)\n",
            "Turbine ID: (3, 8), MAE in MW: 0.3275931658066643, RMSE in MW: 0.4985022961566987\n",
            "Processing turbine ID: (2, 17)\n",
            "Turbine ID: (2, 17), MAE in MW: 0.26738816188865233, RMSE in MW: 0.408520786539601\n",
            "Processing turbine ID: (6, 4)\n",
            "Turbine ID: (6, 4), MAE in MW: 0.30599836549838383, RMSE in MW: 0.45460298483129796\n",
            "Processing turbine ID: (3, 6)\n",
            "Turbine ID: (3, 6), MAE in MW: 0.3189627846945657, RMSE in MW: 0.48293771913419875\n",
            "Processing turbine ID: (5, 13)\n",
            "Turbine ID: (5, 13), MAE in MW: 0.3427826827332708, RMSE in MW: 0.5237479126929822\n",
            "Processing turbine ID: (2, 15)\n",
            "Turbine ID: (2, 15), MAE in MW: 0.2959103021391232, RMSE in MW: 0.45040625298579223\n",
            "Processing turbine ID: (4, 23)\n",
            "Turbine ID: (4, 23), MAE in MW: 0.38702395059638556, RMSE in MW: 0.5773091752797079\n",
            "Processing turbine ID: (3, 10)\n",
            "Turbine ID: (3, 10), MAE in MW: 0.36645730563640594, RMSE in MW: 0.5367315276062425\n",
            "Processing turbine ID: (2, 21)\n",
            "Turbine ID: (2, 21), MAE in MW: 0.2803257840855916, RMSE in MW: 0.4227785697370332\n",
            "Processing turbine ID: (1, 2)\n",
            "Turbine ID: (1, 2), MAE in MW: 0.2303200546911028, RMSE in MW: 0.36094988480363893\n",
            "Processing turbine ID: (4, 7)\n",
            "Turbine ID: (4, 7), MAE in MW: 0.4358353681193458, RMSE in MW: 0.6435239151409694\n",
            "Processing turbine ID: (3, 22)\n",
            "Turbine ID: (3, 22), MAE in MW: 0.3115100262988938, RMSE in MW: 0.4729873375162774\n",
            "Processing turbine ID: (5, 17)\n",
            "Turbine ID: (5, 17), MAE in MW: 0.3225466819413502, RMSE in MW: 0.4970222725121254\n",
            "Processing turbine ID: (3, 3)\n",
            "Turbine ID: (3, 3), MAE in MW: 0.3020772406106525, RMSE in MW: 0.4522369098616345\n",
            "Processing turbine ID: (3, 21)\n",
            "Turbine ID: (3, 21), MAE in MW: 0.28073074898931716, RMSE in MW: 0.44245412613779567\n",
            "Processing turbine ID: (6, 20)\n",
            "Turbine ID: (6, 20), MAE in MW: 0.3284943242006832, RMSE in MW: 0.49291920723925103\n",
            "Processing turbine ID: (4, 16)\n",
            "Turbine ID: (4, 16), MAE in MW: 0.32136817460086603, RMSE in MW: 0.4897419724186981\n",
            "Processing turbine ID: (3, 11)\n",
            "Turbine ID: (3, 11), MAE in MW: 0.3574197879364756, RMSE in MW: 0.5334526925643805\n",
            "Processing turbine ID: (5, 4)\n",
            "Turbine ID: (5, 4), MAE in MW: 0.35338226568301523, RMSE in MW: 0.5215261454104998\n",
            "Processing turbine ID: (1, 11)\n",
            "Turbine ID: (1, 11), MAE in MW: 0.2660745344461335, RMSE in MW: 0.3986121288829763\n",
            "Processing turbine ID: (2, 1)\n",
            "Turbine ID: (2, 1), MAE in MW: 0.2834162582339181, RMSE in MW: 0.4249655631024807\n",
            "Processing turbine ID: (1, 16)\n",
            "Turbine ID: (1, 16), MAE in MW: 0.27282584332042276, RMSE in MW: 0.44670532246340067\n",
            "Processing turbine ID: (1, 3)\n",
            "Turbine ID: (1, 3), MAE in MW: 0.25843141074260073, RMSE in MW: 0.4112769888780797\n",
            "Processing turbine ID: (4, 12)\n",
            "Turbine ID: (4, 12), MAE in MW: 0.38912700487693147, RMSE in MW: 0.5916268164206023\n",
            "Processing turbine ID: (1, 15)\n",
            "Turbine ID: (1, 15), MAE in MW: 0.2866193338224623, RMSE in MW: 0.4422559370346325\n",
            "Processing turbine ID: (2, 19)\n",
            "Turbine ID: (2, 19), MAE in MW: 0.29689887240754226, RMSE in MW: 0.4559871630657968\n",
            "Processing turbine ID: (2, 5)\n",
            "Turbine ID: (2, 5), MAE in MW: 0.18559436959875952, RMSE in MW: 0.2873638114202443\n",
            "Processing turbine ID: (4, 5)\n",
            "Turbine ID: (4, 5), MAE in MW: 0.4141825193900532, RMSE in MW: 0.6247945351821845\n",
            "Processing turbine ID: (4, 24)\n",
            "Turbine ID: (4, 24), MAE in MW: 0.3882822675747342, RMSE in MW: 0.58337529262359\n",
            "Processing turbine ID: (2, 9)\n",
            "Turbine ID: (2, 9), MAE in MW: 0.2506381500477261, RMSE in MW: 0.38220585108963895\n",
            "Processing turbine ID: (2, 12)\n",
            "Turbine ID: (2, 12), MAE in MW: 0.28827619548479716, RMSE in MW: 0.4406922259166731\n",
            "Processing turbine ID: (1, 13)\n",
            "Turbine ID: (1, 13), MAE in MW: 0.3059362917908032, RMSE in MW: 0.46988504274019005\n",
            "Processing turbine ID: (4, 1)\n",
            "Turbine ID: (4, 1), MAE in MW: 0.4118172115633222, RMSE in MW: 0.6150285975054218\n",
            "Processing turbine ID: (4, 18)\n",
            "Turbine ID: (4, 18), MAE in MW: 0.33735566444449955, RMSE in MW: 0.5150334197211366\n",
            "Processing turbine ID: (6, 17)\n",
            "Turbine ID: (6, 17), MAE in MW: 0.31486437979115384, RMSE in MW: 0.48393122056138993\n",
            "Processing turbine ID: (4, 6)\n",
            "Turbine ID: (4, 6), MAE in MW: 0.3789788477881749, RMSE in MW: 0.5760511060090084\n",
            "Processing turbine ID: (2, 20)\n",
            "Turbine ID: (2, 20), MAE in MW: 0.25668669297271307, RMSE in MW: 0.3925520434778883\n",
            "Processing turbine ID: (3, 14)\n",
            "Turbine ID: (3, 14), MAE in MW: 0.31277964678578907, RMSE in MW: 0.4762218031369413\n",
            "Processing turbine ID: (1, 4)\n",
            "Turbine ID: (1, 4), MAE in MW: 0.27594753324959015, RMSE in MW: 0.4149232287662778\n",
            "Processing turbine ID: (1, 10)\n",
            "Turbine ID: (1, 10), MAE in MW: 0.29824869134267173, RMSE in MW: 0.4497137841187028\n",
            "Processing turbine ID: (2, 3)\n",
            "Turbine ID: (2, 3), MAE in MW: 0.24511023399670923, RMSE in MW: 0.37787459964536824\n",
            "Processing turbine ID: (5, 9)\n",
            "Turbine ID: (5, 9), MAE in MW: 0.37663641393820446, RMSE in MW: 0.575636210236343\n",
            "Processing turbine ID: (6, 8)\n",
            "Turbine ID: (6, 8), MAE in MW: 0.34481519241624414, RMSE in MW: 0.5159927821206728\n",
            "Processing turbine ID: (5, 11)\n",
            "Turbine ID: (5, 11), MAE in MW: 0.40020022083441414, RMSE in MW: 0.5962727126166046\n",
            "Processing turbine ID: (5, 12)\n",
            "Turbine ID: (5, 12), MAE in MW: 0.3408087640563647, RMSE in MW: 0.5260831415140717\n",
            "Processing turbine ID: (5, 10)\n",
            "Turbine ID: (5, 10), MAE in MW: 0.3956649212694168, RMSE in MW: 0.5906305278086815\n",
            "Processing turbine ID: (3, 2)\n",
            "Turbine ID: (3, 2), MAE in MW: 0.2849361636522081, RMSE in MW: 0.4267779123292499\n",
            "Processing turbine ID: (3, 7)\n",
            "Turbine ID: (3, 7), MAE in MW: 0.3180686563666661, RMSE in MW: 0.4787134957884023\n",
            "Processing turbine ID: (2, 18)\n",
            "Turbine ID: (2, 18), MAE in MW: 0.2820661637809541, RMSE in MW: 0.42555661433278225\n",
            "Processing turbine ID: (5, 8)\n",
            "Turbine ID: (5, 8), MAE in MW: 0.3630065443595252, RMSE in MW: 0.5577463694907254\n",
            "Processing turbine ID: (6, 19)\n",
            "Turbine ID: (6, 19), MAE in MW: 0.32149510838482115, RMSE in MW: 0.4905400140284582\n",
            "Processing turbine ID: (1, 5)\n",
            "Turbine ID: (1, 5), MAE in MW: 0.2644378978183534, RMSE in MW: 0.4045332894694817\n",
            "Processing turbine ID: (6, 7)\n",
            "Turbine ID: (6, 7), MAE in MW: 0.322773360836241, RMSE in MW: 0.4928555047906084\n",
            "Processing turbine ID: (4, 10)\n",
            "Turbine ID: (4, 10), MAE in MW: 0.40039079195075566, RMSE in MW: 0.59838205605586\n",
            "Processing turbine ID: (1, 9)\n",
            "Turbine ID: (1, 9), MAE in MW: 0.18387055136150784, RMSE in MW: 0.2828822645085335\n",
            "Processing turbine ID: (4, 20)\n",
            "Turbine ID: (4, 20), MAE in MW: 0.35216603098577925, RMSE in MW: 0.5328978485801276\n",
            "Processing turbine ID: (4, 21)\n",
            "Turbine ID: (4, 21), MAE in MW: 0.3372031411955092, RMSE in MW: 0.5170191423645671\n",
            "Processing turbine ID: (1, 21)\n",
            "Turbine ID: (1, 21), MAE in MW: 0.2906509149490462, RMSE in MW: 0.439257509679346\n",
            "Processing turbine ID: (1, 17)\n",
            "Turbine ID: (1, 17), MAE in MW: 0.28107604730870994, RMSE in MW: 0.42830202040087845\n",
            "Processing turbine ID: (6, 13)\n",
            "Turbine ID: (6, 13), MAE in MW: 0.30274470042732027, RMSE in MW: 0.4722947174180016\n",
            "Processing turbine ID: (5, 16)\n",
            "Turbine ID: (5, 16), MAE in MW: 0.32722692282941607, RMSE in MW: 0.4972679197787231\n",
            "Processing turbine ID: (2, 7)\n",
            "Turbine ID: (2, 7), MAE in MW: 0.2671029564065403, RMSE in MW: 0.4244225769541401\n",
            "Processing turbine ID: (2, 11)\n",
            "Turbine ID: (2, 11), MAE in MW: 0.3003457709884643, RMSE in MW: 0.45669146694237944\n",
            "Processing turbine ID: (4, 15)\n",
            "Turbine ID: (4, 15), MAE in MW: 0.3849349781338374, RMSE in MW: 0.576113110763913\n",
            "Processing turbine ID: (3, 15)\n",
            "Turbine ID: (3, 15), MAE in MW: 0.278522801056438, RMSE in MW: 0.4323186811947914\n",
            "Processing turbine ID: (6, 5)\n",
            "Turbine ID: (6, 5), MAE in MW: 0.32234238869229953, RMSE in MW: 0.48102864973822396\n",
            "Processing turbine ID: (3, 19)\n",
            "Turbine ID: (3, 19), MAE in MW: 0.30464387457662156, RMSE in MW: 0.4567609751484455\n",
            "Processing turbine ID: (6, 2)\n",
            "Turbine ID: (6, 2), MAE in MW: 0.3057966079362234, RMSE in MW: 0.4593222861710846\n",
            "Processing turbine ID: (3, 12)\n",
            "Turbine ID: (3, 12), MAE in MW: 0.2754850860060586, RMSE in MW: 0.4080939512354187\n",
            "Processing turbine ID: (3, 17)\n",
            "Turbine ID: (3, 17), MAE in MW: 0.27606516453742985, RMSE in MW: 0.42114643154986664\n",
            "Processing turbine ID: (4, 22)\n",
            "Turbine ID: (4, 22), MAE in MW: 0.3587846529489094, RMSE in MW: 0.5393401116489149\n",
            "Processing turbine ID: (2, 10)\n",
            "Turbine ID: (2, 10), MAE in MW: 0.24850958903868994, RMSE in MW: 0.3817543448102518\n",
            "Processing turbine ID: (3, 1)\n",
            "Turbine ID: (3, 1), MAE in MW: 0.3014325537472301, RMSE in MW: 0.4542694389066872\n",
            "Processing turbine ID: (6, 21)\n",
            "Turbine ID: (6, 21), MAE in MW: 0.319297159752316, RMSE in MW: 0.48667862794561506\n",
            "Processing turbine ID: (1, 6)\n",
            "Turbine ID: (1, 6), MAE in MW: 0.2846387348726061, RMSE in MW: 0.43220160713329575\n",
            "Processing turbine ID: (5, 1)\n",
            "Turbine ID: (5, 1), MAE in MW: 0.2638559622017543, RMSE in MW: 0.4333459012203445\n",
            "Processing turbine ID: (5, 3)\n",
            "Turbine ID: (5, 3), MAE in MW: 0.352516727657583, RMSE in MW: 0.5464755104738545\n",
            "Processing turbine ID: (4, 2)\n",
            "Turbine ID: (4, 2), MAE in MW: 0.3963258873960707, RMSE in MW: 0.5990369507627625\n",
            "Processing turbine ID: (1, 7)\n",
            "Turbine ID: (1, 7), MAE in MW: 0.24731902967453004, RMSE in MW: 0.3789505619001149\n",
            "Processing turbine ID: (1, 22)\n",
            "Turbine ID: (1, 22), MAE in MW: 0.21427619218243493, RMSE in MW: 0.3325960437141837\n",
            "Processing turbine ID: (4, 11)\n",
            "Turbine ID: (4, 11), MAE in MW: 0.3189566606420941, RMSE in MW: 0.48497361049911086\n",
            "Processing turbine ID: (4, 19)\n",
            "Turbine ID: (4, 19), MAE in MW: 0.32896129218313425, RMSE in MW: 0.49979451166916267\n",
            "Processing turbine ID: (2, 22)\n",
            "Turbine ID: (2, 22), MAE in MW: 0.2837731955329577, RMSE in MW: 0.4268018502057682\n",
            "Processing turbine ID: (3, 4)\n",
            "Turbine ID: (3, 4), MAE in MW: 0.22516751750098335, RMSE in MW: 0.3515904582408168\n",
            "Processing turbine ID: (6, 11)\n",
            "Turbine ID: (6, 11), MAE in MW: 0.2758857037981351, RMSE in MW: 0.4224566686015803\n",
            "Processing turbine ID: (5, 7)\n",
            "Turbine ID: (5, 7), MAE in MW: 0.34968186801724965, RMSE in MW: 0.5573039370695925\n",
            "Processing turbine ID: (6, 9)\n",
            "Turbine ID: (6, 9), MAE in MW: 0.359821551359627, RMSE in MW: 0.5405401720045717\n",
            "Processing turbine ID: (5, 19)\n",
            "Turbine ID: (5, 19), MAE in MW: 0.32038689021706585, RMSE in MW: 0.47755553756758534\n",
            "Processing turbine ID: (2, 8)\n",
            "Turbine ID: (2, 8), MAE in MW: 0.29696898007233935, RMSE in MW: 0.4161807533398257\n",
            "\n",
            "Final MAE in Megawatts: 42.10570707859239\n",
            "Final RMSE in Megawatts: 63.93115318850954\n"
          ]
        }
      ]
    },
    {
      "cell_type": "code",
      "source": [
        "len(predictions_flat)"
      ],
      "metadata": {
        "colab": {
          "base_uri": "https://localhost:8080/"
        },
        "id": "kEoyqoHiih_b",
        "outputId": "ab5c3c73-0f15-4b45-9c09-64c0965ef865"
      },
      "id": "kEoyqoHiih_b",
      "execution_count": 62,
      "outputs": [
        {
          "output_type": "execute_result",
          "data": {
            "text/plain": [
              "38592"
            ]
          },
          "metadata": {},
          "execution_count": 62
        }
      ]
    },
    {
      "cell_type": "code",
      "source": [
        "len(mae_per_turbine_mw.values())"
      ],
      "metadata": {
        "colab": {
          "base_uri": "https://localhost:8080/"
        },
        "id": "uGRPV1m8c83C",
        "outputId": "65c8105a-cdc6-41d7-ef0f-3a5a315d5ca0"
      },
      "id": "uGRPV1m8c83C",
      "execution_count": 63,
      "outputs": [
        {
          "output_type": "execute_result",
          "data": {
            "text/plain": [
              "134"
            ]
          },
          "metadata": {},
          "execution_count": 63
        }
      ]
    }
  ],
  "metadata": {
    "colab": {
      "collapsed_sections": [
        "KrlXWXX_82rr",
        "i5eqUJS_8-JU",
        "_4sjTCvj4Kao",
        "kjcBhjIf4MzK",
        "VDoTrIVS3fpD",
        "5xsY2rwqF1ep",
        "R5Y0AXzq0sjO",
        "Rd6UnSbn3-c6",
        "yYceVG5wB03l",
        "lDgan5-AB8w1",
        "hsuiOFCjx2Gt",
        "0effbf2d-dbb4-4ac2-8b43-a94452da192d"
      ],
      "provenance": [],
      "gpuType": "T4"
    },
    "kernelspec": {
      "display_name": "Python 3 (ipykernel)",
      "language": "python",
      "name": "python3"
    },
    "language_info": {
      "codemirror_mode": {
        "name": "ipython",
        "version": 3
      },
      "file_extension": ".py",
      "mimetype": "text/x-python",
      "name": "python",
      "nbconvert_exporter": "python",
      "pygments_lexer": "ipython3",
      "version": "3.9.13"
    },
    "gpuClass": "standard",
    "accelerator": "GPU"
  },
  "nbformat": 4,
  "nbformat_minor": 5
}